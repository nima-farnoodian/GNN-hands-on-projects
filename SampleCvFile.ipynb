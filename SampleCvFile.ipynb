{
 "cells": [
  {
   "cell_type": "code",
   "execution_count": 44,
   "metadata": {},
   "outputs": [],
   "source": [
    "import json\n",
    "import pprint\n",
    "import lexnlp.extract.en.dates\n",
    "import datetime\n",
    "import time\n",
    "from geopy import geocoders  \n",
    "import pandas as pd"
   ]
  },
  {
   "cell_type": "code",
   "execution_count": 23,
   "metadata": {},
   "outputs": [],
   "source": [
    "def get_time(string):\n",
    "    date=[]\n",
    "    strings=string.split(\"-\")\n",
    "    for s in strings:\n",
    "        date=date+list(lexnlp.extract.en.dates.get_dates(s))\n",
    "    return date"
   ]
  },
  {
   "cell_type": "code",
   "execution_count": 3,
   "metadata": {},
   "outputs": [],
   "source": [
    "f = open(\"cv1.json\")\n",
    "user1=json.load(f)"
   ]
  },
  {
   "cell_type": "code",
   "execution_count": 4,
   "metadata": {},
   "outputs": [
    {
     "data": {
      "text/plain": [
       "dict_keys(['email', 'language', 'basic info', 'summary', 'experience', 'education', 'contact', 'topskills', 'languages', 'certification', 'honors-awards', 'publications', 'business', 'skills_exp', 'jobtitle_data', 'top_skills_found', 'desc_skills_found', 'first_name', 'last_name', 'linkedin_url', 'phone'])"
      ]
     },
     "execution_count": 4,
     "metadata": {},
     "output_type": "execute_result"
    }
   ],
   "source": [
    "user1.keys()"
   ]
  },
  {
   "cell_type": "code",
   "execution_count": 5,
   "metadata": {},
   "outputs": [
    {
     "name": "stdout",
     "output_type": "stream",
     "text": [
      "{'basic info': '\\nData Engineer\\nBrussels, Brussels Capital Region, Belgium\\n',\n",
      " 'business': ['',\n",
      "              '',\n",
      "              'UniversitÃ© libre de Bruxelles',\n",
      "              'University of Utah',\n",
      "              'CentraleSupÃ©lec',\n",
      "              'COMAG ENGINEERING S.R.L.',\n",
      "              'Master Degree Thesis',\n",
      "              'Energy Engineering University of Benevento',\n",
      "              'Benevento\\\\\\\\s University',\n",
      "              'Motors Institute, National Research Center, Naples'],\n",
      " 'certification': '\\nISE III - Trinity College\\n',\n",
      " 'contact': '\\n'\n",
      "            'janmail1990@gmail.com\\n'\n",
      "            '\\n'\n",
      "            'www.linkedin.com/in/gianmarco-\\n'\n",
      "            'aversano-a141199a (LinkedIn)\\n',\n",
      " 'desc_skills_found': ['java',\n",
      "                       'python',\n",
      "                       'machine learning',\n",
      "                       'c++',\n",
      "                       'management',\n",
      "                       'data analysis',\n",
      "                       'matlab',\n",
      "                       'programming',\n",
      "                       'engineering',\n",
      "                       'algorithms',\n",
      "                       'computer science',\n",
      "                       'computer',\n",
      "                       'analysis',\n",
      "                       'bash',\n",
      "                       'energy',\n",
      "                       'science',\n",
      "                       'numerical analysis',\n",
      "                       'design',\n",
      "                       'fortran',\n",
      "                       'r programming',\n",
      "                       'data science',\n",
      "                       'amazon web services',\n",
      "                       'security',\n",
      "                       'web services',\n",
      "                       'research',\n",
      "                       'neural networks',\n",
      "                       'artificial neural networks',\n",
      "                       'engineers',\n",
      "                       'mechanical engineering',\n",
      "                       'software'],\n",
      " 'education': {'[\"\\'Ecole Centrale Paris\", \"Doctor of Philosophy (Ph.D.),Industrial EngineeringÂ·(2016-2017)\\' \"]': '  ',\n",
      "               '[\"\\'Liceo Scientifico\", \"High School,MathematicsÂ·(2004-2009)\\' \"]': '     ',\n",
      "               '[\\'\"UniversitÃ\\xa0 degli Studi del Sannio-Benevento\\', \\'Bachelor\\\\\\'s Degree,Energy EngineeringÂ·(2009-2012)\" \\']': '  ',\n",
      "               '[\\'\"UniversitÃ\\xa0 degli Studi del Sannio-Benevento\\', \\'Master\\\\\\'s Degree,Energy EngineeringÂ·(2013-2015)\" \\']': '  ',\n",
      "               '[\\'UniversitÃ© libre de Bruxelles\\', \"Doctor of Philosophy (Ph.D.),Industrial EngineeringÂ·(2015-2018)\\' \"]': '  '},\n",
      " 'email': '*****@gmail.com',\n",
      " 'experience': [{'description': '',\n",
      "                 'period': 'October 2019-Present(6 months)',\n",
      "                 'place': 'Brussels Area, Belgium   ',\n",
      "                 'role': 'Data Engineer'},\n",
      "                {'description': 'As part of the Innovation department, I '\n",
      "                                'support the data science team in the '\n",
      "                                'definition, security and maintenance of their '\n",
      "                                'data pipelines on Amazon Web Services.',\n",
      "                 'period': 'October 2019-Present(6 months)',\n",
      "                 'place': 'Brussels Area, Belgium',\n",
      "                 'role': 'Consultant'},\n",
      "                {'description': '',\n",
      "                 'period': 'October 2015-October 2019(4 years 1 month)',\n",
      "                 'place': '',\n",
      "                 'role': 'PHD Researcher'},\n",
      "                {'description': '  Use of Supervised and Unsupervised Machine '\n",
      "                                'Learning techniques such as Principal '\n",
      "                                'Component Analysis (PCA), Gaussian Pro- cess '\n",
      "                                'Regression (GPR), Polynomial Chaos Expansion '\n",
      "                                '(PCE), Artificial Neural Networks (ANN), '\n",
      "                                'Independent Component Analysis (ICA), Non- '\n",
      "                                'negative Matrix Factorization (NMF), data '\n",
      "                                'clustering and classification methods for '\n",
      "                                'feature extraction, data analysis, '\n",
      "                                'development of digital twins and of surrogate '\n",
      "                                'models for combustion and Computational Fluid '\n",
      "                                'Dynamics (CFD) data.',\n",
      "                 'period': 'July 2017-October 2017(4 months)',\n",
      "                 'place': 'Greater Salt Lake City Area   ',\n",
      "                 'role': 'PHD Researcher'},\n",
      "                {'description': '',\n",
      "                 'period': 'October 2016-July 2017(10 months)',\n",
      "                 'place': 'Paris Area, France   ',\n",
      "                 'role': 'PHD Researcher'},\n",
      "                {'description': '',\n",
      "                 'period': 'July 2015-August 2015(2 months)',\n",
      "                 'place': 'Lazio, Italy   ',\n",
      "                 'role': 'Internship'},\n",
      "                {'description': '',\n",
      "                 'period': 'December 2014-May 2015(6 months)',\n",
      "                 'place': '',\n",
      "                 'role': 'Model reduction of reacting flows via POD/Galerkin '\n",
      "                         'method'},\n",
      "                {'description': '  Build a reduced-order model for the '\n",
      "                                'simulation of a 1-D flame.',\n",
      "                 'period': 'October 2009-May 2015(5 years 8 months)',\n",
      "                 'place': '',\n",
      "                 'role': 'Student'},\n",
      "                {'description': '  Beneventos University Electrical Engineer '\n",
      "                                'October 2012-January 2013(4 months)  I '\n",
      "                                'co-worked with experienced Electrical '\n",
      "                                'Engineers for the design of a Low Voltage '\n",
      "                                'Industrial Power System. I evaluated the '\n",
      "                                'system layout, the industrial          plant '\n",
      "                                'layout, the optimized cross section area of '\n",
      "                                'the electrical cables, and chose the adequate '\n",
      "                                'protection system for the case, guaranteeing '\n",
      "                                'selectivity and promptness.',\n",
      "                 'period': 'October 2012-January 2013(4 months)',\n",
      "                 'place': '',\n",
      "                 'role': 'Electrical Engineer'},\n",
      "                {'description': '  I was responsible for carrying out numerous '\n",
      "                                'tests on an Diesel internal- combustion '\n",
      "                                'engine through optical approach.   I '\n",
      "                                'collected visual and optical data about the '\n",
      "                                'injection and combustion cycle of the Diesel '\n",
      "                                'engine, and focused on the effect of fuel '\n",
      "                                'spray jet penetration and shape on the '\n",
      "                                'engines pressure-cycle, heat-release rate and '\n",
      "                                'performance.  Analysis on the shape of the '\n",
      "                                'fuel jets was made possible by the \"Active '\n",
      "                                'Contours\" method, implemented on Software in '\n",
      "                                'order to automatically detect the contours of '\n",
      "                                'the sprays jets and reduce the subjectivity '\n",
      "                                'of the analysis.',\n",
      "                 'period': 'June 2012-July 2012(2 months)',\n",
      "                 'place': '',\n",
      "                 'role': 'Mechanical Engineering Apprentice'}],\n",
      " 'first_name': 'name1',\n",
      " 'honors-awards': [],\n",
      " 'jobtitle_data': [['engineering', 1],\n",
      "                   ['engineer', 1],\n",
      "                   ['student', 6],\n",
      "                   ['intern', 1],\n",
      "                   ['phd researcher', 1],\n",
      "                   ['phd researcher', 1],\n",
      "                   ['phd researcher', 4],\n",
      "                   ['consultant', 2],\n",
      "                   ['data engineer ', 2]],\n",
      " 'language': 'english',\n",
      " 'languages': ['french', 'english', 'spanish'],\n",
      " 'last_name': 'Family1',\n",
      " 'linkedin_url': 'https://www.linkedin.com/in/*****',\n",
      " 'phone': '+32467058827',\n",
      " 'publications': '\\n'\n",
      "                 'Application of reduced-order models\\n'\n",
      "                 'based on PCA & Kriging for the\\n'\n",
      "                 'development of digital twins of\\n'\n",
      "                 'reacting flow applications\\n'\n",
      "                 'PCA and Kriging for the efficient\\n'\n",
      "                 'exploration of consistency regions in\\n'\n",
      "                 'Uncertainty Quantification\\n'\n",
      "                 'Feature extraction and reduced-\\n'\n",
      "                 'order modelling of nitrogen plasma\\n'\n",
      "                 'models using principal component\\n'\n",
      "                 'analysis\\n',\n",
      " 'skills_exp': ['java',\n",
      "                'python',\n",
      "                'machine learning',\n",
      "                'c++',\n",
      "                'management',\n",
      "                'data analysis',\n",
      "                'matlab',\n",
      "                'programming',\n",
      "                'engineering',\n",
      "                'algorithms',\n",
      "                'computer science',\n",
      "                'computer',\n",
      "                'analysis',\n",
      "                'bash',\n",
      "                'energy',\n",
      "                'science',\n",
      "                'numerical analysis',\n",
      "                'design',\n",
      "                'fortran',\n",
      "                'r programming',\n",
      "                'data science',\n",
      "                'amazon web services',\n",
      "                'security',\n",
      "                'web services',\n",
      "                'research',\n",
      "                'neural networks',\n",
      "                'artificial neural networks',\n",
      "                'engineers',\n",
      "                'mechanical engineering',\n",
      "                'software'],\n",
      " 'summary': '\\n'\n",
      "            'PhD: combining dimensionality reduction techniques such as\\n'\n",
      "            'PCA with Gaussian Process Regression for the development of\\n'\n",
      "            'Reduced-Order Surrogate Models, daily working on topics such\\n'\n",
      "            'as Programming, Data Analysis, Computer Science and Machine\\n'\n",
      "            'Learning.\\n'\n",
      "            '\\n'\n",
      "            'Focused on Machine Learning algorithms, Programming (C++,\\n'\n",
      "            'Python, Fortran, Matlab, Bash, Java, mainly) and Data Analysis.\\n'\n",
      "            '\\n'\n",
      "            'Education:\\n'\n",
      "            'I graduated in Energy Engineering at Unisannio in Benevento, and\\n'\n",
      "            'I hold a PhD obtained at UniversitÃ© Libre de Bruxelles and at '\n",
      "            'Ã‰cole\\n'\n",
      "            'Centrale Paris, with a collaboration with the University of '\n",
      "            'Utah. \\n'\n",
      "            'During my studies I focused on thermal phenomena and analysis\\n'\n",
      "            'for industrial purposes, numerical analysis and multi-objective\\n'\n",
      "            'constrained non linear programming, design and management\\n'\n",
      "            'of industrial chemical processes, electrical and power system\\n'\n",
      "            'management and design for high, medium and low voltages,\\n'\n",
      "            'including HVDC.\\n',\n",
      " 'top_skills_found': ['Matlab', 'Microsoft Excel', 'Numerical Analysis'],\n",
      " 'topskills': ['Matlab', 'Microsoft Excel', 'Numerical Analysis']}\n"
     ]
    }
   ],
   "source": [
    "pprint.pprint(user1)"
   ]
  },
  {
   "cell_type": "code",
   "execution_count": null,
   "metadata": {},
   "outputs": [],
   "source": []
  },
  {
   "cell_type": "code",
   "execution_count": 6,
   "metadata": {},
   "outputs": [
    {
     "name": "stdout",
     "output_type": "stream",
     "text": [
      "[datetime.date(2020, 3, 15)]\n"
     ]
    }
   ],
   "source": [
    "text = \"This agreement shall terminate on the 15th day of March, 2020.\"\n",
    "print(list(lexnlp.extract.en.dates.get_dates(text)))"
   ]
  },
  {
   "cell_type": "code",
   "execution_count": 7,
   "metadata": {},
   "outputs": [
    {
     "name": "stdout",
     "output_type": "stream",
     "text": [
      "[datetime.date(2020, 3, 15), datetime.date(2020, 3, 15)]\n"
     ]
    }
   ],
   "source": [
    "text = \"This agreement shall terminate on the 15th day of March, 2020. This agreement shall terminate on the 15th day of March, 2020.\"\n",
    "print(list(lexnlp.extract.en.dates.get_dates(text)))"
   ]
  },
  {
   "cell_type": "code",
   "execution_count": 8,
   "metadata": {},
   "outputs": [
    {
     "name": "stdout",
     "output_type": "stream",
     "text": [
      "[]\n"
     ]
    }
   ],
   "source": [
    "text='October 2015-October 2019(4 years 1 month)'\n",
    "print(list(lexnlp.extract.en.dates.get_dates(text)))"
   ]
  },
  {
   "cell_type": "code",
   "execution_count": 9,
   "metadata": {},
   "outputs": [
    {
     "name": "stdout",
     "output_type": "stream",
     "text": [
      "[datetime.date(2019, 10, 1)]\n"
     ]
    }
   ],
   "source": [
    "text='October 2019-Present(6 months)'\n",
    "print(list(lexnlp.extract.en.dates.get_dates(text)))"
   ]
  },
  {
   "cell_type": "code",
   "execution_count": 10,
   "metadata": {},
   "outputs": [
    {
     "data": {
      "text/plain": [
       "['french', 'english', 'spanish']"
      ]
     },
     "execution_count": 10,
     "metadata": {},
     "output_type": "execute_result"
    }
   ],
   "source": [
    "user1[\"languages\"]"
   ]
  },
  {
   "cell_type": "code",
   "execution_count": 11,
   "metadata": {},
   "outputs": [
    {
     "data": {
      "text/plain": [
       "{'[\\'UniversitÃ© libre de Bruxelles\\', \"Doctor of Philosophy (Ph.D.),Industrial EngineeringÂ·(2015-2018)\\' \"]': '  ',\n",
       " '[\"\\'Ecole Centrale Paris\", \"Doctor of Philosophy (Ph.D.),Industrial EngineeringÂ·(2016-2017)\\' \"]': '  ',\n",
       " '[\\'\"UniversitÃ\\xa0 degli Studi del Sannio-Benevento\\', \\'Master\\\\\\'s Degree,Energy EngineeringÂ·(2013-2015)\" \\']': '  ',\n",
       " '[\\'\"UniversitÃ\\xa0 degli Studi del Sannio-Benevento\\', \\'Bachelor\\\\\\'s Degree,Energy EngineeringÂ·(2009-2012)\" \\']': '  ',\n",
       " '[\"\\'Liceo Scientifico\", \"High School,MathematicsÂ·(2004-2009)\\' \"]': '     '}"
      ]
     },
     "execution_count": 11,
     "metadata": {},
     "output_type": "execute_result"
    }
   ],
   "source": [
    "user1[\"education\"]"
   ]
  },
  {
   "cell_type": "code",
   "execution_count": 12,
   "metadata": {},
   "outputs": [
    {
     "data": {
      "text/plain": [
       "['java',\n",
       " 'python',\n",
       " 'machine learning',\n",
       " 'c++',\n",
       " 'management',\n",
       " 'data analysis',\n",
       " 'matlab',\n",
       " 'programming',\n",
       " 'engineering',\n",
       " 'algorithms',\n",
       " 'computer science',\n",
       " 'computer',\n",
       " 'analysis',\n",
       " 'bash',\n",
       " 'energy',\n",
       " 'science',\n",
       " 'numerical analysis',\n",
       " 'design',\n",
       " 'fortran',\n",
       " 'r programming',\n",
       " 'data science',\n",
       " 'amazon web services',\n",
       " 'security',\n",
       " 'web services',\n",
       " 'research',\n",
       " 'neural networks',\n",
       " 'artificial neural networks',\n",
       " 'engineers',\n",
       " 'mechanical engineering',\n",
       " 'software']"
      ]
     },
     "execution_count": 12,
     "metadata": {},
     "output_type": "execute_result"
    }
   ],
   "source": [
    "user1['desc_skills_found']"
   ]
  },
  {
   "cell_type": "code",
   "execution_count": 27,
   "metadata": {},
   "outputs": [
    {
     "data": {
      "text/plain": [
       "[{'role': 'Data Engineer',\n",
       "  'period': 'October 2019-Present(6 months)',\n",
       "  'place': 'Brussels Area, Belgium   ',\n",
       "  'description': ''},\n",
       " {'role': 'Consultant',\n",
       "  'period': 'October 2019-Present(6 months)',\n",
       "  'place': 'Brussels Area, Belgium',\n",
       "  'description': 'As part of the Innovation department, I support the data science team in the definition, security and maintenance of their data pipelines on Amazon Web Services.'},\n",
       " {'role': 'PHD Researcher',\n",
       "  'period': 'October 2015-October 2019(4 years 1 month)',\n",
       "  'place': '',\n",
       "  'description': ''},\n",
       " {'role': 'PHD Researcher',\n",
       "  'period': 'July 2017-October 2017(4 months)',\n",
       "  'place': 'Greater Salt Lake City Area   ',\n",
       "  'description': '  Use of Supervised and Unsupervised Machine Learning techniques such as Principal Component Analysis (PCA), Gaussian Pro- cess Regression (GPR), Polynomial Chaos Expansion (PCE), Artificial Neural Networks (ANN), Independent Component Analysis (ICA), Non- negative Matrix Factorization (NMF), data clustering and classification methods for feature extraction, data analysis, development of digital twins and of surrogate models for combustion and Computational Fluid Dynamics (CFD) data.'},\n",
       " {'role': 'PHD Researcher',\n",
       "  'period': 'October 2016-July 2017(10 months)',\n",
       "  'place': 'Paris Area, France   ',\n",
       "  'description': ''},\n",
       " {'role': 'Internship',\n",
       "  'period': 'July 2015-August 2015(2 months)',\n",
       "  'place': 'Lazio, Italy   ',\n",
       "  'description': ''},\n",
       " {'role': 'Model reduction of reacting flows via POD/Galerkin method',\n",
       "  'period': 'December 2014-May 2015(6 months)',\n",
       "  'place': '',\n",
       "  'description': ''},\n",
       " {'role': 'Student',\n",
       "  'period': 'October 2009-May 2015(5 years 8 months)',\n",
       "  'place': '',\n",
       "  'description': '  Build a reduced-order model for the simulation of a 1-D flame.'},\n",
       " {'role': 'Electrical Engineer',\n",
       "  'period': 'October 2012-January 2013(4 months)',\n",
       "  'place': '',\n",
       "  'description': '  Beneventos University Electrical Engineer October 2012-January 2013(4 months)  I co-worked with experienced Electrical Engineers for the design of a Low Voltage Industrial Power System. I evaluated the system layout, the industrial          plant layout, the optimized cross section area of the electrical cables, and chose the adequate protection system for the case, guaranteeing selectivity and promptness.'},\n",
       " {'role': 'Mechanical Engineering Apprentice',\n",
       "  'period': 'June 2012-July 2012(2 months)',\n",
       "  'place': '',\n",
       "  'description': '  I was responsible for carrying out numerous tests on an Diesel internal- combustion engine through optical approach.   I collected visual and optical data about the injection and combustion cycle of the Diesel engine, and focused on the effect of fuel spray jet penetration and shape on the engines pressure-cycle, heat-release rate and performance.  Analysis on the shape of the fuel jets was made possible by the \"Active Contours\" method, implemented on Software in order to automatically detect the contours of the sprays jets and reduce the subjectivity of the analysis.'}]"
      ]
     },
     "execution_count": 27,
     "metadata": {},
     "output_type": "execute_result"
    }
   ],
   "source": [
    "user1['experience']"
   ]
  },
  {
   "cell_type": "code",
   "execution_count": 51,
   "metadata": {},
   "outputs": [],
   "source": [
    "gn = geocoders.GeoNames(username=\"nima.farnoodian\")\n",
    "rs=gn.geocode(\"Cleveland, OH 44106\")"
   ]
  },
  {
   "cell_type": "code",
   "execution_count": 54,
   "metadata": {},
   "outputs": [
    {
     "data": {
      "text/plain": [
       "41.4995"
      ]
     },
     "execution_count": 54,
     "metadata": {},
     "output_type": "execute_result"
    }
   ],
   "source": [
    "rs.latitude\n",
    "rs.longitude"
   ]
  },
  {
   "cell_type": "code",
   "execution_count": 27,
   "metadata": {},
   "outputs": [
    {
     "name": "stdout",
     "output_type": "stream",
     "text": [
      "October 2019-Present(6 months) [datetime.date(2019, 10, 1)] [1569880800.0]\n",
      "October 2019-Present(6 months) [datetime.date(2019, 10, 1)] [1569880800.0]\n",
      "October 2015-October 2019(4 years 1 month) [datetime.date(2015, 10, 1), datetime.date(2019, 10, 1)] [1443650400.0, 1569880800.0]\n",
      "July 2017-October 2017(4 months) [datetime.date(2017, 7, 1), datetime.date(2017, 10, 1)] [1498860000.0, 1506808800.0]\n",
      "October 2016-July 2017(10 months) [datetime.date(2016, 10, 1), datetime.date(2017, 7, 1)] [1475272800.0, 1498860000.0]\n",
      "July 2015-August 2015(2 months) [datetime.date(2015, 7, 1), datetime.date(2015, 8, 1)] [1435701600.0, 1438380000.0]\n",
      "December 2014-May 2015(6 months) [datetime.date(2014, 12, 1), datetime.date(2015, 5, 1)] [1417388400.0, 1430431200.0]\n",
      "October 2009-May 2015(5 years 8 months) [datetime.date(2009, 10, 1), datetime.date(2015, 5, 1)] [1254348000.0, 1430431200.0]\n",
      "October 2012-January 2013(4 months) [datetime.date(2012, 10, 1), datetime.date(2013, 1, 1)] [1349042400.0, 1356994800.0]\n",
      "June 2012-July 2012(2 months) [datetime.date(2012, 6, 1), datetime.date(2012, 7, 1)] [1338501600.0, 1341093600.0]\n"
     ]
    }
   ],
   "source": [
    "for job in user1['experience']:\n",
    "    print(job['period'], get_time(job['period']),[time.mktime(i.timetuple()) for i in get_time(job['period']) ])"
   ]
  },
  {
   "cell_type": "code",
   "execution_count": 30,
   "metadata": {},
   "outputs": [
    {
     "data": {
      "text/plain": [
       "10"
      ]
     },
     "execution_count": 30,
     "metadata": {},
     "output_type": "execute_result"
    }
   ],
   "source": [
    "len(user1['experience'])"
   ]
  },
  {
   "cell_type": "code",
   "execution_count": 32,
   "metadata": {},
   "outputs": [
    {
     "data": {
      "text/plain": [
       "{'role': 'PHD Researcher',\n",
       " 'period': 'July 2017-October 2017(4 months)',\n",
       " 'place': 'Greater Salt Lake City Area   ',\n",
       " 'description': '  Use of Supervised and Unsupervised Machine Learning techniques such as Principal Component Analysis (PCA), Gaussian Pro- cess Regression (GPR), Polynomial Chaos Expansion (PCE), Artificial Neural Networks (ANN), Independent Component Analysis (ICA), Non- negative Matrix Factorization (NMF), data clustering and classification methods for feature extraction, data analysis, development of digital twins and of surrogate models for combustion and Computational Fluid Dynamics (CFD) data.'}"
      ]
     },
     "execution_count": 32,
     "metadata": {},
     "output_type": "execute_result"
    }
   ],
   "source": [
    "user1['experience'][3]"
   ]
  },
  {
   "cell_type": "code",
   "execution_count": 29,
   "metadata": {},
   "outputs": [
    {
     "data": {
      "text/plain": [
       "['',\n",
       " '',\n",
       " 'UniversitÃ© libre de Bruxelles',\n",
       " 'University of Utah',\n",
       " 'CentraleSupÃ©lec',\n",
       " 'COMAG ENGINEERING S.R.L.',\n",
       " 'Master Degree Thesis',\n",
       " 'Energy Engineering University of Benevento',\n",
       " 'Benevento\\\\\\\\s University',\n",
       " 'Motors Institute, National Research Center, Naples']"
      ]
     },
     "execution_count": 29,
     "metadata": {},
     "output_type": "execute_result"
    }
   ],
   "source": [
    "user1['business']"
   ]
  },
  {
   "cell_type": "code",
   "execution_count": 58,
   "metadata": {},
   "outputs": [],
   "source": [
    "gn = geocoders.GeoNames(username=\"nima.farnoodian\")\n",
    "user=user1\n",
    "user_links={\"User\":[\"Gianmarco Aversano\"]*len(user['business']),\"job_place\":user['business'],\"role\":[],\"begin\":[],\"end\":[],\"place\":[],\"place_lat\":[],\"place_lon\":[],\"description\":[]}\n",
    "\n",
    "for exp in user['experience']:\n",
    "    period=get_time(exp['period'])\n",
    "    user_links[\"begin\"].append(time.mktime(period[0].timetuple()))\n",
    "    if len(period)>1:\n",
    "        user_links[\"end\"].append(time.mktime(period[1].timetuple()))\n",
    "    else:\n",
    "        user_links[\"end\"].append(float(\"inf\"))\n",
    "    user_links[\"role\"].append(exp[\"role\"].strip())\n",
    "    user_links[\"place\"].append(exp[\"place\"].strip())\n",
    "    rs=gn.geocode(exp[\"place\"].strip())\n",
    "    user_links[\"place_lat\"].append(rs.latitude)\n",
    "    user_links[\"place_lon\"].append(rs.longitude)\n",
    "    user_links[\"description\"].append(exp[\"description\"].strip())\n",
    "                               "
   ]
  },
  {
   "cell_type": "code",
   "execution_count": 59,
   "metadata": {},
   "outputs": [],
   "source": [
    "user_data=pd.DataFrame(user_links)\n",
    "user_data.sort_values(by=\"begin\",inplace=True)"
   ]
  },
  {
   "cell_type": "code",
   "execution_count": 60,
   "metadata": {},
   "outputs": [
    {
     "data": {
      "text/html": [
       "<div>\n",
       "<style scoped>\n",
       "    .dataframe tbody tr th:only-of-type {\n",
       "        vertical-align: middle;\n",
       "    }\n",
       "\n",
       "    .dataframe tbody tr th {\n",
       "        vertical-align: top;\n",
       "    }\n",
       "\n",
       "    .dataframe thead th {\n",
       "        text-align: right;\n",
       "    }\n",
       "</style>\n",
       "<table border=\"1\" class=\"dataframe\">\n",
       "  <thead>\n",
       "    <tr style=\"text-align: right;\">\n",
       "      <th></th>\n",
       "      <th>User</th>\n",
       "      <th>job_place</th>\n",
       "      <th>role</th>\n",
       "      <th>begin</th>\n",
       "      <th>end</th>\n",
       "      <th>place</th>\n",
       "      <th>place_lat</th>\n",
       "      <th>place_lon</th>\n",
       "      <th>description</th>\n",
       "    </tr>\n",
       "  </thead>\n",
       "  <tbody>\n",
       "    <tr>\n",
       "      <th>7</th>\n",
       "      <td>Gianmarco Aversano</td>\n",
       "      <td>Energy Engineering University of Benevento</td>\n",
       "      <td>Student</td>\n",
       "      <td>1.254348e+09</td>\n",
       "      <td>1.430431e+09</td>\n",
       "      <td></td>\n",
       "      <td>6.14917</td>\n",
       "      <td>100.36757</td>\n",
       "      <td>Build a reduced-order model for the simulation...</td>\n",
       "    </tr>\n",
       "    <tr>\n",
       "      <th>9</th>\n",
       "      <td>Gianmarco Aversano</td>\n",
       "      <td>Motors Institute, National Research Center, Na...</td>\n",
       "      <td>Mechanical Engineering Apprentice</td>\n",
       "      <td>1.338502e+09</td>\n",
       "      <td>1.341094e+09</td>\n",
       "      <td></td>\n",
       "      <td>6.14917</td>\n",
       "      <td>100.36757</td>\n",
       "      <td>I was responsible for carrying out numerous te...</td>\n",
       "    </tr>\n",
       "    <tr>\n",
       "      <th>8</th>\n",
       "      <td>Gianmarco Aversano</td>\n",
       "      <td>Benevento\\\\s University</td>\n",
       "      <td>Electrical Engineer</td>\n",
       "      <td>1.349042e+09</td>\n",
       "      <td>1.356995e+09</td>\n",
       "      <td></td>\n",
       "      <td>6.14917</td>\n",
       "      <td>100.36757</td>\n",
       "      <td>Beneventos University Electrical Engineer Octo...</td>\n",
       "    </tr>\n",
       "    <tr>\n",
       "      <th>6</th>\n",
       "      <td>Gianmarco Aversano</td>\n",
       "      <td>Master Degree Thesis</td>\n",
       "      <td>Model reduction of reacting flows via POD/Gale...</td>\n",
       "      <td>1.417388e+09</td>\n",
       "      <td>1.430431e+09</td>\n",
       "      <td></td>\n",
       "      <td>6.14917</td>\n",
       "      <td>100.36757</td>\n",
       "      <td></td>\n",
       "    </tr>\n",
       "    <tr>\n",
       "      <th>5</th>\n",
       "      <td>Gianmarco Aversano</td>\n",
       "      <td>COMAG ENGINEERING S.R.L.</td>\n",
       "      <td>Internship</td>\n",
       "      <td>1.435702e+09</td>\n",
       "      <td>1.438380e+09</td>\n",
       "      <td>Lazio, Italy</td>\n",
       "      <td>41.89193</td>\n",
       "      <td>12.51133</td>\n",
       "      <td></td>\n",
       "    </tr>\n",
       "    <tr>\n",
       "      <th>2</th>\n",
       "      <td>Gianmarco Aversano</td>\n",
       "      <td>UniversitÃ© libre de Bruxelles</td>\n",
       "      <td>PHD Researcher</td>\n",
       "      <td>1.443650e+09</td>\n",
       "      <td>1.569881e+09</td>\n",
       "      <td></td>\n",
       "      <td>6.14917</td>\n",
       "      <td>100.36757</td>\n",
       "      <td></td>\n",
       "    </tr>\n",
       "    <tr>\n",
       "      <th>4</th>\n",
       "      <td>Gianmarco Aversano</td>\n",
       "      <td>CentraleSupÃ©lec</td>\n",
       "      <td>PHD Researcher</td>\n",
       "      <td>1.475273e+09</td>\n",
       "      <td>1.498860e+09</td>\n",
       "      <td>Paris Area, France</td>\n",
       "      <td>48.89187</td>\n",
       "      <td>2.23898</td>\n",
       "      <td></td>\n",
       "    </tr>\n",
       "    <tr>\n",
       "      <th>3</th>\n",
       "      <td>Gianmarco Aversano</td>\n",
       "      <td>University of Utah</td>\n",
       "      <td>PHD Researcher</td>\n",
       "      <td>1.498860e+09</td>\n",
       "      <td>1.506809e+09</td>\n",
       "      <td>Greater Salt Lake City Area</td>\n",
       "      <td>40.65320</td>\n",
       "      <td>-111.99244</td>\n",
       "      <td>Use of Supervised and Unsupervised Machine Lea...</td>\n",
       "    </tr>\n",
       "    <tr>\n",
       "      <th>0</th>\n",
       "      <td>Gianmarco Aversano</td>\n",
       "      <td></td>\n",
       "      <td>Data Engineer</td>\n",
       "      <td>1.569881e+09</td>\n",
       "      <td>inf</td>\n",
       "      <td>Brussels Area, Belgium</td>\n",
       "      <td>50.84100</td>\n",
       "      <td>4.35500</td>\n",
       "      <td></td>\n",
       "    </tr>\n",
       "    <tr>\n",
       "      <th>1</th>\n",
       "      <td>Gianmarco Aversano</td>\n",
       "      <td></td>\n",
       "      <td>Consultant</td>\n",
       "      <td>1.569881e+09</td>\n",
       "      <td>inf</td>\n",
       "      <td>Brussels Area, Belgium</td>\n",
       "      <td>50.84100</td>\n",
       "      <td>4.35500</td>\n",
       "      <td>As part of the Innovation department, I suppor...</td>\n",
       "    </tr>\n",
       "  </tbody>\n",
       "</table>\n",
       "</div>"
      ],
      "text/plain": [
       "                 User                                          job_place  \\\n",
       "7  Gianmarco Aversano         Energy Engineering University of Benevento   \n",
       "9  Gianmarco Aversano  Motors Institute, National Research Center, Na...   \n",
       "8  Gianmarco Aversano                            Benevento\\\\s University   \n",
       "6  Gianmarco Aversano                               Master Degree Thesis   \n",
       "5  Gianmarco Aversano                           COMAG ENGINEERING S.R.L.   \n",
       "2  Gianmarco Aversano                     UniversitÃ© libre de Bruxelles   \n",
       "4  Gianmarco Aversano                                   CentraleSupÃ©lec   \n",
       "3  Gianmarco Aversano                                 University of Utah   \n",
       "0  Gianmarco Aversano                                                      \n",
       "1  Gianmarco Aversano                                                      \n",
       "\n",
       "                                                role         begin  \\\n",
       "7                                            Student  1.254348e+09   \n",
       "9                  Mechanical Engineering Apprentice  1.338502e+09   \n",
       "8                                Electrical Engineer  1.349042e+09   \n",
       "6  Model reduction of reacting flows via POD/Gale...  1.417388e+09   \n",
       "5                                         Internship  1.435702e+09   \n",
       "2                                     PHD Researcher  1.443650e+09   \n",
       "4                                     PHD Researcher  1.475273e+09   \n",
       "3                                     PHD Researcher  1.498860e+09   \n",
       "0                                      Data Engineer  1.569881e+09   \n",
       "1                                         Consultant  1.569881e+09   \n",
       "\n",
       "            end                        place  place_lat  place_lon  \\\n",
       "7  1.430431e+09                                 6.14917  100.36757   \n",
       "9  1.341094e+09                                 6.14917  100.36757   \n",
       "8  1.356995e+09                                 6.14917  100.36757   \n",
       "6  1.430431e+09                                 6.14917  100.36757   \n",
       "5  1.438380e+09                 Lazio, Italy   41.89193   12.51133   \n",
       "2  1.569881e+09                                 6.14917  100.36757   \n",
       "4  1.498860e+09           Paris Area, France   48.89187    2.23898   \n",
       "3  1.506809e+09  Greater Salt Lake City Area   40.65320 -111.99244   \n",
       "0           inf       Brussels Area, Belgium   50.84100    4.35500   \n",
       "1           inf       Brussels Area, Belgium   50.84100    4.35500   \n",
       "\n",
       "                                         description  \n",
       "7  Build a reduced-order model for the simulation...  \n",
       "9  I was responsible for carrying out numerous te...  \n",
       "8  Beneventos University Electrical Engineer Octo...  \n",
       "6                                                     \n",
       "5                                                     \n",
       "2                                                     \n",
       "4                                                     \n",
       "3  Use of Supervised and Unsupervised Machine Lea...  \n",
       "0                                                     \n",
       "1  As part of the Innovation department, I suppor...  "
      ]
     },
     "execution_count": 60,
     "metadata": {},
     "output_type": "execute_result"
    }
   ],
   "source": [
    "user_data"
   ]
  },
  {
   "cell_type": "code",
   "execution_count": null,
   "metadata": {},
   "outputs": [],
   "source": []
  },
  {
   "cell_type": "code",
   "execution_count": 70,
   "metadata": {},
   "outputs": [
    {
     "name": "stdout",
     "output_type": "stream",
     "text": [
      "Unix_Time:  1438380000.0\n"
     ]
    }
   ],
   "source": [
    "print(\"Unix_Time: \",\n",
    "      (time.mktime(res[1].timetuple())))"
   ]
  },
  {
   "cell_type": "code",
   "execution_count": 6,
   "metadata": {},
   "outputs": [
    {
     "name": "stdout",
     "output_type": "stream",
     "text": [
      "Unix_Time:  18741600.0\n"
     ]
    }
   ],
   "source": [
    "\n",
    " \n",
    "datetime = datetime.date(1970, 8, 6)\n",
    "print(\"Unix_Time: \",\n",
    "      (time.mktime(datetime.timetuple())))"
   ]
  },
  {
   "cell_type": "code",
   "execution_count": 4,
   "metadata": {},
   "outputs": [
    {
     "name": "stdout",
     "output_type": "stream",
     "text": [
      "Unix_Time:  1569880800.0\n"
     ]
    }
   ],
   "source": [
    "import datetime\n",
    "import time\n",
    " \n",
    "datetime = datetime.date(2019, 10, 1)\n",
    "print(\"Unix_Time: \",\n",
    "      (time.mktime(datetime.timetuple())))"
   ]
  },
  {
   "cell_type": "code",
   "execution_count": null,
   "metadata": {},
   "outputs": [],
   "source": [
    "datetime"
   ]
  }
 ],
 "metadata": {
  "kernelspec": {
   "display_name": "Python 3 (ipykernel)",
   "language": "python",
   "name": "python3"
  },
  "language_info": {
   "codemirror_mode": {
    "name": "ipython",
    "version": 3
   },
   "file_extension": ".py",
   "mimetype": "text/x-python",
   "name": "python",
   "nbconvert_exporter": "python",
   "pygments_lexer": "ipython3",
   "version": "3.6.13"
  }
 },
 "nbformat": 4,
 "nbformat_minor": 4
}
