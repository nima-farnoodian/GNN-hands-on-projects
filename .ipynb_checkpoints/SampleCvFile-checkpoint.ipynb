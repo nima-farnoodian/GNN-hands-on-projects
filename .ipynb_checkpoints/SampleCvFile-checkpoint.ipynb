{
 "cells": [
  {
   "cell_type": "code",
   "execution_count": 2,
   "metadata": {},
   "outputs": [],
   "source": [
    "import json\n",
    "import pprint"
   ]
  },
  {
   "cell_type": "code",
   "execution_count": 3,
   "metadata": {},
   "outputs": [],
   "source": [
    "f = open(\"cv1.json\")\n",
    "user1=json.load(f)"
   ]
  },
  {
   "cell_type": "code",
   "execution_count": 4,
   "metadata": {},
   "outputs": [
    {
     "data": {
      "text/plain": [
       "dict_keys(['email', 'language', 'basic info', 'summary', 'experience', 'education', 'contact', 'topskills', 'languages', 'certification', 'honors-awards', 'publications', 'business', 'skills_exp', 'jobtitle_data', 'top_skills_found', 'desc_skills_found', 'first_name', 'last_name', 'linkedin_url', 'phone'])"
      ]
     },
     "execution_count": 4,
     "metadata": {},
     "output_type": "execute_result"
    }
   ],
   "source": [
    "user1.keys()"
   ]
  },
  {
   "cell_type": "code",
   "execution_count": 5,
   "metadata": {},
   "outputs": [
    {
     "name": "stdout",
     "output_type": "stream",
     "text": [
      "{'basic info': '\\nData Engineer\\nBrussels, Brussels Capital Region, Belgium\\n',\n",
      " 'business': ['',\n",
      "              '',\n",
      "              'UniversitÃ© libre de Bruxelles',\n",
      "              'University of Utah',\n",
      "              'CentraleSupÃ©lec',\n",
      "              'COMAG ENGINEERING S.R.L.',\n",
      "              'Master Degree Thesis',\n",
      "              'Energy Engineering University of Benevento',\n",
      "              'Benevento\\\\\\\\s University',\n",
      "              'Motors Institute, National Research Center, Naples'],\n",
      " 'certification': '\\nISE III - Trinity College\\n',\n",
      " 'contact': '\\n'\n",
      "            'janmail1990@gmail.com\\n'\n",
      "            '\\n'\n",
      "            'www.linkedin.com/in/gianmarco-\\n'\n",
      "            'aversano-a141199a (LinkedIn)\\n',\n",
      " 'desc_skills_found': ['java',\n",
      "                       'python',\n",
      "                       'machine learning',\n",
      "                       'c++',\n",
      "                       'management',\n",
      "                       'data analysis',\n",
      "                       'matlab',\n",
      "                       'programming',\n",
      "                       'engineering',\n",
      "                       'algorithms',\n",
      "                       'computer science',\n",
      "                       'computer',\n",
      "                       'analysis',\n",
      "                       'bash',\n",
      "                       'energy',\n",
      "                       'science',\n",
      "                       'numerical analysis',\n",
      "                       'design',\n",
      "                       'fortran',\n",
      "                       'r programming',\n",
      "                       'data science',\n",
      "                       'amazon web services',\n",
      "                       'security',\n",
      "                       'web services',\n",
      "                       'research',\n",
      "                       'neural networks',\n",
      "                       'artificial neural networks',\n",
      "                       'engineers',\n",
      "                       'mechanical engineering',\n",
      "                       'software'],\n",
      " 'education': {'[\"\\'Ecole Centrale Paris\", \"Doctor of Philosophy (Ph.D.),Industrial EngineeringÂ·(2016-2017)\\' \"]': '  ',\n",
      "               '[\"\\'Liceo Scientifico\", \"High School,MathematicsÂ·(2004-2009)\\' \"]': '     ',\n",
      "               '[\\'\"UniversitÃ\\xa0 degli Studi del Sannio-Benevento\\', \\'Bachelor\\\\\\'s Degree,Energy EngineeringÂ·(2009-2012)\" \\']': '  ',\n",
      "               '[\\'\"UniversitÃ\\xa0 degli Studi del Sannio-Benevento\\', \\'Master\\\\\\'s Degree,Energy EngineeringÂ·(2013-2015)\" \\']': '  ',\n",
      "               '[\\'UniversitÃ© libre de Bruxelles\\', \"Doctor of Philosophy (Ph.D.),Industrial EngineeringÂ·(2015-2018)\\' \"]': '  '},\n",
      " 'email': '*****@gmail.com',\n",
      " 'experience': [{'description': '',\n",
      "                 'period': 'October 2019-Present(6 months)',\n",
      "                 'place': 'Brussels Area, Belgium   ',\n",
      "                 'role': 'Data Engineer'},\n",
      "                {'description': 'As part of the Innovation department, I '\n",
      "                                'support the data science team in the '\n",
      "                                'definition, security and maintenance of their '\n",
      "                                'data pipelines on Amazon Web Services.',\n",
      "                 'period': 'October 2019-Present(6 months)',\n",
      "                 'place': 'Brussels Area, Belgium',\n",
      "                 'role': 'Consultant'},\n",
      "                {'description': '',\n",
      "                 'period': 'October 2015-October 2019(4 years 1 month)',\n",
      "                 'place': '',\n",
      "                 'role': 'PHD Researcher'},\n",
      "                {'description': '  Use of Supervised and Unsupervised Machine '\n",
      "                                'Learning techniques such as Principal '\n",
      "                                'Component Analysis (PCA), Gaussian Pro- cess '\n",
      "                                'Regression (GPR), Polynomial Chaos Expansion '\n",
      "                                '(PCE), Artificial Neural Networks (ANN), '\n",
      "                                'Independent Component Analysis (ICA), Non- '\n",
      "                                'negative Matrix Factorization (NMF), data '\n",
      "                                'clustering and classification methods for '\n",
      "                                'feature extraction, data analysis, '\n",
      "                                'development of digital twins and of surrogate '\n",
      "                                'models for combustion and Computational Fluid '\n",
      "                                'Dynamics (CFD) data.',\n",
      "                 'period': 'July 2017-October 2017(4 months)',\n",
      "                 'place': 'Greater Salt Lake City Area   ',\n",
      "                 'role': 'PHD Researcher'},\n",
      "                {'description': '',\n",
      "                 'period': 'October 2016-July 2017(10 months)',\n",
      "                 'place': 'Paris Area, France   ',\n",
      "                 'role': 'PHD Researcher'},\n",
      "                {'description': '',\n",
      "                 'period': 'July 2015-August 2015(2 months)',\n",
      "                 'place': 'Lazio, Italy   ',\n",
      "                 'role': 'Internship'},\n",
      "                {'description': '',\n",
      "                 'period': 'December 2014-May 2015(6 months)',\n",
      "                 'place': '',\n",
      "                 'role': 'Model reduction of reacting flows via POD/Galerkin '\n",
      "                         'method'},\n",
      "                {'description': '  Build a reduced-order model for the '\n",
      "                                'simulation of a 1-D flame.',\n",
      "                 'period': 'October 2009-May 2015(5 years 8 months)',\n",
      "                 'place': '',\n",
      "                 'role': 'Student'},\n",
      "                {'description': '  Beneventos University Electrical Engineer '\n",
      "                                'October 2012-January 2013(4 months)  I '\n",
      "                                'co-worked with experienced Electrical '\n",
      "                                'Engineers for the design of a Low Voltage '\n",
      "                                'Industrial Power System. I evaluated the '\n",
      "                                'system layout, the industrial          plant '\n",
      "                                'layout, the optimized cross section area of '\n",
      "                                'the electrical cables, and chose the adequate '\n",
      "                                'protection system for the case, guaranteeing '\n",
      "                                'selectivity and promptness.',\n",
      "                 'period': 'October 2012-January 2013(4 months)',\n",
      "                 'place': '',\n",
      "                 'role': 'Electrical Engineer'},\n",
      "                {'description': '  I was responsible for carrying out numerous '\n",
      "                                'tests on an Diesel internal- combustion '\n",
      "                                'engine through optical approach.   I '\n",
      "                                'collected visual and optical data about the '\n",
      "                                'injection and combustion cycle of the Diesel '\n",
      "                                'engine, and focused on the effect of fuel '\n",
      "                                'spray jet penetration and shape on the '\n",
      "                                'engines pressure-cycle, heat-release rate and '\n",
      "                                'performance.  Analysis on the shape of the '\n",
      "                                'fuel jets was made possible by the \"Active '\n",
      "                                'Contours\" method, implemented on Software in '\n",
      "                                'order to automatically detect the contours of '\n",
      "                                'the sprays jets and reduce the subjectivity '\n",
      "                                'of the analysis.',\n",
      "                 'period': 'June 2012-July 2012(2 months)',\n",
      "                 'place': '',\n",
      "                 'role': 'Mechanical Engineering Apprentice'}],\n",
      " 'first_name': 'name1',\n",
      " 'honors-awards': [],\n",
      " 'jobtitle_data': [['engineering', 1],\n",
      "                   ['engineer', 1],\n",
      "                   ['student', 6],\n",
      "                   ['intern', 1],\n",
      "                   ['phd researcher', 1],\n",
      "                   ['phd researcher', 1],\n",
      "                   ['phd researcher', 4],\n",
      "                   ['consultant', 2],\n",
      "                   ['data engineer ', 2]],\n",
      " 'language': 'english',\n",
      " 'languages': ['french', 'english', 'spanish'],\n",
      " 'last_name': 'Family1',\n",
      " 'linkedin_url': 'https://www.linkedin.com/in/*****',\n",
      " 'phone': '+32467058827',\n",
      " 'publications': '\\n'\n",
      "                 'Application of reduced-order models\\n'\n",
      "                 'based on PCA & Kriging for the\\n'\n",
      "                 'development of digital twins of\\n'\n",
      "                 'reacting flow applications\\n'\n",
      "                 'PCA and Kriging for the efficient\\n'\n",
      "                 'exploration of consistency regions in\\n'\n",
      "                 'Uncertainty Quantification\\n'\n",
      "                 'Feature extraction and reduced-\\n'\n",
      "                 'order modelling of nitrogen plasma\\n'\n",
      "                 'models using principal component\\n'\n",
      "                 'analysis\\n',\n",
      " 'skills_exp': ['java',\n",
      "                'python',\n",
      "                'machine learning',\n",
      "                'c++',\n",
      "                'management',\n",
      "                'data analysis',\n",
      "                'matlab',\n",
      "                'programming',\n",
      "                'engineering',\n",
      "                'algorithms',\n",
      "                'computer science',\n",
      "                'computer',\n",
      "                'analysis',\n",
      "                'bash',\n",
      "                'energy',\n",
      "                'science',\n",
      "                'numerical analysis',\n",
      "                'design',\n",
      "                'fortran',\n",
      "                'r programming',\n",
      "                'data science',\n",
      "                'amazon web services',\n",
      "                'security',\n",
      "                'web services',\n",
      "                'research',\n",
      "                'neural networks',\n",
      "                'artificial neural networks',\n",
      "                'engineers',\n",
      "                'mechanical engineering',\n",
      "                'software'],\n",
      " 'summary': '\\n'\n",
      "            'PhD: combining dimensionality reduction techniques such as\\n'\n",
      "            'PCA with Gaussian Process Regression for the development of\\n'\n",
      "            'Reduced-Order Surrogate Models, daily working on topics such\\n'\n",
      "            'as Programming, Data Analysis, Computer Science and Machine\\n'\n",
      "            'Learning.\\n'\n",
      "            '\\n'\n",
      "            'Focused on Machine Learning algorithms, Programming (C++,\\n'\n",
      "            'Python, Fortran, Matlab, Bash, Java, mainly) and Data Analysis.\\n'\n",
      "            '\\n'\n",
      "            'Education:\\n'\n",
      "            'I graduated in Energy Engineering at Unisannio in Benevento, and\\n'\n",
      "            'I hold a PhD obtained at UniversitÃ© Libre de Bruxelles and at '\n",
      "            'Ã‰cole\\n'\n",
      "            'Centrale Paris, with a collaboration with the University of '\n",
      "            'Utah. \\n'\n",
      "            'During my studies I focused on thermal phenomena and analysis\\n'\n",
      "            'for industrial purposes, numerical analysis and multi-objective\\n'\n",
      "            'constrained non linear programming, design and management\\n'\n",
      "            'of industrial chemical processes, electrical and power system\\n'\n",
      "            'management and design for high, medium and low voltages,\\n'\n",
      "            'including HVDC.\\n',\n",
      " 'top_skills_found': ['Matlab', 'Microsoft Excel', 'Numerical Analysis'],\n",
      " 'topskills': ['Matlab', 'Microsoft Excel', 'Numerical Analysis']}\n"
     ]
    }
   ],
   "source": [
    "pprint.pprint(user1)"
   ]
  },
  {
   "cell_type": "code",
   "execution_count": 7,
   "metadata": {},
   "outputs": [],
   "source": [
    "import lexnlp.extract.en.dates"
   ]
  },
  {
   "cell_type": "code",
   "execution_count": 8,
   "metadata": {},
   "outputs": [
    {
     "name": "stdout",
     "output_type": "stream",
     "text": [
      "[datetime.date(2020, 3, 15)]\n"
     ]
    }
   ],
   "source": [
    "text = \"This agreement shall terminate on the 15th day of March, 2020.\"\n",
    "print(list(lexnlp.extract.en.dates.get_dates(text)))"
   ]
  },
  {
   "cell_type": "code",
   "execution_count": 30,
   "metadata": {},
   "outputs": [
    {
     "name": "stdout",
     "output_type": "stream",
     "text": [
      "[datetime.date(2020, 3, 15), datetime.date(2020, 3, 15)]\n"
     ]
    }
   ],
   "source": [
    "text = \"This agreement shall terminate on the 15th day of March, 2020. This agreement shall terminate on the 15th day of March, 2020.\"\n",
    "print(list(lexnlp.extract.en.dates.get_dates(text)))"
   ]
  },
  {
   "cell_type": "code",
   "execution_count": 15,
   "metadata": {},
   "outputs": [
    {
     "name": "stdout",
     "output_type": "stream",
     "text": [
      "[]\n"
     ]
    }
   ],
   "source": [
    "text='October 2015-October 2019(4 years 1 month)'\n",
    "print(list(lexnlp.extract.en.dates.get_dates(text)))"
   ]
  },
  {
   "cell_type": "code",
   "execution_count": 9,
   "metadata": {},
   "outputs": [
    {
     "name": "stdout",
     "output_type": "stream",
     "text": [
      "[datetime.date(2019, 10, 1)]\n"
     ]
    }
   ],
   "source": [
    "text='October 2019-Present(6 months)'\n",
    "print(list(lexnlp.extract.en.dates.get_dates(text)))"
   ]
  },
  {
   "cell_type": "code",
   "execution_count": 25,
   "metadata": {},
   "outputs": [
    {
     "data": {
      "text/plain": [
       "['french', 'english', 'spanish']"
      ]
     },
     "execution_count": 25,
     "metadata": {},
     "output_type": "execute_result"
    }
   ],
   "source": [
    "user1[\"languages\"]"
   ]
  },
  {
   "cell_type": "code",
   "execution_count": 26,
   "metadata": {},
   "outputs": [
    {
     "data": {
      "text/plain": [
       "{'[\\'UniversitÃ© libre de Bruxelles\\', \"Doctor of Philosophy (Ph.D.),Industrial EngineeringÂ·(2015-2018)\\' \"]': '  ',\n",
       " '[\"\\'Ecole Centrale Paris\", \"Doctor of Philosophy (Ph.D.),Industrial EngineeringÂ·(2016-2017)\\' \"]': '  ',\n",
       " '[\\'\"UniversitÃ\\xa0 degli Studi del Sannio-Benevento\\', \\'Master\\\\\\'s Degree,Energy EngineeringÂ·(2013-2015)\" \\']': '  ',\n",
       " '[\\'\"UniversitÃ\\xa0 degli Studi del Sannio-Benevento\\', \\'Bachelor\\\\\\'s Degree,Energy EngineeringÂ·(2009-2012)\" \\']': '  ',\n",
       " '[\"\\'Liceo Scientifico\", \"High School,MathematicsÂ·(2004-2009)\\' \"]': '     '}"
      ]
     },
     "execution_count": 26,
     "metadata": {},
     "output_type": "execute_result"
    }
   ],
   "source": [
    "user1[\"education\"]"
   ]
  },
  {
   "cell_type": "code",
   "execution_count": 20,
   "metadata": {},
   "outputs": [
    {
     "data": {
      "text/plain": [
       "['java',\n",
       " 'python',\n",
       " 'machine learning',\n",
       " 'c++',\n",
       " 'management',\n",
       " 'data analysis',\n",
       " 'matlab',\n",
       " 'programming',\n",
       " 'engineering',\n",
       " 'algorithms',\n",
       " 'computer science',\n",
       " 'computer',\n",
       " 'analysis',\n",
       " 'bash',\n",
       " 'energy',\n",
       " 'science',\n",
       " 'numerical analysis',\n",
       " 'design',\n",
       " 'fortran',\n",
       " 'r programming',\n",
       " 'data science',\n",
       " 'amazon web services',\n",
       " 'security',\n",
       " 'web services',\n",
       " 'research',\n",
       " 'neural networks',\n",
       " 'artificial neural networks',\n",
       " 'engineers',\n",
       " 'mechanical engineering',\n",
       " 'software']"
      ]
     },
     "execution_count": 20,
     "metadata": {},
     "output_type": "execute_result"
    }
   ],
   "source": [
    "user1['desc_skills_found']"
   ]
  },
  {
   "cell_type": "code",
   "execution_count": 27,
   "metadata": {},
   "outputs": [
    {
     "data": {
      "text/plain": [
       "[{'role': 'Data Engineer',\n",
       "  'period': 'October 2019-Present(6 months)',\n",
       "  'place': 'Brussels Area, Belgium   ',\n",
       "  'description': ''},\n",
       " {'role': 'Consultant',\n",
       "  'period': 'October 2019-Present(6 months)',\n",
       "  'place': 'Brussels Area, Belgium',\n",
       "  'description': 'As part of the Innovation department, I support the data science team in the definition, security and maintenance of their data pipelines on Amazon Web Services.'},\n",
       " {'role': 'PHD Researcher',\n",
       "  'period': 'October 2015-October 2019(4 years 1 month)',\n",
       "  'place': '',\n",
       "  'description': ''},\n",
       " {'role': 'PHD Researcher',\n",
       "  'period': 'July 2017-October 2017(4 months)',\n",
       "  'place': 'Greater Salt Lake City Area   ',\n",
       "  'description': '  Use of Supervised and Unsupervised Machine Learning techniques such as Principal Component Analysis (PCA), Gaussian Pro- cess Regression (GPR), Polynomial Chaos Expansion (PCE), Artificial Neural Networks (ANN), Independent Component Analysis (ICA), Non- negative Matrix Factorization (NMF), data clustering and classification methods for feature extraction, data analysis, development of digital twins and of surrogate models for combustion and Computational Fluid Dynamics (CFD) data.'},\n",
       " {'role': 'PHD Researcher',\n",
       "  'period': 'October 2016-July 2017(10 months)',\n",
       "  'place': 'Paris Area, France   ',\n",
       "  'description': ''},\n",
       " {'role': 'Internship',\n",
       "  'period': 'July 2015-August 2015(2 months)',\n",
       "  'place': 'Lazio, Italy   ',\n",
       "  'description': ''},\n",
       " {'role': 'Model reduction of reacting flows via POD/Galerkin method',\n",
       "  'period': 'December 2014-May 2015(6 months)',\n",
       "  'place': '',\n",
       "  'description': ''},\n",
       " {'role': 'Student',\n",
       "  'period': 'October 2009-May 2015(5 years 8 months)',\n",
       "  'place': '',\n",
       "  'description': '  Build a reduced-order model for the simulation of a 1-D flame.'},\n",
       " {'role': 'Electrical Engineer',\n",
       "  'period': 'October 2012-January 2013(4 months)',\n",
       "  'place': '',\n",
       "  'description': '  Beneventos University Electrical Engineer October 2012-January 2013(4 months)  I co-worked with experienced Electrical Engineers for the design of a Low Voltage Industrial Power System. I evaluated the system layout, the industrial          plant layout, the optimized cross section area of the electrical cables, and chose the adequate protection system for the case, guaranteeing selectivity and promptness.'},\n",
       " {'role': 'Mechanical Engineering Apprentice',\n",
       "  'period': 'June 2012-July 2012(2 months)',\n",
       "  'place': '',\n",
       "  'description': '  I was responsible for carrying out numerous tests on an Diesel internal- combustion engine through optical approach.   I collected visual and optical data about the injection and combustion cycle of the Diesel engine, and focused on the effect of fuel spray jet penetration and shape on the engines pressure-cycle, heat-release rate and performance.  Analysis on the shape of the fuel jets was made possible by the \"Active Contours\" method, implemented on Software in order to automatically detect the contours of the sprays jets and reduce the subjectivity of the analysis.'}]"
      ]
     },
     "execution_count": 27,
     "metadata": {},
     "output_type": "execute_result"
    }
   ],
   "source": [
    "user1['experience']"
   ]
  },
  {
   "cell_type": "code",
   "execution_count": 28,
   "metadata": {},
   "outputs": [
    {
     "data": {
      "text/plain": [
       "[]"
      ]
     },
     "execution_count": 28,
     "metadata": {},
     "output_type": "execute_result"
    }
   ],
   "source": [
    "user1[\"honors-awards\"]"
   ]
  },
  {
   "cell_type": "code",
   "execution_count": 21,
   "metadata": {},
   "outputs": [
    {
     "name": "stdout",
     "output_type": "stream",
     "text": [
      "{'role': 'Data Engineer', 'period': 'October 2019-Present(6 months)', 'place': 'Brussels Area, Belgium   ', 'description': ''}\n",
      "{'role': 'Consultant', 'period': 'October 2019-Present(6 months)', 'place': 'Brussels Area, Belgium', 'description': 'As part of the Innovation department, I support the data science team in the definition, security and maintenance of their data pipelines on Amazon Web Services.'}\n",
      "{'role': 'PHD Researcher', 'period': 'October 2015-October 2019(4 years 1 month)', 'place': '', 'description': ''}\n",
      "{'role': 'PHD Researcher', 'period': 'July 2017-October 2017(4 months)', 'place': 'Greater Salt Lake City Area   ', 'description': '  Use of Supervised and Unsupervised Machine Learning techniques such as Principal Component Analysis (PCA), Gaussian Pro- cess Regression (GPR), Polynomial Chaos Expansion (PCE), Artificial Neural Networks (ANN), Independent Component Analysis (ICA), Non- negative Matrix Factorization (NMF), data clustering and classification methods for feature extraction, data analysis, development of digital twins and of surrogate models for combustion and Computational Fluid Dynamics (CFD) data.'}\n",
      "{'role': 'PHD Researcher', 'period': 'October 2016-July 2017(10 months)', 'place': 'Paris Area, France   ', 'description': ''}\n",
      "{'role': 'Internship', 'period': 'July 2015-August 2015(2 months)', 'place': 'Lazio, Italy   ', 'description': ''}\n",
      "{'role': 'Model reduction of reacting flows via POD/Galerkin method', 'period': 'December 2014-May 2015(6 months)', 'place': '', 'description': ''}\n",
      "{'role': 'Student', 'period': 'October 2009-May 2015(5 years 8 months)', 'place': '', 'description': '  Build a reduced-order model for the simulation of a 1-D flame.'}\n",
      "{'role': 'Electrical Engineer', 'period': 'October 2012-January 2013(4 months)', 'place': '', 'description': '  Beneventos University Electrical Engineer October 2012-January 2013(4 months)  I co-worked with experienced Electrical Engineers for the design of a Low Voltage Industrial Power System. I evaluated the system layout, the industrial          plant layout, the optimized cross section area of the electrical cables, and chose the adequate protection system for the case, guaranteeing selectivity and promptness.'}\n",
      "{'role': 'Mechanical Engineering Apprentice', 'period': 'June 2012-July 2012(2 months)', 'place': '', 'description': '  I was responsible for carrying out numerous tests on an Diesel internal- combustion engine through optical approach.   I collected visual and optical data about the injection and combustion cycle of the Diesel engine, and focused on the effect of fuel spray jet penetration and shape on the engines pressure-cycle, heat-release rate and performance.  Analysis on the shape of the fuel jets was made possible by the \"Active Contours\" method, implemented on Software in order to automatically detect the contours of the sprays jets and reduce the subjectivity of the analysis.'}\n"
     ]
    }
   ],
   "source": [
    "for job in user1['experience']:\n",
    "    print(job)"
   ]
  },
  {
   "cell_type": "code",
   "execution_count": 31,
   "metadata": {},
   "outputs": [],
   "source": [
    "def get_time(string):\n",
    "    date=[]\n",
    "    strings=string.split(\"-\")\n",
    "    for s in strings:\n",
    "        date=date+list(lexnlp.extract.en.dates.get_dates(s))\n",
    "    return date"
   ]
  },
  {
   "cell_type": "code",
   "execution_count": 67,
   "metadata": {},
   "outputs": [],
   "source": [
    "res=get_time('July 2015 to August 2015 (2 months)')"
   ]
  },
  {
   "cell_type": "code",
   "execution_count": 70,
   "metadata": {},
   "outputs": [
    {
     "name": "stdout",
     "output_type": "stream",
     "text": [
      "Unix_Time:  1438380000.0\n"
     ]
    }
   ],
   "source": [
    "print(\"Unix_Time: \",\n",
    "      (time.mktime(res[1].timetuple())))"
   ]
  },
  {
   "cell_type": "code",
   "execution_count": 60,
   "metadata": {},
   "outputs": [
    {
     "data": {
      "text/plain": [
       "datetime.date(2015, 8, 1)"
      ]
     },
     "execution_count": 60,
     "metadata": {},
     "output_type": "execute_result"
    }
   ],
   "source": [
    "r"
   ]
  },
  {
   "cell_type": "code",
   "execution_count": 6,
   "metadata": {},
   "outputs": [
    {
     "name": "stdout",
     "output_type": "stream",
     "text": [
      "Unix_Time:  18741600.0\n"
     ]
    }
   ],
   "source": [
    "import datetime\n",
    "import time\n",
    " \n",
    "datetime = datetime.date(1970, 8, 6)\n",
    "print(\"Unix_Time: \",\n",
    "      (time.mktime(datetime.timetuple())))"
   ]
  },
  {
   "cell_type": "code",
   "execution_count": 4,
   "metadata": {},
   "outputs": [
    {
     "name": "stdout",
     "output_type": "stream",
     "text": [
      "Unix_Time:  1569880800.0\n"
     ]
    }
   ],
   "source": [
    "import datetime\n",
    "import time\n",
    " \n",
    "datetime = datetime.date(2019, 10, 1)\n",
    "print(\"Unix_Time: \",\n",
    "      (time.mktime(datetime.timetuple())))"
   ]
  },
  {
   "cell_type": "code",
   "execution_count": null,
   "metadata": {},
   "outputs": [],
   "source": [
    "datetime"
   ]
  }
 ],
 "metadata": {
  "kernelspec": {
   "display_name": "Python 3 (ipykernel)",
   "language": "python",
   "name": "python3"
  },
  "language_info": {
   "codemirror_mode": {
    "name": "ipython",
    "version": 3
   },
   "file_extension": ".py",
   "mimetype": "text/x-python",
   "name": "python",
   "nbconvert_exporter": "python",
   "pygments_lexer": "ipython3",
   "version": "3.6.13"
  }
 },
 "nbformat": 4,
 "nbformat_minor": 4
}
