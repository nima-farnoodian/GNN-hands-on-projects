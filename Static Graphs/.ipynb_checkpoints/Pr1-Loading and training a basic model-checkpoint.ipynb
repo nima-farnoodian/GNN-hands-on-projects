{
 "cells": [
  {
   "cell_type": "markdown",
   "metadata": {},
   "source": [
    "# A simple network in PyG"
   ]
  },
  {
   "cell_type": "code",
   "execution_count": 1,
   "metadata": {},
   "outputs": [],
   "source": [
    "import torch\n",
    "from torch_geometric.data import Data"
   ]
  },
  {
   "cell_type": "code",
   "execution_count": 4,
   "metadata": {},
   "outputs": [],
   "source": [
    "edge_index=torch.tensor([[0,1,1,2],\n",
    "                        [1,0,2,1]])\n",
    "x=torch.tensor([[-1],[2],[1]])\n",
    "network=Data(x=x,edge_index=edge_index)"
   ]
  },
  {
   "cell_type": "code",
   "execution_count": 10,
   "metadata": {},
   "outputs": [
    {
     "data": {
      "text/plain": [
       "Data(x=[3, 1], edge_index=[2, 4])"
      ]
     },
     "execution_count": 10,
     "metadata": {},
     "output_type": "execute_result"
    }
   ],
   "source": [
    "network"
   ]
  },
  {
   "cell_type": "code",
   "execution_count": 6,
   "metadata": {},
   "outputs": [
    {
     "data": {
      "text/plain": [
       "True"
      ]
     },
     "execution_count": 6,
     "metadata": {},
     "output_type": "execute_result"
    }
   ],
   "source": [
    "network.is_undirected()"
   ]
  },
  {
   "cell_type": "code",
   "execution_count": 7,
   "metadata": {},
   "outputs": [
    {
     "data": {
      "text/plain": [
       "4"
      ]
     },
     "execution_count": 7,
     "metadata": {},
     "output_type": "execute_result"
    }
   ],
   "source": [
    "network.num_edges"
   ]
  },
  {
   "cell_type": "markdown",
   "metadata": {},
   "source": [
    "## Another approach to create a network (More pythonic way)"
   ]
  },
  {
   "cell_type": "code",
   "execution_count": 11,
   "metadata": {},
   "outputs": [],
   "source": [
    "edge_index=torch.tensor([[0,1],\n",
    "                        [1,0],\n",
    "                        [1,2],\n",
    "                        [2,1]])"
   ]
  },
  {
   "cell_type": "code",
   "execution_count": 14,
   "metadata": {},
   "outputs": [
    {
     "data": {
      "text/plain": [
       "tensor([[0, 1, 1, 2],\n",
       "        [1, 0, 2, 1]])"
      ]
     },
     "execution_count": 14,
     "metadata": {},
     "output_type": "execute_result"
    }
   ],
   "source": [
    "edge_index.t().contiguous()"
   ]
  },
  {
   "cell_type": "code",
   "execution_count": 15,
   "metadata": {},
   "outputs": [],
   "source": [
    "edge_index=torch.tensor([[0,1],\n",
    "                        [1,0],\n",
    "                        [1,2],\n",
    "                        [2,1]])\n",
    "x=torch.tensor([[-1],[2],[1]])\n",
    "network=Data(x=x,edge_index=edge_index.t().contiguous())"
   ]
  },
  {
   "cell_type": "code",
   "execution_count": 16,
   "metadata": {},
   "outputs": [
    {
     "data": {
      "text/plain": [
       "Data(x=[3, 1], edge_index=[2, 4])"
      ]
     },
     "execution_count": 16,
     "metadata": {},
     "output_type": "execute_result"
    }
   ],
   "source": [
    "network"
   ]
  },
  {
   "cell_type": "code",
   "execution_count": 20,
   "metadata": {},
   "outputs": [
    {
     "data": {
      "text/plain": [
       "['x', 'edge_index']"
      ]
     },
     "execution_count": 20,
     "metadata": {},
     "output_type": "execute_result"
    }
   ],
   "source": [
    "network.keys"
   ]
  },
  {
   "cell_type": "code",
   "execution_count": 21,
   "metadata": {},
   "outputs": [
    {
     "name": "stdout",
     "output_type": "stream",
     "text": [
      "x tensor([[-1],\n",
      "        [ 2],\n",
      "        [ 1]])\n",
      "edge_index tensor([[0, 1, 1, 2],\n",
      "        [1, 0, 2, 1]])\n"
     ]
    }
   ],
   "source": [
    "for key,item in network:\n",
    "    print(key,item)"
   ]
  },
  {
   "cell_type": "code",
   "execution_count": 22,
   "metadata": {},
   "outputs": [
    {
     "data": {
      "text/plain": [
       "False"
      ]
     },
     "execution_count": 22,
     "metadata": {},
     "output_type": "execute_result"
    }
   ],
   "source": [
    "'edge_attr' in network"
   ]
  },
  {
   "cell_type": "code",
   "execution_count": 23,
   "metadata": {},
   "outputs": [
    {
     "data": {
      "text/plain": [
       "True"
      ]
     },
     "execution_count": 23,
     "metadata": {},
     "output_type": "execute_result"
    }
   ],
   "source": [
    "'x' in network"
   ]
  },
  {
   "cell_type": "code",
   "execution_count": 29,
   "metadata": {},
   "outputs": [],
   "source": [
    "device=torch.device('cpu')\n",
    "network=network.to(device)"
   ]
  },
  {
   "cell_type": "markdown",
   "metadata": {},
   "source": [
    "# Common Available Database in PyG"
   ]
  },
  {
   "cell_type": "code",
   "execution_count": 50,
   "metadata": {},
   "outputs": [],
   "source": [
    "from torch_geometric.datasets import TUDataset\n",
    "\n",
    "dataset = TUDataset(root='/tmp/ENZYMES', name='ENZYMES')"
   ]
  },
  {
   "cell_type": "code",
   "execution_count": 31,
   "metadata": {},
   "outputs": [
    {
     "data": {
      "text/plain": [
       "ENZYMES(600)"
      ]
     },
     "execution_count": 31,
     "metadata": {},
     "output_type": "execute_result"
    }
   ],
   "source": [
    "dataset"
   ]
  },
  {
   "cell_type": "code",
   "execution_count": 37,
   "metadata": {},
   "outputs": [
    {
     "name": "stdout",
     "output_type": "stream",
     "text": [
      "Data(edge_index=[2, 168], x=[37, 3], y=[1]) tensor([[0, 1, 1, 2],\n",
      "        [1, 0, 2, 1]])\n",
      "Data(edge_index=[2, 102], x=[23, 3], y=[1]) tensor([[0, 1, 1, 2],\n",
      "        [1, 0, 2, 1]])\n",
      "Data(edge_index=[2, 92], x=[25, 3], y=[1]) tensor([[0, 1, 1, 2],\n",
      "        [1, 0, 2, 1]])\n",
      "Data(edge_index=[2, 90], x=[24, 3], y=[1]) tensor([[0, 1, 1, 2],\n",
      "        [1, 0, 2, 1]])\n",
      "Data(edge_index=[2, 90], x=[23, 3], y=[1]) tensor([[0, 1, 1, 2],\n",
      "        [1, 0, 2, 1]])\n",
      "Data(edge_index=[2, 92], x=[24, 3], y=[1]) tensor([[0, 1, 1, 2],\n",
      "        [1, 0, 2, 1]])\n",
      "Data(edge_index=[2, 118], x=[26, 3], y=[1]) tensor([[0, 1, 1, 2],\n",
      "        [1, 0, 2, 1]])\n",
      "Data(edge_index=[2, 266], x=[88, 3], y=[1]) tensor([[0, 1, 1, 2],\n",
      "        [1, 0, 2, 1]])\n",
      "Data(edge_index=[2, 78], x=[23, 3], y=[1]) tensor([[0, 1, 1, 2],\n",
      "        [1, 0, 2, 1]])\n",
      "Data(edge_index=[2, 106], x=[32, 3], y=[1]) tensor([[0, 1, 1, 2],\n",
      "        [1, 0, 2, 1]])\n",
      "Data(edge_index=[2, 12], x=[4, 3], y=[1]) tensor([[0, 1, 1, 2],\n",
      "        [1, 0, 2, 1]])\n",
      "Data(edge_index=[2, 56], x=[14, 3], y=[1]) tensor([[0, 1, 1, 2],\n",
      "        [1, 0, 2, 1]])\n",
      "Data(edge_index=[2, 150], x=[42, 3], y=[1]) tensor([[0, 1, 1, 2],\n",
      "        [1, 0, 2, 1]])\n",
      "Data(edge_index=[2, 146], x=[41, 3], y=[1]) tensor([[0, 1, 1, 2],\n",
      "        [1, 0, 2, 1]])\n",
      "Data(edge_index=[2, 128], x=[36, 3], y=[1]) tensor([[0, 1, 1, 2],\n",
      "        [1, 0, 2, 1]])\n",
      "Data(edge_index=[2, 194], x=[55, 3], y=[1]) tensor([[0, 1, 1, 2],\n",
      "        [1, 0, 2, 1]])\n",
      "Data(edge_index=[2, 190], x=[40, 3], y=[1]) tensor([[0, 1, 1, 2],\n",
      "        [1, 0, 2, 1]])\n",
      "Data(edge_index=[2, 182], x=[38, 3], y=[1]) tensor([[0, 1, 1, 2],\n",
      "        [1, 0, 2, 1]])\n",
      "Data(edge_index=[2, 2], x=[2, 3], y=[1]) tensor([[0, 1, 1, 2],\n",
      "        [1, 0, 2, 1]])\n",
      "Data(edge_index=[2, 140], x=[35, 3], y=[1]) tensor([[0, 1, 1, 2],\n",
      "        [1, 0, 2, 1]])\n",
      "Data(edge_index=[2, 180], x=[42, 3], y=[1]) tensor([[0, 1, 1, 2],\n",
      "        [1, 0, 2, 1]])\n",
      "Data(edge_index=[2, 180], x=[41, 3], y=[1]) tensor([[0, 1, 1, 2],\n",
      "        [1, 0, 2, 1]])\n",
      "Data(edge_index=[2, 162], x=[39, 3], y=[1]) tensor([[0, 1, 1, 2],\n",
      "        [1, 0, 2, 1]])\n",
      "Data(edge_index=[2, 184], x=[42, 3], y=[1]) tensor([[0, 1, 1, 2],\n",
      "        [1, 0, 2, 1]])\n",
      "Data(edge_index=[2, 176], x=[41, 3], y=[1]) tensor([[0, 1, 1, 2],\n",
      "        [1, 0, 2, 1]])\n",
      "Data(edge_index=[2, 170], x=[40, 3], y=[1]) tensor([[0, 1, 1, 2],\n",
      "        [1, 0, 2, 1]])\n",
      "Data(edge_index=[2, 166], x=[37, 3], y=[1]) tensor([[0, 1, 1, 2],\n",
      "        [1, 0, 2, 1]])\n",
      "Data(edge_index=[2, 98], x=[23, 3], y=[1]) tensor([[0, 1, 1, 2],\n",
      "        [1, 0, 2, 1]])\n",
      "Data(edge_index=[2, 94], x=[22, 3], y=[1]) tensor([[0, 1, 1, 2],\n",
      "        [1, 0, 2, 1]])\n",
      "Data(edge_index=[2, 132], x=[34, 3], y=[1]) tensor([[0, 1, 1, 2],\n",
      "        [1, 0, 2, 1]])\n",
      "Data(edge_index=[2, 162], x=[38, 3], y=[1]) tensor([[0, 1, 1, 2],\n",
      "        [1, 0, 2, 1]])\n",
      "Data(edge_index=[2, 158], x=[38, 3], y=[1]) tensor([[0, 1, 1, 2],\n",
      "        [1, 0, 2, 1]])\n",
      "Data(edge_index=[2, 164], x=[39, 3], y=[1]) tensor([[0, 1, 1, 2],\n",
      "        [1, 0, 2, 1]])\n",
      "Data(edge_index=[2, 28], x=[8, 3], y=[1]) tensor([[0, 1, 1, 2],\n",
      "        [1, 0, 2, 1]])\n",
      "Data(edge_index=[2, 88], x=[23, 3], y=[1]) tensor([[0, 1, 1, 2],\n",
      "        [1, 0, 2, 1]])\n",
      "Data(edge_index=[2, 162], x=[42, 3], y=[1]) tensor([[0, 1, 1, 2],\n",
      "        [1, 0, 2, 1]])\n",
      "Data(edge_index=[2, 160], x=[42, 3], y=[1]) tensor([[0, 1, 1, 2],\n",
      "        [1, 0, 2, 1]])\n",
      "Data(edge_index=[2, 32], x=[100, 3], y=[1]) tensor([[0, 1, 1, 2],\n",
      "        [1, 0, 2, 1]])\n",
      "Data(edge_index=[2, 86], x=[24, 3], y=[1]) tensor([[0, 1, 1, 2],\n",
      "        [1, 0, 2, 1]])\n",
      "Data(edge_index=[2, 100], x=[24, 3], y=[1]) tensor([[0, 1, 1, 2],\n",
      "        [1, 0, 2, 1]])\n",
      "Data(edge_index=[2, 190], x=[47, 3], y=[1]) tensor([[0, 1, 1, 2],\n",
      "        [1, 0, 2, 1]])\n",
      "Data(edge_index=[2, 194], x=[45, 3], y=[1]) tensor([[0, 1, 1, 2],\n",
      "        [1, 0, 2, 1]])\n",
      "Data(edge_index=[2, 190], x=[45, 3], y=[1]) tensor([[0, 1, 1, 2],\n",
      "        [1, 0, 2, 1]])\n",
      "Data(edge_index=[2, 190], x=[45, 3], y=[1]) tensor([[0, 1, 1, 2],\n",
      "        [1, 0, 2, 1]])\n",
      "Data(edge_index=[2, 194], x=[46, 3], y=[1]) tensor([[0, 1, 1, 2],\n",
      "        [1, 0, 2, 1]])\n",
      "Data(edge_index=[2, 190], x=[44, 3], y=[1]) tensor([[0, 1, 1, 2],\n",
      "        [1, 0, 2, 1]])\n",
      "Data(edge_index=[2, 102], x=[30, 3], y=[1]) tensor([[0, 1, 1, 2],\n",
      "        [1, 0, 2, 1]])\n",
      "Data(edge_index=[2, 114], x=[32, 3], y=[1]) tensor([[0, 1, 1, 2],\n",
      "        [1, 0, 2, 1]])\n",
      "Data(edge_index=[2, 128], x=[33, 3], y=[1]) tensor([[0, 1, 1, 2],\n",
      "        [1, 0, 2, 1]])\n",
      "Data(edge_index=[2, 30], x=[9, 3], y=[1]) tensor([[0, 1, 1, 2],\n",
      "        [1, 0, 2, 1]])\n",
      "Data(edge_index=[2, 94], x=[27, 3], y=[1]) tensor([[0, 1, 1, 2],\n",
      "        [1, 0, 2, 1]])\n",
      "Data(edge_index=[2, 170], x=[39, 3], y=[1]) tensor([[0, 1, 1, 2],\n",
      "        [1, 0, 2, 1]])\n",
      "Data(edge_index=[2, 62], x=[16, 3], y=[1]) tensor([[0, 1, 1, 2],\n",
      "        [1, 0, 2, 1]])\n",
      "Data(edge_index=[2, 62], x=[18, 3], y=[1]) tensor([[0, 1, 1, 2],\n",
      "        [1, 0, 2, 1]])\n",
      "Data(edge_index=[2, 24], x=[7, 3], y=[1]) tensor([[0, 1, 1, 2],\n",
      "        [1, 0, 2, 1]])\n",
      "Data(edge_index=[2, 74], x=[18, 3], y=[1]) tensor([[0, 1, 1, 2],\n",
      "        [1, 0, 2, 1]])\n",
      "Data(edge_index=[2, 36], x=[10, 3], y=[1]) tensor([[0, 1, 1, 2],\n",
      "        [1, 0, 2, 1]])\n",
      "Data(edge_index=[2, 100], x=[21, 3], y=[1]) tensor([[0, 1, 1, 2],\n",
      "        [1, 0, 2, 1]])\n",
      "Data(edge_index=[2, 64], x=[18, 3], y=[1]) tensor([[0, 1, 1, 2],\n",
      "        [1, 0, 2, 1]])\n",
      "Data(edge_index=[2, 36], x=[10, 3], y=[1]) tensor([[0, 1, 1, 2],\n",
      "        [1, 0, 2, 1]])\n",
      "Data(edge_index=[2, 32], x=[9, 3], y=[1]) tensor([[0, 1, 1, 2],\n",
      "        [1, 0, 2, 1]])\n",
      "Data(edge_index=[2, 140], x=[39, 3], y=[1]) tensor([[0, 1, 1, 2],\n",
      "        [1, 0, 2, 1]])\n",
      "Data(edge_index=[2, 110], x=[33, 3], y=[1]) tensor([[0, 1, 1, 2],\n",
      "        [1, 0, 2, 1]])\n",
      "Data(edge_index=[2, 98], x=[29, 3], y=[1]) tensor([[0, 1, 1, 2],\n",
      "        [1, 0, 2, 1]])\n",
      "Data(edge_index=[2, 78], x=[24, 3], y=[1]) tensor([[0, 1, 1, 2],\n",
      "        [1, 0, 2, 1]])\n",
      "Data(edge_index=[2, 86], x=[25, 3], y=[1]) tensor([[0, 1, 1, 2],\n",
      "        [1, 0, 2, 1]])\n",
      "Data(edge_index=[2, 108], x=[30, 3], y=[1]) tensor([[0, 1, 1, 2],\n",
      "        [1, 0, 2, 1]])\n",
      "Data(edge_index=[2, 150], x=[38, 3], y=[1]) tensor([[0, 1, 1, 2],\n",
      "        [1, 0, 2, 1]])\n",
      "Data(edge_index=[2, 110], x=[28, 3], y=[1]) tensor([[0, 1, 1, 2],\n",
      "        [1, 0, 2, 1]])\n",
      "Data(edge_index=[2, 108], x=[28, 3], y=[1]) tensor([[0, 1, 1, 2],\n",
      "        [1, 0, 2, 1]])\n",
      "Data(edge_index=[2, 176], x=[38, 3], y=[1]) tensor([[0, 1, 1, 2],\n",
      "        [1, 0, 2, 1]])\n",
      "Data(edge_index=[2, 140], x=[40, 3], y=[1]) tensor([[0, 1, 1, 2],\n",
      "        [1, 0, 2, 1]])\n",
      "Data(edge_index=[2, 174], x=[40, 3], y=[1]) tensor([[0, 1, 1, 2],\n",
      "        [1, 0, 2, 1]])\n",
      "Data(edge_index=[2, 188], x=[42, 3], y=[1]) tensor([[0, 1, 1, 2],\n",
      "        [1, 0, 2, 1]])\n",
      "Data(edge_index=[2, 72], x=[20, 3], y=[1]) tensor([[0, 1, 1, 2],\n",
      "        [1, 0, 2, 1]])\n",
      "Data(edge_index=[2, 70], x=[19, 3], y=[1]) tensor([[0, 1, 1, 2],\n",
      "        [1, 0, 2, 1]])\n",
      "Data(edge_index=[2, 56], x=[16, 3], y=[1]) tensor([[0, 1, 1, 2],\n",
      "        [1, 0, 2, 1]])\n",
      "Data(edge_index=[2, 58], x=[17, 3], y=[1]) tensor([[0, 1, 1, 2],\n",
      "        [1, 0, 2, 1]])\n",
      "Data(edge_index=[2, 80], x=[20, 3], y=[1]) tensor([[0, 1, 1, 2],\n",
      "        [1, 0, 2, 1]])\n",
      "Data(edge_index=[2, 64], x=[18, 3], y=[1]) tensor([[0, 1, 1, 2],\n",
      "        [1, 0, 2, 1]])\n",
      "Data(edge_index=[2, 138], x=[33, 3], y=[1]) tensor([[0, 1, 1, 2],\n",
      "        [1, 0, 2, 1]])\n",
      "Data(edge_index=[2, 88], x=[23, 3], y=[1]) tensor([[0, 1, 1, 2],\n",
      "        [1, 0, 2, 1]])\n",
      "Data(edge_index=[2, 84], x=[23, 3], y=[1]) tensor([[0, 1, 1, 2],\n",
      "        [1, 0, 2, 1]])\n",
      "Data(edge_index=[2, 148], x=[35, 3], y=[1]) tensor([[0, 1, 1, 2],\n",
      "        [1, 0, 2, 1]])\n",
      "Data(edge_index=[2, 136], x=[33, 3], y=[1]) tensor([[0, 1, 1, 2],\n",
      "        [1, 0, 2, 1]])\n",
      "Data(edge_index=[2, 138], x=[39, 3], y=[1]) tensor([[0, 1, 1, 2],\n",
      "        [1, 0, 2, 1]])\n",
      "Data(edge_index=[2, 146], x=[40, 3], y=[1]) tensor([[0, 1, 1, 2],\n",
      "        [1, 0, 2, 1]])\n",
      "Data(edge_index=[2, 182], x=[38, 3], y=[1]) tensor([[0, 1, 1, 2],\n",
      "        [1, 0, 2, 1]])\n",
      "Data(edge_index=[2, 188], x=[40, 3], y=[1]) tensor([[0, 1, 1, 2],\n",
      "        [1, 0, 2, 1]])\n",
      "Data(edge_index=[2, 132], x=[38, 3], y=[1]) tensor([[0, 1, 1, 2],\n",
      "        [1, 0, 2, 1]])\n",
      "Data(edge_index=[2, 158], x=[37, 3], y=[1]) tensor([[0, 1, 1, 2],\n",
      "        [1, 0, 2, 1]])\n",
      "Data(edge_index=[2, 154], x=[36, 3], y=[1]) tensor([[0, 1, 1, 2],\n",
      "        [1, 0, 2, 1]])\n",
      "Data(edge_index=[2, 112], x=[34, 3], y=[1]) tensor([[0, 1, 1, 2],\n",
      "        [1, 0, 2, 1]])\n",
      "Data(edge_index=[2, 134], x=[34, 3], y=[1]) tensor([[0, 1, 1, 2],\n",
      "        [1, 0, 2, 1]])\n",
      "Data(edge_index=[2, 128], x=[32, 3], y=[1]) tensor([[0, 1, 1, 2],\n",
      "        [1, 0, 2, 1]])\n",
      "Data(edge_index=[2, 64], x=[18, 3], y=[1]) tensor([[0, 1, 1, 2],\n",
      "        [1, 0, 2, 1]])\n",
      "Data(edge_index=[2, 130], x=[32, 3], y=[1]) tensor([[0, 1, 1, 2],\n",
      "        [1, 0, 2, 1]])\n",
      "Data(edge_index=[2, 134], x=[34, 3], y=[1]) tensor([[0, 1, 1, 2],\n",
      "        [1, 0, 2, 1]])\n",
      "Data(edge_index=[2, 116], x=[30, 3], y=[1]) tensor([[0, 1, 1, 2],\n",
      "        [1, 0, 2, 1]])\n",
      "Data(edge_index=[2, 18], x=[5, 3], y=[1]) tensor([[0, 1, 1, 2],\n",
      "        [1, 0, 2, 1]])\n",
      "Data(edge_index=[2, 176], x=[45, 3], y=[1]) tensor([[0, 1, 1, 2],\n",
      "        [1, 0, 2, 1]])\n",
      "Data(edge_index=[2, 164], x=[42, 3], y=[1]) tensor([[0, 1, 1, 2],\n",
      "        [1, 0, 2, 1]])\n",
      "Data(edge_index=[2, 230], x=[59, 3], y=[1]) tensor([[0, 1, 1, 2],\n",
      "        [1, 0, 2, 1]])\n",
      "Data(edge_index=[2, 128], x=[32, 3], y=[1]) tensor([[0, 1, 1, 2],\n",
      "        [1, 0, 2, 1]])\n",
      "Data(edge_index=[2, 138], x=[33, 3], y=[1]) tensor([[0, 1, 1, 2],\n",
      "        [1, 0, 2, 1]])\n",
      "Data(edge_index=[2, 60], x=[17, 3], y=[1]) tensor([[0, 1, 1, 2],\n",
      "        [1, 0, 2, 1]])\n",
      "Data(edge_index=[2, 166], x=[39, 3], y=[1]) tensor([[0, 1, 1, 2],\n",
      "        [1, 0, 2, 1]])\n",
      "Data(edge_index=[2, 164], x=[38, 3], y=[1]) tensor([[0, 1, 1, 2],\n",
      "        [1, 0, 2, 1]])\n",
      "Data(edge_index=[2, 140], x=[35, 3], y=[1]) tensor([[0, 1, 1, 2],\n",
      "        [1, 0, 2, 1]])\n",
      "Data(edge_index=[2, 58], x=[16, 3], y=[1]) tensor([[0, 1, 1, 2],\n",
      "        [1, 0, 2, 1]])\n",
      "Data(edge_index=[2, 98], x=[26, 3], y=[1]) tensor([[0, 1, 1, 2],\n",
      "        [1, 0, 2, 1]])\n",
      "Data(edge_index=[2, 190], x=[51, 3], y=[1]) tensor([[0, 1, 1, 2],\n",
      "        [1, 0, 2, 1]])\n",
      "Data(edge_index=[2, 196], x=[52, 3], y=[1]) tensor([[0, 1, 1, 2],\n",
      "        [1, 0, 2, 1]])\n",
      "Data(edge_index=[2, 94], x=[25, 3], y=[1]) tensor([[0, 1, 1, 2],\n",
      "        [1, 0, 2, 1]])\n",
      "Data(edge_index=[2, 102], x=[27, 3], y=[1]) tensor([[0, 1, 1, 2],\n",
      "        [1, 0, 2, 1]])\n",
      "Data(edge_index=[2, 148], x=[42, 3], y=[1]) tensor([[0, 1, 1, 2],\n",
      "        [1, 0, 2, 1]])\n",
      "Data(edge_index=[2, 180], x=[46, 3], y=[1]) tensor([[0, 1, 1, 2],\n",
      "        [1, 0, 2, 1]])\n",
      "Data(edge_index=[2, 242], x=[96, 3], y=[1]) tensor([[0, 1, 1, 2],\n",
      "        [1, 0, 2, 1]])\n",
      "Data(edge_index=[2, 44], x=[12, 3], y=[1]) tensor([[0, 1, 1, 2],\n",
      "        [1, 0, 2, 1]])\n",
      "Data(edge_index=[2, 92], x=[22, 3], y=[1]) tensor([[0, 1, 1, 2],\n",
      "        [1, 0, 2, 1]])\n",
      "Data(edge_index=[2, 164], x=[42, 3], y=[1]) tensor([[0, 1, 1, 2],\n",
      "        [1, 0, 2, 1]])\n",
      "Data(edge_index=[2, 58], x=[14, 3], y=[1]) tensor([[0, 1, 1, 2],\n",
      "        [1, 0, 2, 1]])\n",
      "Data(edge_index=[2, 254], x=[90, 3], y=[1]) tensor([[0, 1, 1, 2],\n",
      "        [1, 0, 2, 1]])\n",
      "Data(edge_index=[2, 62], x=[14, 3], y=[1]) tensor([[0, 1, 1, 2],\n",
      "        [1, 0, 2, 1]])\n",
      "Data(edge_index=[2, 66], x=[14, 3], y=[1]) tensor([[0, 1, 1, 2],\n",
      "        [1, 0, 2, 1]])\n",
      "Data(edge_index=[2, 94], x=[32, 3], y=[1]) tensor([[0, 1, 1, 2],\n",
      "        [1, 0, 2, 1]])\n",
      "Data(edge_index=[2, 46], x=[11, 3], y=[1]) tensor([[0, 1, 1, 2],\n",
      "        [1, 0, 2, 1]])\n",
      "Data(edge_index=[2, 74], x=[26, 3], y=[1]) tensor([[0, 1, 1, 2],\n",
      "        [1, 0, 2, 1]])\n",
      "Data(edge_index=[2, 40], x=[11, 3], y=[1]) tensor([[0, 1, 1, 2],\n",
      "        [1, 0, 2, 1]])\n",
      "Data(edge_index=[2, 50], x=[14, 3], y=[1]) tensor([[0, 1, 1, 2],\n",
      "        [1, 0, 2, 1]])\n",
      "Data(edge_index=[2, 70], x=[18, 3], y=[1]) tensor([[0, 1, 1, 2],\n",
      "        [1, 0, 2, 1]])\n",
      "Data(edge_index=[2, 64], x=[16, 3], y=[1]) tensor([[0, 1, 1, 2],\n",
      "        [1, 0, 2, 1]])\n",
      "Data(edge_index=[2, 68], x=[17, 3], y=[1]) tensor([[0, 1, 1, 2],\n",
      "        [1, 0, 2, 1]])\n",
      "Data(edge_index=[2, 102], x=[32, 3], y=[1]) tensor([[0, 1, 1, 2],\n",
      "        [1, 0, 2, 1]])\n",
      "Data(edge_index=[2, 52], x=[13, 3], y=[1]) tensor([[0, 1, 1, 2],\n",
      "        [1, 0, 2, 1]])\n",
      "Data(edge_index=[2, 6], x=[3, 3], y=[1]) tensor([[0, 1, 1, 2],\n",
      "        [1, 0, 2, 1]])\n",
      "Data(edge_index=[2, 80], x=[22, 3], y=[1]) tensor([[0, 1, 1, 2],\n",
      "        [1, 0, 2, 1]])\n",
      "Data(edge_index=[2, 72], x=[16, 3], y=[1]) tensor([[0, 1, 1, 2],\n",
      "        [1, 0, 2, 1]])\n",
      "Data(edge_index=[2, 164], x=[38, 3], y=[1]) tensor([[0, 1, 1, 2],\n",
      "        [1, 0, 2, 1]])\n",
      "Data(edge_index=[2, 56], x=[13, 3], y=[1]) tensor([[0, 1, 1, 2],\n",
      "        [1, 0, 2, 1]])\n",
      "Data(edge_index=[2, 48], x=[12, 3], y=[1]) tensor([[0, 1, 1, 2],\n",
      "        [1, 0, 2, 1]])\n",
      "Data(edge_index=[2, 58], x=[14, 3], y=[1]) tensor([[0, 1, 1, 2],\n",
      "        [1, 0, 2, 1]])\n",
      "Data(edge_index=[2, 122], x=[39, 3], y=[1]) tensor([[0, 1, 1, 2],\n",
      "        [1, 0, 2, 1]])\n",
      "Data(edge_index=[2, 70], x=[19, 3], y=[1]) tensor([[0, 1, 1, 2],\n",
      "        [1, 0, 2, 1]])\n",
      "Data(edge_index=[2, 78], x=[20, 3], y=[1]) tensor([[0, 1, 1, 2],\n",
      "        [1, 0, 2, 1]])\n",
      "Data(edge_index=[2, 174], x=[39, 3], y=[1]) tensor([[0, 1, 1, 2],\n",
      "        [1, 0, 2, 1]])\n",
      "Data(edge_index=[2, 168], x=[40, 3], y=[1]) tensor([[0, 1, 1, 2],\n",
      "        [1, 0, 2, 1]])\n",
      "Data(edge_index=[2, 160], x=[39, 3], y=[1]) tensor([[0, 1, 1, 2],\n",
      "        [1, 0, 2, 1]])\n",
      "Data(edge_index=[2, 164], x=[39, 3], y=[1]) tensor([[0, 1, 1, 2],\n",
      "        [1, 0, 2, 1]])\n",
      "Data(edge_index=[2, 82], x=[29, 3], y=[1]) tensor([[0, 1, 1, 2],\n",
      "        [1, 0, 2, 1]])\n",
      "Data(edge_index=[2, 80], x=[22, 3], y=[1]) tensor([[0, 1, 1, 2],\n",
      "        [1, 0, 2, 1]])\n",
      "Data(edge_index=[2, 44], x=[11, 3], y=[1]) tensor([[0, 1, 1, 2],\n",
      "        [1, 0, 2, 1]])\n",
      "Data(edge_index=[2, 32], x=[8, 3], y=[1]) tensor([[0, 1, 1, 2],\n",
      "        [1, 0, 2, 1]])\n",
      "Data(edge_index=[2, 44], x=[13, 3], y=[1]) tensor([[0, 1, 1, 2],\n",
      "        [1, 0, 2, 1]])\n",
      "Data(edge_index=[2, 66], x=[18, 3], y=[1]) tensor([[0, 1, 1, 2],\n",
      "        [1, 0, 2, 1]])\n",
      "Data(edge_index=[2, 44], x=[12, 3], y=[1]) tensor([[0, 1, 1, 2],\n",
      "        [1, 0, 2, 1]])\n",
      "Data(edge_index=[2, 30], x=[8, 3], y=[1]) tensor([[0, 1, 1, 2],\n",
      "        [1, 0, 2, 1]])\n",
      "Data(edge_index=[2, 126], x=[40, 3], y=[1]) tensor([[0, 1, 1, 2],\n",
      "        [1, 0, 2, 1]])\n",
      "Data(edge_index=[2, 50], x=[12, 3], y=[1]) tensor([[0, 1, 1, 2],\n",
      "        [1, 0, 2, 1]])\n",
      "Data(edge_index=[2, 96], x=[22, 3], y=[1]) tensor([[0, 1, 1, 2],\n",
      "        [1, 0, 2, 1]])\n",
      "Data(edge_index=[2, 84], x=[22, 3], y=[1]) tensor([[0, 1, 1, 2],\n",
      "        [1, 0, 2, 1]])\n",
      "Data(edge_index=[2, 64], x=[18, 3], y=[1]) tensor([[0, 1, 1, 2],\n",
      "        [1, 0, 2, 1]])\n",
      "Data(edge_index=[2, 44], x=[12, 3], y=[1]) tensor([[0, 1, 1, 2],\n",
      "        [1, 0, 2, 1]])\n",
      "Data(edge_index=[2, 72], x=[17, 3], y=[1]) tensor([[0, 1, 1, 2],\n",
      "        [1, 0, 2, 1]])\n",
      "Data(edge_index=[2, 52], x=[14, 3], y=[1]) tensor([[0, 1, 1, 2],\n",
      "        [1, 0, 2, 1]])\n",
      "Data(edge_index=[2, 72], x=[22, 3], y=[1]) tensor([[0, 1, 1, 2],\n",
      "        [1, 0, 2, 1]])\n",
      "Data(edge_index=[2, 188], x=[43, 3], y=[1]) tensor([[0, 1, 1, 2],\n",
      "        [1, 0, 2, 1]])\n",
      "Data(edge_index=[2, 168], x=[42, 3], y=[1]) tensor([[0, 1, 1, 2],\n",
      "        [1, 0, 2, 1]])\n",
      "Data(edge_index=[2, 188], x=[44, 3], y=[1]) tensor([[0, 1, 1, 2],\n",
      "        [1, 0, 2, 1]])\n",
      "Data(edge_index=[2, 82], x=[24, 3], y=[1]) tensor([[0, 1, 1, 2],\n",
      "        [1, 0, 2, 1]])\n",
      "Data(edge_index=[2, 198], x=[48, 3], y=[1]) tensor([[0, 1, 1, 2],\n",
      "        [1, 0, 2, 1]])\n",
      "Data(edge_index=[2, 92], x=[25, 3], y=[1]) tensor([[0, 1, 1, 2],\n",
      "        [1, 0, 2, 1]])\n",
      "Data(edge_index=[2, 192], x=[46, 3], y=[1]) tensor([[0, 1, 1, 2],\n",
      "        [1, 0, 2, 1]])\n",
      "Data(edge_index=[2, 196], x=[48, 3], y=[1]) tensor([[0, 1, 1, 2],\n",
      "        [1, 0, 2, 1]])\n",
      "Data(edge_index=[2, 86], x=[25, 3], y=[1]) tensor([[0, 1, 1, 2],\n",
      "        [1, 0, 2, 1]])\n",
      "Data(edge_index=[2, 192], x=[48, 3], y=[1]) tensor([[0, 1, 1, 2],\n",
      "        [1, 0, 2, 1]])\n",
      "Data(edge_index=[2, 192], x=[44, 3], y=[1]) tensor([[0, 1, 1, 2],\n",
      "        [1, 0, 2, 1]])\n",
      "Data(edge_index=[2, 176], x=[42, 3], y=[1]) tensor([[0, 1, 1, 2],\n",
      "        [1, 0, 2, 1]])\n",
      "Data(edge_index=[2, 118], x=[40, 3], y=[1]) tensor([[0, 1, 1, 2],\n",
      "        [1, 0, 2, 1]])\n",
      "Data(edge_index=[2, 120], x=[38, 3], y=[1]) tensor([[0, 1, 1, 2],\n",
      "        [1, 0, 2, 1]])\n",
      "Data(edge_index=[2, 162], x=[40, 3], y=[1]) tensor([[0, 1, 1, 2],\n",
      "        [1, 0, 2, 1]])\n",
      "Data(edge_index=[2, 172], x=[41, 3], y=[1]) tensor([[0, 1, 1, 2],\n",
      "        [1, 0, 2, 1]])\n",
      "Data(edge_index=[2, 188], x=[42, 3], y=[1]) tensor([[0, 1, 1, 2],\n",
      "        [1, 0, 2, 1]])\n",
      "Data(edge_index=[2, 182], x=[40, 3], y=[1]) tensor([[0, 1, 1, 2],\n",
      "        [1, 0, 2, 1]])\n",
      "Data(edge_index=[2, 190], x=[44, 3], y=[1]) tensor([[0, 1, 1, 2],\n",
      "        [1, 0, 2, 1]])\n",
      "Data(edge_index=[2, 80], x=[24, 3], y=[1]) tensor([[0, 1, 1, 2],\n",
      "        [1, 0, 2, 1]])\n",
      "Data(edge_index=[2, 188], x=[44, 3], y=[1]) tensor([[0, 1, 1, 2],\n",
      "        [1, 0, 2, 1]])\n",
      "Data(edge_index=[2, 78], x=[20, 3], y=[1]) tensor([[0, 1, 1, 2],\n",
      "        [1, 0, 2, 1]])\n",
      "Data(edge_index=[2, 190], x=[42, 3], y=[1]) tensor([[0, 1, 1, 2],\n",
      "        [1, 0, 2, 1]])\n",
      "Data(edge_index=[2, 98], x=[27, 3], y=[1]) tensor([[0, 1, 1, 2],\n",
      "        [1, 0, 2, 1]])\n",
      "Data(edge_index=[2, 192], x=[48, 3], y=[1]) tensor([[0, 1, 1, 2],\n",
      "        [1, 0, 2, 1]])\n",
      "Data(edge_index=[2, 132], x=[31, 3], y=[1]) tensor([[0, 1, 1, 2],\n",
      "        [1, 0, 2, 1]])\n",
      "Data(edge_index=[2, 120], x=[30, 3], y=[1]) tensor([[0, 1, 1, 2],\n",
      "        [1, 0, 2, 1]])\n",
      "Data(edge_index=[2, 200], x=[46, 3], y=[1]) tensor([[0, 1, 1, 2],\n",
      "        [1, 0, 2, 1]])\n",
      "Data(edge_index=[2, 184], x=[47, 3], y=[1]) tensor([[0, 1, 1, 2],\n",
      "        [1, 0, 2, 1]])\n",
      "Data(edge_index=[2, 172], x=[50, 3], y=[1]) tensor([[0, 1, 1, 2],\n",
      "        [1, 0, 2, 1]])\n",
      "Data(edge_index=[2, 154], x=[40, 3], y=[1]) tensor([[0, 1, 1, 2],\n",
      "        [1, 0, 2, 1]])\n",
      "Data(edge_index=[2, 154], x=[55, 3], y=[1]) tensor([[0, 1, 1, 2],\n",
      "        [1, 0, 2, 1]])\n",
      "Data(edge_index=[2, 216], x=[62, 3], y=[1]) tensor([[0, 1, 1, 2],\n",
      "        [1, 0, 2, 1]])\n",
      "Data(edge_index=[2, 144], x=[34, 3], y=[1]) tensor([[0, 1, 1, 2],\n",
      "        [1, 0, 2, 1]])\n",
      "Data(edge_index=[2, 106], x=[29, 3], y=[1]) tensor([[0, 1, 1, 2],\n",
      "        [1, 0, 2, 1]])\n",
      "Data(edge_index=[2, 90], x=[25, 3], y=[1]) tensor([[0, 1, 1, 2],\n",
      "        [1, 0, 2, 1]])\n",
      "Data(edge_index=[2, 200], x=[56, 3], y=[1]) tensor([[0, 1, 1, 2],\n",
      "        [1, 0, 2, 1]])\n",
      "Data(edge_index=[2, 210], x=[57, 3], y=[1]) tensor([[0, 1, 1, 2],\n",
      "        [1, 0, 2, 1]])\n",
      "Data(edge_index=[2, 122], x=[27, 3], y=[1]) tensor([[0, 1, 1, 2],\n",
      "        [1, 0, 2, 1]])\n",
      "Data(edge_index=[2, 86], x=[22, 3], y=[1]) tensor([[0, 1, 1, 2],\n",
      "        [1, 0, 2, 1]])\n",
      "Data(edge_index=[2, 86], x=[24, 3], y=[1]) tensor([[0, 1, 1, 2],\n",
      "        [1, 0, 2, 1]])\n",
      "Data(edge_index=[2, 100], x=[23, 3], y=[1]) tensor([[0, 1, 1, 2],\n",
      "        [1, 0, 2, 1]])\n",
      "Data(edge_index=[2, 202], x=[57, 3], y=[1]) tensor([[0, 1, 1, 2],\n",
      "        [1, 0, 2, 1]])\n",
      "Data(edge_index=[2, 100], x=[24, 3], y=[1]) tensor([[0, 1, 1, 2],\n",
      "        [1, 0, 2, 1]])\n",
      "Data(edge_index=[2, 100], x=[24, 3], y=[1]) tensor([[0, 1, 1, 2],\n",
      "        [1, 0, 2, 1]])\n",
      "Data(edge_index=[2, 94], x=[23, 3], y=[1]) tensor([[0, 1, 1, 2],\n",
      "        [1, 0, 2, 1]])\n",
      "Data(edge_index=[2, 110], x=[25, 3], y=[1]) tensor([[0, 1, 1, 2],\n",
      "        [1, 0, 2, 1]])\n",
      "Data(edge_index=[2, 102], x=[23, 3], y=[1]) tensor([[0, 1, 1, 2],\n",
      "        [1, 0, 2, 1]])\n",
      "Data(edge_index=[2, 208], x=[48, 3], y=[1]) tensor([[0, 1, 1, 2],\n",
      "        [1, 0, 2, 1]])\n",
      "Data(edge_index=[2, 94], x=[27, 3], y=[1]) tensor([[0, 1, 1, 2],\n",
      "        [1, 0, 2, 1]])\n",
      "Data(edge_index=[2, 68], x=[15, 3], y=[1]) tensor([[0, 1, 1, 2],\n",
      "        [1, 0, 2, 1]])\n",
      "Data(edge_index=[2, 194], x=[44, 3], y=[1]) tensor([[0, 1, 1, 2],\n",
      "        [1, 0, 2, 1]])\n",
      "Data(edge_index=[2, 128], x=[29, 3], y=[1]) tensor([[0, 1, 1, 2],\n",
      "        [1, 0, 2, 1]])\n",
      "Data(edge_index=[2, 82], x=[21, 3], y=[1]) tensor([[0, 1, 1, 2],\n",
      "        [1, 0, 2, 1]])\n",
      "Data(edge_index=[2, 126], x=[34, 3], y=[1]) tensor([[0, 1, 1, 2],\n",
      "        [1, 0, 2, 1]])\n",
      "Data(edge_index=[2, 114], x=[30, 3], y=[1]) tensor([[0, 1, 1, 2],\n",
      "        [1, 0, 2, 1]])\n",
      "Data(edge_index=[2, 158], x=[40, 3], y=[1]) tensor([[0, 1, 1, 2],\n",
      "        [1, 0, 2, 1]])\n",
      "Data(edge_index=[2, 210], x=[54, 3], y=[1]) tensor([[0, 1, 1, 2],\n",
      "        [1, 0, 2, 1]])\n",
      "Data(edge_index=[2, 70], x=[18, 3], y=[1]) tensor([[0, 1, 1, 2],\n",
      "        [1, 0, 2, 1]])\n",
      "Data(edge_index=[2, 148], x=[36, 3], y=[1]) tensor([[0, 1, 1, 2],\n",
      "        [1, 0, 2, 1]])\n",
      "Data(edge_index=[2, 162], x=[37, 3], y=[1]) tensor([[0, 1, 1, 2],\n",
      "        [1, 0, 2, 1]])\n",
      "Data(edge_index=[2, 152], x=[34, 3], y=[1]) tensor([[0, 1, 1, 2],\n",
      "        [1, 0, 2, 1]])\n",
      "Data(edge_index=[2, 100], x=[23, 3], y=[1]) tensor([[0, 1, 1, 2],\n",
      "        [1, 0, 2, 1]])\n",
      "Data(edge_index=[2, 136], x=[32, 3], y=[1]) tensor([[0, 1, 1, 2],\n",
      "        [1, 0, 2, 1]])\n",
      "Data(edge_index=[2, 152], x=[33, 3], y=[1]) tensor([[0, 1, 1, 2],\n",
      "        [1, 0, 2, 1]])\n",
      "Data(edge_index=[2, 130], x=[29, 3], y=[1]) tensor([[0, 1, 1, 2],\n",
      "        [1, 0, 2, 1]])\n",
      "Data(edge_index=[2, 142], x=[39, 3], y=[1]) tensor([[0, 1, 1, 2],\n",
      "        [1, 0, 2, 1]])\n",
      "Data(edge_index=[2, 140], x=[34, 3], y=[1]) tensor([[0, 1, 1, 2],\n",
      "        [1, 0, 2, 1]])\n",
      "Data(edge_index=[2, 142], x=[36, 3], y=[1]) tensor([[0, 1, 1, 2],\n",
      "        [1, 0, 2, 1]])\n",
      "Data(edge_index=[2, 70], x=[21, 3], y=[1]) tensor([[0, 1, 1, 2],\n",
      "        [1, 0, 2, 1]])\n",
      "Data(edge_index=[2, 22], x=[6, 3], y=[1]) tensor([[0, 1, 1, 2],\n",
      "        [1, 0, 2, 1]])\n",
      "Data(edge_index=[2, 100], x=[22, 3], y=[1]) tensor([[0, 1, 1, 2],\n",
      "        [1, 0, 2, 1]])\n",
      "Data(edge_index=[2, 80], x=[18, 3], y=[1]) tensor([[0, 1, 1, 2],\n",
      "        [1, 0, 2, 1]])\n",
      "Data(edge_index=[2, 82], x=[18, 3], y=[1]) tensor([[0, 1, 1, 2],\n",
      "        [1, 0, 2, 1]])\n",
      "Data(edge_index=[2, 128], x=[34, 3], y=[1]) tensor([[0, 1, 1, 2],\n",
      "        [1, 0, 2, 1]])\n",
      "Data(edge_index=[2, 122], x=[32, 3], y=[1]) tensor([[0, 1, 1, 2],\n",
      "        [1, 0, 2, 1]])\n",
      "Data(edge_index=[2, 124], x=[33, 3], y=[1]) tensor([[0, 1, 1, 2],\n",
      "        [1, 0, 2, 1]])\n",
      "Data(edge_index=[2, 124], x=[28, 3], y=[1]) tensor([[0, 1, 1, 2],\n",
      "        [1, 0, 2, 1]])\n",
      "Data(edge_index=[2, 176], x=[40, 3], y=[1]) tensor([[0, 1, 1, 2],\n",
      "        [1, 0, 2, 1]])\n",
      "Data(edge_index=[2, 152], x=[42, 3], y=[1]) tensor([[0, 1, 1, 2],\n",
      "        [1, 0, 2, 1]])\n",
      "Data(edge_index=[2, 116], x=[39, 3], y=[1]) tensor([[0, 1, 1, 2],\n",
      "        [1, 0, 2, 1]])\n",
      "Data(edge_index=[2, 96], x=[28, 3], y=[1]) tensor([[0, 1, 1, 2],\n",
      "        [1, 0, 2, 1]])\n",
      "Data(edge_index=[2, 104], x=[29, 3], y=[1]) tensor([[0, 1, 1, 2],\n",
      "        [1, 0, 2, 1]])\n",
      "Data(edge_index=[2, 134], x=[30, 3], y=[1]) tensor([[0, 1, 1, 2],\n",
      "        [1, 0, 2, 1]])\n",
      "Data(edge_index=[2, 52], x=[14, 3], y=[1]) tensor([[0, 1, 1, 2],\n",
      "        [1, 0, 2, 1]])\n",
      "Data(edge_index=[2, 120], x=[32, 3], y=[1]) tensor([[0, 1, 1, 2],\n",
      "        [1, 0, 2, 1]])\n",
      "Data(edge_index=[2, 132], x=[35, 3], y=[1]) tensor([[0, 1, 1, 2],\n",
      "        [1, 0, 2, 1]])\n",
      "Data(edge_index=[2, 80], x=[24, 3], y=[1]) tensor([[0, 1, 1, 2],\n",
      "        [1, 0, 2, 1]])\n",
      "Data(edge_index=[2, 60], x=[17, 3], y=[1]) tensor([[0, 1, 1, 2],\n",
      "        [1, 0, 2, 1]])\n",
      "Data(edge_index=[2, 66], x=[18, 3], y=[1]) tensor([[0, 1, 1, 2],\n",
      "        [1, 0, 2, 1]])\n",
      "Data(edge_index=[2, 58], x=[16, 3], y=[1]) tensor([[0, 1, 1, 2],\n",
      "        [1, 0, 2, 1]])\n",
      "Data(edge_index=[2, 72], x=[19, 3], y=[1]) tensor([[0, 1, 1, 2],\n",
      "        [1, 0, 2, 1]])\n",
      "Data(edge_index=[2, 70], x=[19, 3], y=[1]) tensor([[0, 1, 1, 2],\n",
      "        [1, 0, 2, 1]])\n",
      "Data(edge_index=[2, 84], x=[21, 3], y=[1]) tensor([[0, 1, 1, 2],\n",
      "        [1, 0, 2, 1]])\n",
      "Data(edge_index=[2, 104], x=[23, 3], y=[1]) tensor([[0, 1, 1, 2],\n",
      "        [1, 0, 2, 1]])\n",
      "Data(edge_index=[2, 102], x=[25, 3], y=[1]) tensor([[0, 1, 1, 2],\n",
      "        [1, 0, 2, 1]])\n",
      "Data(edge_index=[2, 120], x=[27, 3], y=[1]) tensor([[0, 1, 1, 2],\n",
      "        [1, 0, 2, 1]])\n",
      "Data(edge_index=[2, 96], x=[24, 3], y=[1]) tensor([[0, 1, 1, 2],\n",
      "        [1, 0, 2, 1]])\n",
      "Data(edge_index=[2, 98], x=[24, 3], y=[1]) tensor([[0, 1, 1, 2],\n",
      "        [1, 0, 2, 1]])\n",
      "Data(edge_index=[2, 122], x=[32, 3], y=[1]) tensor([[0, 1, 1, 2],\n",
      "        [1, 0, 2, 1]])\n",
      "Data(edge_index=[2, 118], x=[31, 3], y=[1]) tensor([[0, 1, 1, 2],\n",
      "        [1, 0, 2, 1]])\n",
      "Data(edge_index=[2, 142], x=[33, 3], y=[1]) tensor([[0, 1, 1, 2],\n",
      "        [1, 0, 2, 1]])\n",
      "Data(edge_index=[2, 146], x=[34, 3], y=[1]) tensor([[0, 1, 1, 2],\n",
      "        [1, 0, 2, 1]])\n",
      "Data(edge_index=[2, 120], x=[32, 3], y=[1]) tensor([[0, 1, 1, 2],\n",
      "        [1, 0, 2, 1]])\n",
      "Data(edge_index=[2, 140], x=[32, 3], y=[1]) tensor([[0, 1, 1, 2],\n",
      "        [1, 0, 2, 1]])\n",
      "Data(edge_index=[2, 156], x=[44, 3], y=[1]) tensor([[0, 1, 1, 2],\n",
      "        [1, 0, 2, 1]])\n",
      "Data(edge_index=[2, 168], x=[40, 3], y=[1]) tensor([[0, 1, 1, 2],\n",
      "        [1, 0, 2, 1]])\n",
      "Data(edge_index=[2, 146], x=[40, 3], y=[1]) tensor([[0, 1, 1, 2],\n",
      "        [1, 0, 2, 1]])\n",
      "Data(edge_index=[2, 122], x=[38, 3], y=[1]) tensor([[0, 1, 1, 2],\n",
      "        [1, 0, 2, 1]])\n",
      "Data(edge_index=[2, 112], x=[30, 3], y=[1]) tensor([[0, 1, 1, 2],\n",
      "        [1, 0, 2, 1]])\n",
      "Data(edge_index=[2, 140], x=[38, 3], y=[1]) tensor([[0, 1, 1, 2],\n",
      "        [1, 0, 2, 1]])\n",
      "Data(edge_index=[2, 170], x=[44, 3], y=[1]) tensor([[0, 1, 1, 2],\n",
      "        [1, 0, 2, 1]])\n",
      "Data(edge_index=[2, 214], x=[60, 3], y=[1]) tensor([[0, 1, 1, 2],\n",
      "        [1, 0, 2, 1]])\n",
      "Data(edge_index=[2, 102], x=[28, 3], y=[1]) tensor([[0, 1, 1, 2],\n",
      "        [1, 0, 2, 1]])\n",
      "Data(edge_index=[2, 64], x=[16, 3], y=[1]) tensor([[0, 1, 1, 2],\n"
     ]
    },
    {
     "name": "stdout",
     "output_type": "stream",
     "text": [
      "        [1, 0, 2, 1]])\n",
      "Data(edge_index=[2, 172], x=[50, 3], y=[1]) tensor([[0, 1, 1, 2],\n",
      "        [1, 0, 2, 1]])\n",
      "Data(edge_index=[2, 174], x=[52, 3], y=[1]) tensor([[0, 1, 1, 2],\n",
      "        [1, 0, 2, 1]])\n",
      "Data(edge_index=[2, 156], x=[48, 3], y=[1]) tensor([[0, 1, 1, 2],\n",
      "        [1, 0, 2, 1]])\n",
      "Data(edge_index=[2, 168], x=[50, 3], y=[1]) tensor([[0, 1, 1, 2],\n",
      "        [1, 0, 2, 1]])\n",
      "Data(edge_index=[2, 164], x=[42, 3], y=[1]) tensor([[0, 1, 1, 2],\n",
      "        [1, 0, 2, 1]])\n",
      "Data(edge_index=[2, 166], x=[43, 3], y=[1]) tensor([[0, 1, 1, 2],\n",
      "        [1, 0, 2, 1]])\n",
      "Data(edge_index=[2, 158], x=[41, 3], y=[1]) tensor([[0, 1, 1, 2],\n",
      "        [1, 0, 2, 1]])\n",
      "Data(edge_index=[2, 160], x=[39, 3], y=[1]) tensor([[0, 1, 1, 2],\n",
      "        [1, 0, 2, 1]])\n",
      "Data(edge_index=[2, 148], x=[38, 3], y=[1]) tensor([[0, 1, 1, 2],\n",
      "        [1, 0, 2, 1]])\n",
      "Data(edge_index=[2, 208], x=[62, 3], y=[1]) tensor([[0, 1, 1, 2],\n",
      "        [1, 0, 2, 1]])\n",
      "Data(edge_index=[2, 200], x=[60, 3], y=[1]) tensor([[0, 1, 1, 2],\n",
      "        [1, 0, 2, 1]])\n",
      "Data(edge_index=[2, 218], x=[96, 3], y=[1]) tensor([[0, 1, 1, 2],\n",
      "        [1, 0, 2, 1]])\n",
      "Data(edge_index=[2, 198], x=[54, 3], y=[1]) tensor([[0, 1, 1, 2],\n",
      "        [1, 0, 2, 1]])\n",
      "Data(edge_index=[2, 278], x=[124, 3], y=[1]) tensor([[0, 1, 1, 2],\n",
      "        [1, 0, 2, 1]])\n",
      "Data(edge_index=[2, 282], x=[126, 3], y=[1]) tensor([[0, 1, 1, 2],\n",
      "        [1, 0, 2, 1]])\n",
      "Data(edge_index=[2, 298], x=[122, 3], y=[1]) tensor([[0, 1, 1, 2],\n",
      "        [1, 0, 2, 1]])\n",
      "Data(edge_index=[2, 102], x=[24, 3], y=[1]) tensor([[0, 1, 1, 2],\n",
      "        [1, 0, 2, 1]])\n",
      "Data(edge_index=[2, 148], x=[41, 3], y=[1]) tensor([[0, 1, 1, 2],\n",
      "        [1, 0, 2, 1]])\n",
      "Data(edge_index=[2, 186], x=[49, 3], y=[1]) tensor([[0, 1, 1, 2],\n",
      "        [1, 0, 2, 1]])\n",
      "Data(edge_index=[2, 178], x=[44, 3], y=[1]) tensor([[0, 1, 1, 2],\n",
      "        [1, 0, 2, 1]])\n",
      "Data(edge_index=[2, 168], x=[42, 3], y=[1]) tensor([[0, 1, 1, 2],\n",
      "        [1, 0, 2, 1]])\n",
      "Data(edge_index=[2, 166], x=[41, 3], y=[1]) tensor([[0, 1, 1, 2],\n",
      "        [1, 0, 2, 1]])\n",
      "Data(edge_index=[2, 164], x=[42, 3], y=[1]) tensor([[0, 1, 1, 2],\n",
      "        [1, 0, 2, 1]])\n",
      "Data(edge_index=[2, 186], x=[46, 3], y=[1]) tensor([[0, 1, 1, 2],\n",
      "        [1, 0, 2, 1]])\n",
      "Data(edge_index=[2, 196], x=[55, 3], y=[1]) tensor([[0, 1, 1, 2],\n",
      "        [1, 0, 2, 1]])\n",
      "Data(edge_index=[2, 184], x=[50, 3], y=[1]) tensor([[0, 1, 1, 2],\n",
      "        [1, 0, 2, 1]])\n",
      "Data(edge_index=[2, 164], x=[42, 3], y=[1]) tensor([[0, 1, 1, 2],\n",
      "        [1, 0, 2, 1]])\n",
      "Data(edge_index=[2, 188], x=[48, 3], y=[1]) tensor([[0, 1, 1, 2],\n",
      "        [1, 0, 2, 1]])\n",
      "Data(edge_index=[2, 198], x=[51, 3], y=[1]) tensor([[0, 1, 1, 2],\n",
      "        [1, 0, 2, 1]])\n",
      "Data(edge_index=[2, 100], x=[24, 3], y=[1]) tensor([[0, 1, 1, 2],\n",
      "        [1, 0, 2, 1]])\n",
      "Data(edge_index=[2, 178], x=[51, 3], y=[1]) tensor([[0, 1, 1, 2],\n",
      "        [1, 0, 2, 1]])\n",
      "Data(edge_index=[2, 192], x=[52, 3], y=[1]) tensor([[0, 1, 1, 2],\n",
      "        [1, 0, 2, 1]])\n",
      "Data(edge_index=[2, 76], x=[22, 3], y=[1]) tensor([[0, 1, 1, 2],\n",
      "        [1, 0, 2, 1]])\n",
      "Data(edge_index=[2, 184], x=[44, 3], y=[1]) tensor([[0, 1, 1, 2],\n",
      "        [1, 0, 2, 1]])\n",
      "Data(edge_index=[2, 180], x=[44, 3], y=[1]) tensor([[0, 1, 1, 2],\n",
      "        [1, 0, 2, 1]])\n",
      "Data(edge_index=[2, 128], x=[31, 3], y=[1]) tensor([[0, 1, 1, 2],\n",
      "        [1, 0, 2, 1]])\n",
      "Data(edge_index=[2, 106], x=[27, 3], y=[1]) tensor([[0, 1, 1, 2],\n",
      "        [1, 0, 2, 1]])\n",
      "Data(edge_index=[2, 90], x=[25, 3], y=[1]) tensor([[0, 1, 1, 2],\n",
      "        [1, 0, 2, 1]])\n",
      "Data(edge_index=[2, 106], x=[38, 3], y=[1]) tensor([[0, 1, 1, 2],\n",
      "        [1, 0, 2, 1]])\n",
      "Data(edge_index=[2, 84], x=[21, 3], y=[1]) tensor([[0, 1, 1, 2],\n",
      "        [1, 0, 2, 1]])\n",
      "Data(edge_index=[2, 114], x=[29, 3], y=[1]) tensor([[0, 1, 1, 2],\n",
      "        [1, 0, 2, 1]])\n",
      "Data(edge_index=[2, 74], x=[20, 3], y=[1]) tensor([[0, 1, 1, 2],\n",
      "        [1, 0, 2, 1]])\n",
      "Data(edge_index=[2, 74], x=[21, 3], y=[1]) tensor([[0, 1, 1, 2],\n",
      "        [1, 0, 2, 1]])\n",
      "Data(edge_index=[2, 196], x=[50, 3], y=[1]) tensor([[0, 1, 1, 2],\n",
      "        [1, 0, 2, 1]])\n",
      "Data(edge_index=[2, 192], x=[46, 3], y=[1]) tensor([[0, 1, 1, 2],\n",
      "        [1, 0, 2, 1]])\n",
      "Data(edge_index=[2, 188], x=[49, 3], y=[1]) tensor([[0, 1, 1, 2],\n",
      "        [1, 0, 2, 1]])\n",
      "Data(edge_index=[2, 98], x=[27, 3], y=[1]) tensor([[0, 1, 1, 2],\n",
      "        [1, 0, 2, 1]])\n",
      "Data(edge_index=[2, 44], x=[12, 3], y=[1]) tensor([[0, 1, 1, 2],\n",
      "        [1, 0, 2, 1]])\n",
      "Data(edge_index=[2, 52], x=[14, 3], y=[1]) tensor([[0, 1, 1, 2],\n",
      "        [1, 0, 2, 1]])\n",
      "Data(edge_index=[2, 96], x=[23, 3], y=[1]) tensor([[0, 1, 1, 2],\n",
      "        [1, 0, 2, 1]])\n",
      "Data(edge_index=[2, 102], x=[24, 3], y=[1]) tensor([[0, 1, 1, 2],\n",
      "        [1, 0, 2, 1]])\n",
      "Data(edge_index=[2, 122], x=[33, 3], y=[1]) tensor([[0, 1, 1, 2],\n",
      "        [1, 0, 2, 1]])\n",
      "Data(edge_index=[2, 102], x=[27, 3], y=[1]) tensor([[0, 1, 1, 2],\n",
      "        [1, 0, 2, 1]])\n",
      "Data(edge_index=[2, 102], x=[25, 3], y=[1]) tensor([[0, 1, 1, 2],\n",
      "        [1, 0, 2, 1]])\n",
      "Data(edge_index=[2, 104], x=[28, 3], y=[1]) tensor([[0, 1, 1, 2],\n",
      "        [1, 0, 2, 1]])\n",
      "Data(edge_index=[2, 108], x=[28, 3], y=[1]) tensor([[0, 1, 1, 2],\n",
      "        [1, 0, 2, 1]])\n",
      "Data(edge_index=[2, 44], x=[12, 3], y=[1]) tensor([[0, 1, 1, 2],\n",
      "        [1, 0, 2, 1]])\n",
      "Data(edge_index=[2, 98], x=[26, 3], y=[1]) tensor([[0, 1, 1, 2],\n",
      "        [1, 0, 2, 1]])\n",
      "Data(edge_index=[2, 98], x=[28, 3], y=[1]) tensor([[0, 1, 1, 2],\n",
      "        [1, 0, 2, 1]])\n",
      "Data(edge_index=[2, 108], x=[28, 3], y=[1]) tensor([[0, 1, 1, 2],\n",
      "        [1, 0, 2, 1]])\n",
      "Data(edge_index=[2, 98], x=[26, 3], y=[1]) tensor([[0, 1, 1, 2],\n",
      "        [1, 0, 2, 1]])\n",
      "Data(edge_index=[2, 90], x=[24, 3], y=[1]) tensor([[0, 1, 1, 2],\n",
      "        [1, 0, 2, 1]])\n",
      "Data(edge_index=[2, 78], x=[23, 3], y=[1]) tensor([[0, 1, 1, 2],\n",
      "        [1, 0, 2, 1]])\n",
      "Data(edge_index=[2, 116], x=[27, 3], y=[1]) tensor([[0, 1, 1, 2],\n",
      "        [1, 0, 2, 1]])\n",
      "Data(edge_index=[2, 134], x=[39, 3], y=[1]) tensor([[0, 1, 1, 2],\n",
      "        [1, 0, 2, 1]])\n",
      "Data(edge_index=[2, 174], x=[42, 3], y=[1]) tensor([[0, 1, 1, 2],\n",
      "        [1, 0, 2, 1]])\n",
      "Data(edge_index=[2, 170], x=[42, 3], y=[1]) tensor([[0, 1, 1, 2],\n",
      "        [1, 0, 2, 1]])\n",
      "Data(edge_index=[2, 236], x=[64, 3], y=[1]) tensor([[0, 1, 1, 2],\n",
      "        [1, 0, 2, 1]])\n",
      "Data(edge_index=[2, 142], x=[38, 3], y=[1]) tensor([[0, 1, 1, 2],\n",
      "        [1, 0, 2, 1]])\n",
      "Data(edge_index=[2, 84], x=[22, 3], y=[1]) tensor([[0, 1, 1, 2],\n",
      "        [1, 0, 2, 1]])\n",
      "Data(edge_index=[2, 16], x=[9, 3], y=[1]) tensor([[0, 1, 1, 2],\n",
      "        [1, 0, 2, 1]])\n",
      "Data(edge_index=[2, 102], x=[26, 3], y=[1]) tensor([[0, 1, 1, 2],\n",
      "        [1, 0, 2, 1]])\n",
      "Data(edge_index=[2, 84], x=[19, 3], y=[1]) tensor([[0, 1, 1, 2],\n",
      "        [1, 0, 2, 1]])\n",
      "Data(edge_index=[2, 224], x=[66, 3], y=[1]) tensor([[0, 1, 1, 2],\n",
      "        [1, 0, 2, 1]])\n",
      "Data(edge_index=[2, 112], x=[27, 3], y=[1]) tensor([[0, 1, 1, 2],\n",
      "        [1, 0, 2, 1]])\n",
      "Data(edge_index=[2, 124], x=[34, 3], y=[1]) tensor([[0, 1, 1, 2],\n",
      "        [1, 0, 2, 1]])\n",
      "Data(edge_index=[2, 112], x=[28, 3], y=[1]) tensor([[0, 1, 1, 2],\n",
      "        [1, 0, 2, 1]])\n",
      "Data(edge_index=[2, 92], x=[26, 3], y=[1]) tensor([[0, 1, 1, 2],\n",
      "        [1, 0, 2, 1]])\n",
      "Data(edge_index=[2, 108], x=[26, 3], y=[1]) tensor([[0, 1, 1, 2],\n",
      "        [1, 0, 2, 1]])\n",
      "Data(edge_index=[2, 118], x=[28, 3], y=[1]) tensor([[0, 1, 1, 2],\n",
      "        [1, 0, 2, 1]])\n",
      "Data(edge_index=[2, 82], x=[19, 3], y=[1]) tensor([[0, 1, 1, 2],\n",
      "        [1, 0, 2, 1]])\n",
      "Data(edge_index=[2, 92], x=[20, 3], y=[1]) tensor([[0, 1, 1, 2],\n",
      "        [1, 0, 2, 1]])\n",
      "Data(edge_index=[2, 98], x=[20, 3], y=[1]) tensor([[0, 1, 1, 2],\n",
      "        [1, 0, 2, 1]])\n",
      "Data(edge_index=[2, 150], x=[42, 3], y=[1]) tensor([[0, 1, 1, 2],\n",
      "        [1, 0, 2, 1]])\n",
      "Data(edge_index=[2, 152], x=[42, 3], y=[1]) tensor([[0, 1, 1, 2],\n",
      "        [1, 0, 2, 1]])\n",
      "Data(edge_index=[2, 50], x=[15, 3], y=[1]) tensor([[0, 1, 1, 2],\n",
      "        [1, 0, 2, 1]])\n",
      "Data(edge_index=[2, 38], x=[11, 3], y=[1]) tensor([[0, 1, 1, 2],\n",
      "        [1, 0, 2, 1]])\n",
      "Data(edge_index=[2, 34], x=[10, 3], y=[1]) tensor([[0, 1, 1, 2],\n",
      "        [1, 0, 2, 1]])\n",
      "Data(edge_index=[2, 48], x=[12, 3], y=[1]) tensor([[0, 1, 1, 2],\n",
      "        [1, 0, 2, 1]])\n",
      "Data(edge_index=[2, 104], x=[30, 3], y=[1]) tensor([[0, 1, 1, 2],\n",
      "        [1, 0, 2, 1]])\n",
      "Data(edge_index=[2, 52], x=[15, 3], y=[1]) tensor([[0, 1, 1, 2],\n",
      "        [1, 0, 2, 1]])\n",
      "Data(edge_index=[2, 40], x=[10, 3], y=[1]) tensor([[0, 1, 1, 2],\n",
      "        [1, 0, 2, 1]])\n",
      "Data(edge_index=[2, 68], x=[18, 3], y=[1]) tensor([[0, 1, 1, 2],\n",
      "        [1, 0, 2, 1]])\n",
      "Data(edge_index=[2, 80], x=[22, 3], y=[1]) tensor([[0, 1, 1, 2],\n",
      "        [1, 0, 2, 1]])\n",
      "Data(edge_index=[2, 44], x=[12, 3], y=[1]) tensor([[0, 1, 1, 2],\n",
      "        [1, 0, 2, 1]])\n",
      "Data(edge_index=[2, 140], x=[36, 3], y=[1]) tensor([[0, 1, 1, 2],\n",
      "        [1, 0, 2, 1]])\n",
      "Data(edge_index=[2, 102], x=[30, 3], y=[1]) tensor([[0, 1, 1, 2],\n",
      "        [1, 0, 2, 1]])\n",
      "Data(edge_index=[2, 104], x=[30, 3], y=[1]) tensor([[0, 1, 1, 2],\n",
      "        [1, 0, 2, 1]])\n",
      "Data(edge_index=[2, 122], x=[36, 3], y=[1]) tensor([[0, 1, 1, 2],\n",
      "        [1, 0, 2, 1]])\n",
      "Data(edge_index=[2, 116], x=[33, 3], y=[1]) tensor([[0, 1, 1, 2],\n",
      "        [1, 0, 2, 1]])\n",
      "Data(edge_index=[2, 188], x=[48, 3], y=[1]) tensor([[0, 1, 1, 2],\n",
      "        [1, 0, 2, 1]])\n",
      "Data(edge_index=[2, 104], x=[27, 3], y=[1]) tensor([[0, 1, 1, 2],\n",
      "        [1, 0, 2, 1]])\n",
      "Data(edge_index=[2, 108], x=[27, 3], y=[1]) tensor([[0, 1, 1, 2],\n",
      "        [1, 0, 2, 1]])\n",
      "Data(edge_index=[2, 58], x=[16, 3], y=[1]) tensor([[0, 1, 1, 2],\n",
      "        [1, 0, 2, 1]])\n",
      "Data(edge_index=[2, 28], x=[7, 3], y=[1]) tensor([[0, 1, 1, 2],\n",
      "        [1, 0, 2, 1]])\n",
      "Data(edge_index=[2, 56], x=[16, 3], y=[1]) tensor([[0, 1, 1, 2],\n",
      "        [1, 0, 2, 1]])\n",
      "Data(edge_index=[2, 128], x=[35, 3], y=[1]) tensor([[0, 1, 1, 2],\n",
      "        [1, 0, 2, 1]])\n",
      "Data(edge_index=[2, 110], x=[28, 3], y=[1]) tensor([[0, 1, 1, 2],\n",
      "        [1, 0, 2, 1]])\n",
      "Data(edge_index=[2, 162], x=[40, 3], y=[1]) tensor([[0, 1, 1, 2],\n",
      "        [1, 0, 2, 1]])\n",
      "Data(edge_index=[2, 102], x=[26, 3], y=[1]) tensor([[0, 1, 1, 2],\n",
      "        [1, 0, 2, 1]])\n",
      "Data(edge_index=[2, 178], x=[48, 3], y=[1]) tensor([[0, 1, 1, 2],\n",
      "        [1, 0, 2, 1]])\n",
      "Data(edge_index=[2, 56], x=[15, 3], y=[1]) tensor([[0, 1, 1, 2],\n",
      "        [1, 0, 2, 1]])\n",
      "Data(edge_index=[2, 44], x=[11, 3], y=[1]) tensor([[0, 1, 1, 2],\n",
      "        [1, 0, 2, 1]])\n",
      "Data(edge_index=[2, 196], x=[50, 3], y=[1]) tensor([[0, 1, 1, 2],\n",
      "        [1, 0, 2, 1]])\n",
      "Data(edge_index=[2, 70], x=[18, 3], y=[1]) tensor([[0, 1, 1, 2],\n",
      "        [1, 0, 2, 1]])\n",
      "Data(edge_index=[2, 78], x=[19, 3], y=[1]) tensor([[0, 1, 1, 2],\n",
      "        [1, 0, 2, 1]])\n",
      "Data(edge_index=[2, 46], x=[14, 3], y=[1]) tensor([[0, 1, 1, 2],\n",
      "        [1, 0, 2, 1]])\n",
      "Data(edge_index=[2, 86], x=[21, 3], y=[1]) tensor([[0, 1, 1, 2],\n",
      "        [1, 0, 2, 1]])\n",
      "Data(edge_index=[2, 116], x=[37, 3], y=[1]) tensor([[0, 1, 1, 2],\n",
      "        [1, 0, 2, 1]])\n",
      "Data(edge_index=[2, 194], x=[48, 3], y=[1]) tensor([[0, 1, 1, 2],\n",
      "        [1, 0, 2, 1]])\n",
      "Data(edge_index=[2, 102], x=[25, 3], y=[1]) tensor([[0, 1, 1, 2],\n",
      "        [1, 0, 2, 1]])\n",
      "Data(edge_index=[2, 114], x=[28, 3], y=[1]) tensor([[0, 1, 1, 2],\n",
      "        [1, 0, 2, 1]])\n",
      "Data(edge_index=[2, 112], x=[33, 3], y=[1]) tensor([[0, 1, 1, 2],\n",
      "        [1, 0, 2, 1]])\n",
      "Data(edge_index=[2, 100], x=[29, 3], y=[1]) tensor([[0, 1, 1, 2],\n",
      "        [1, 0, 2, 1]])\n",
      "Data(edge_index=[2, 128], x=[33, 3], y=[1]) tensor([[0, 1, 1, 2],\n",
      "        [1, 0, 2, 1]])\n",
      "Data(edge_index=[2, 120], x=[30, 3], y=[1]) tensor([[0, 1, 1, 2],\n",
      "        [1, 0, 2, 1]])\n",
      "Data(edge_index=[2, 132], x=[33, 3], y=[1]) tensor([[0, 1, 1, 2],\n",
      "        [1, 0, 2, 1]])\n",
      "Data(edge_index=[2, 120], x=[32, 3], y=[1]) tensor([[0, 1, 1, 2],\n",
      "        [1, 0, 2, 1]])\n",
      "Data(edge_index=[2, 124], x=[28, 3], y=[1]) tensor([[0, 1, 1, 2],\n",
      "        [1, 0, 2, 1]])\n",
      "Data(edge_index=[2, 138], x=[37, 3], y=[1]) tensor([[0, 1, 1, 2],\n",
      "        [1, 0, 2, 1]])\n",
      "Data(edge_index=[2, 136], x=[36, 3], y=[1]) tensor([[0, 1, 1, 2],\n",
      "        [1, 0, 2, 1]])\n",
      "Data(edge_index=[2, 158], x=[38, 3], y=[1]) tensor([[0, 1, 1, 2],\n",
      "        [1, 0, 2, 1]])\n",
      "Data(edge_index=[2, 146], x=[37, 3], y=[1]) tensor([[0, 1, 1, 2],\n",
      "        [1, 0, 2, 1]])\n",
      "Data(edge_index=[2, 152], x=[34, 3], y=[1]) tensor([[0, 1, 1, 2],\n",
      "        [1, 0, 2, 1]])\n",
      "Data(edge_index=[2, 92], x=[24, 3], y=[1]) tensor([[0, 1, 1, 2],\n",
      "        [1, 0, 2, 1]])\n",
      "Data(edge_index=[2, 94], x=[25, 3], y=[1]) tensor([[0, 1, 1, 2],\n",
      "        [1, 0, 2, 1]])\n",
      "Data(edge_index=[2, 152], x=[41, 3], y=[1]) tensor([[0, 1, 1, 2],\n",
      "        [1, 0, 2, 1]])\n",
      "Data(edge_index=[2, 102], x=[27, 3], y=[1]) tensor([[0, 1, 1, 2],\n",
      "        [1, 0, 2, 1]])\n",
      "Data(edge_index=[2, 94], x=[26, 3], y=[1]) tensor([[0, 1, 1, 2],\n",
      "        [1, 0, 2, 1]])\n",
      "Data(edge_index=[2, 98], x=[25, 3], y=[1]) tensor([[0, 1, 1, 2],\n",
      "        [1, 0, 2, 1]])\n",
      "Data(edge_index=[2, 114], x=[27, 3], y=[1]) tensor([[0, 1, 1, 2],\n",
      "        [1, 0, 2, 1]])\n",
      "Data(edge_index=[2, 76], x=[20, 3], y=[1]) tensor([[0, 1, 1, 2],\n",
      "        [1, 0, 2, 1]])\n",
      "Data(edge_index=[2, 132], x=[40, 3], y=[1]) tensor([[0, 1, 1, 2],\n",
      "        [1, 0, 2, 1]])\n",
      "Data(edge_index=[2, 78], x=[21, 3], y=[1]) tensor([[0, 1, 1, 2],\n",
      "        [1, 0, 2, 1]])\n",
      "Data(edge_index=[2, 66], x=[19, 3], y=[1]) tensor([[0, 1, 1, 2],\n",
      "        [1, 0, 2, 1]])\n",
      "Data(edge_index=[2, 128], x=[36, 3], y=[1]) tensor([[0, 1, 1, 2],\n",
      "        [1, 0, 2, 1]])\n",
      "Data(edge_index=[2, 114], x=[32, 3], y=[1]) tensor([[0, 1, 1, 2],\n",
      "        [1, 0, 2, 1]])\n",
      "Data(edge_index=[2, 108], x=[28, 3], y=[1]) tensor([[0, 1, 1, 2],\n",
      "        [1, 0, 2, 1]])\n",
      "Data(edge_index=[2, 114], x=[37, 3], y=[1]) tensor([[0, 1, 1, 2],\n",
      "        [1, 0, 2, 1]])\n",
      "Data(edge_index=[2, 74], x=[18, 3], y=[1]) tensor([[0, 1, 1, 2],\n",
      "        [1, 0, 2, 1]])\n",
      "Data(edge_index=[2, 78], x=[19, 3], y=[1]) tensor([[0, 1, 1, 2],\n",
      "        [1, 0, 2, 1]])\n",
      "Data(edge_index=[2, 92], x=[22, 3], y=[1]) tensor([[0, 1, 1, 2],\n",
      "        [1, 0, 2, 1]])\n",
      "Data(edge_index=[2, 140], x=[43, 3], y=[1]) tensor([[0, 1, 1, 2],\n",
      "        [1, 0, 2, 1]])\n",
      "Data(edge_index=[2, 92], x=[24, 3], y=[1]) tensor([[0, 1, 1, 2],\n",
      "        [1, 0, 2, 1]])\n",
      "Data(edge_index=[2, 66], x=[15, 3], y=[1]) tensor([[0, 1, 1, 2],\n",
      "        [1, 0, 2, 1]])\n",
      "Data(edge_index=[2, 46], x=[14, 3], y=[1]) tensor([[0, 1, 1, 2],\n",
      "        [1, 0, 2, 1]])\n",
      "Data(edge_index=[2, 198], x=[48, 3], y=[1]) tensor([[0, 1, 1, 2],\n",
      "        [1, 0, 2, 1]])\n",
      "Data(edge_index=[2, 198], x=[46, 3], y=[1]) tensor([[0, 1, 1, 2],\n",
      "        [1, 0, 2, 1]])\n",
      "Data(edge_index=[2, 100], x=[26, 3], y=[1]) tensor([[0, 1, 1, 2],\n",
      "        [1, 0, 2, 1]])\n",
      "Data(edge_index=[2, 112], x=[25, 3], y=[1]) tensor([[0, 1, 1, 2],\n",
      "        [1, 0, 2, 1]])\n",
      "Data(edge_index=[2, 190], x=[44, 3], y=[1]) tensor([[0, 1, 1, 2],\n",
      "        [1, 0, 2, 1]])\n",
      "Data(edge_index=[2, 152], x=[39, 3], y=[1]) tensor([[0, 1, 1, 2],\n",
      "        [1, 0, 2, 1]])\n",
      "Data(edge_index=[2, 158], x=[39, 3], y=[1]) tensor([[0, 1, 1, 2],\n",
      "        [1, 0, 2, 1]])\n",
      "Data(edge_index=[2, 102], x=[27, 3], y=[1]) tensor([[0, 1, 1, 2],\n",
      "        [1, 0, 2, 1]])\n",
      "Data(edge_index=[2, 116], x=[26, 3], y=[1]) tensor([[0, 1, 1, 2],\n",
      "        [1, 0, 2, 1]])\n",
      "Data(edge_index=[2, 112], x=[25, 3], y=[1]) tensor([[0, 1, 1, 2],\n",
      "        [1, 0, 2, 1]])\n",
      "Data(edge_index=[2, 146], x=[39, 3], y=[1]) tensor([[0, 1, 1, 2],\n",
      "        [1, 0, 2, 1]])\n",
      "Data(edge_index=[2, 114], x=[26, 3], y=[1]) tensor([[0, 1, 1, 2],\n",
      "        [1, 0, 2, 1]])\n",
      "Data(edge_index=[2, 116], x=[26, 3], y=[1]) tensor([[0, 1, 1, 2],\n",
      "        [1, 0, 2, 1]])\n",
      "Data(edge_index=[2, 102], x=[26, 3], y=[1]) tensor([[0, 1, 1, 2],\n",
      "        [1, 0, 2, 1]])\n",
      "Data(edge_index=[2, 108], x=[34, 3], y=[1]) tensor([[0, 1, 1, 2],\n",
      "        [1, 0, 2, 1]])\n",
      "Data(edge_index=[2, 90], x=[20, 3], y=[1]) tensor([[0, 1, 1, 2],\n",
      "        [1, 0, 2, 1]])\n",
      "Data(edge_index=[2, 78], x=[20, 3], y=[1]) tensor([[0, 1, 1, 2],\n",
      "        [1, 0, 2, 1]])\n",
      "Data(edge_index=[2, 74], x=[19, 3], y=[1]) tensor([[0, 1, 1, 2],\n",
      "        [1, 0, 2, 1]])\n",
      "Data(edge_index=[2, 68], x=[18, 3], y=[1]) tensor([[0, 1, 1, 2],\n",
      "        [1, 0, 2, 1]])\n",
      "Data(edge_index=[2, 84], x=[33, 3], y=[1]) tensor([[0, 1, 1, 2],\n",
      "        [1, 0, 2, 1]])\n",
      "Data(edge_index=[2, 58], x=[15, 3], y=[1]) tensor([[0, 1, 1, 2],\n",
      "        [1, 0, 2, 1]])\n",
      "Data(edge_index=[2, 154], x=[34, 3], y=[1]) tensor([[0, 1, 1, 2],\n",
      "        [1, 0, 2, 1]])\n",
      "Data(edge_index=[2, 130], x=[28, 3], y=[1]) tensor([[0, 1, 1, 2],\n",
      "        [1, 0, 2, 1]])\n",
      "Data(edge_index=[2, 158], x=[34, 3], y=[1]) tensor([[0, 1, 1, 2],\n",
      "        [1, 0, 2, 1]])\n",
      "Data(edge_index=[2, 60], x=[15, 3], y=[1]) tensor([[0, 1, 1, 2],\n",
      "        [1, 0, 2, 1]])\n",
      "Data(edge_index=[2, 52], x=[14, 3], y=[1]) tensor([[0, 1, 1, 2],\n",
      "        [1, 0, 2, 1]])\n",
      "Data(edge_index=[2, 90], x=[20, 3], y=[1]) tensor([[0, 1, 1, 2],\n",
      "        [1, 0, 2, 1]])\n",
      "Data(edge_index=[2, 198], x=[52, 3], y=[1]) tensor([[0, 1, 1, 2],\n",
      "        [1, 0, 2, 1]])\n",
      "Data(edge_index=[2, 76], x=[20, 3], y=[1]) tensor([[0, 1, 1, 2],\n",
      "        [1, 0, 2, 1]])\n",
      "Data(edge_index=[2, 82], x=[20, 3], y=[1]) tensor([[0, 1, 1, 2],\n",
      "        [1, 0, 2, 1]])\n",
      "Data(edge_index=[2, 74], x=[20, 3], y=[1]) tensor([[0, 1, 1, 2],\n",
      "        [1, 0, 2, 1]])\n",
      "Data(edge_index=[2, 60], x=[17, 3], y=[1]) tensor([[0, 1, 1, 2],\n",
      "        [1, 0, 2, 1]])\n",
      "Data(edge_index=[2, 48], x=[12, 3], y=[1]) tensor([[0, 1, 1, 2],\n",
      "        [1, 0, 2, 1]])\n",
      "Data(edge_index=[2, 74], x=[24, 3], y=[1]) tensor([[0, 1, 1, 2],\n",
      "        [1, 0, 2, 1]])\n",
      "Data(edge_index=[2, 186], x=[46, 3], y=[1]) tensor([[0, 1, 1, 2],\n",
      "        [1, 0, 2, 1]])\n",
      "Data(edge_index=[2, 52], x=[13, 3], y=[1]) tensor([[0, 1, 1, 2],\n",
      "        [1, 0, 2, 1]])\n",
      "Data(edge_index=[2, 90], x=[24, 3], y=[1]) tensor([[0, 1, 1, 2],\n",
      "        [1, 0, 2, 1]])\n",
      "Data(edge_index=[2, 46], x=[12, 3], y=[1]) tensor([[0, 1, 1, 2],\n",
      "        [1, 0, 2, 1]])\n",
      "Data(edge_index=[2, 48], x=[12, 3], y=[1]) tensor([[0, 1, 1, 2],\n",
      "        [1, 0, 2, 1]])\n",
      "Data(edge_index=[2, 52], x=[14, 3], y=[1]) tensor([[0, 1, 1, 2],\n",
      "        [1, 0, 2, 1]])\n",
      "Data(edge_index=[2, 76], x=[20, 3], y=[1]) tensor([[0, 1, 1, 2],\n",
      "        [1, 0, 2, 1]])\n",
      "Data(edge_index=[2, 98], x=[28, 3], y=[1]) tensor([[0, 1, 1, 2],\n",
      "        [1, 0, 2, 1]])\n",
      "Data(edge_index=[2, 76], x=[24, 3], y=[1]) tensor([[0, 1, 1, 2],\n",
      "        [1, 0, 2, 1]])\n",
      "Data(edge_index=[2, 48], x=[12, 3], y=[1]) tensor([[0, 1, 1, 2],\n",
      "        [1, 0, 2, 1]])\n",
      "Data(edge_index=[2, 88], x=[26, 3], y=[1]) tensor([[0, 1, 1, 2],\n",
      "        [1, 0, 2, 1]])\n",
      "Data(edge_index=[2, 92], x=[22, 3], y=[1]) tensor([[0, 1, 1, 2],\n",
      "        [1, 0, 2, 1]])\n",
      "Data(edge_index=[2, 160], x=[60, 3], y=[1]) tensor([[0, 1, 1, 2],\n",
      "        [1, 0, 2, 1]])\n",
      "Data(edge_index=[2, 144], x=[39, 3], y=[1]) tensor([[0, 1, 1, 2],\n",
      "        [1, 0, 2, 1]])\n",
      "Data(edge_index=[2, 102], x=[26, 3], y=[1]) tensor([[0, 1, 1, 2],\n",
      "        [1, 0, 2, 1]])\n",
      "Data(edge_index=[2, 54], x=[15, 3], y=[1]) tensor([[0, 1, 1, 2],\n",
      "        [1, 0, 2, 1]])\n",
      "Data(edge_index=[2, 84], x=[25, 3], y=[1]) tensor([[0, 1, 1, 2],\n",
      "        [1, 0, 2, 1]])\n",
      "Data(edge_index=[2, 122], x=[35, 3], y=[1]) tensor([[0, 1, 1, 2],\n",
      "        [1, 0, 2, 1]])\n",
      "Data(edge_index=[2, 134], x=[35, 3], y=[1]) tensor([[0, 1, 1, 2],\n",
      "        [1, 0, 2, 1]])\n",
      "Data(edge_index=[2, 140], x=[38, 3], y=[1]) tensor([[0, 1, 1, 2],\n",
      "        [1, 0, 2, 1]])\n",
      "Data(edge_index=[2, 158], x=[38, 3], y=[1]) tensor([[0, 1, 1, 2],\n",
      "        [1, 0, 2, 1]])\n",
      "Data(edge_index=[2, 136], x=[33, 3], y=[1]) tensor([[0, 1, 1, 2],\n",
      "        [1, 0, 2, 1]])\n",
      "Data(edge_index=[2, 122], x=[32, 3], y=[1]) tensor([[0, 1, 1, 2],\n",
      "        [1, 0, 2, 1]])\n",
      "Data(edge_index=[2, 154], x=[42, 3], y=[1]) tensor([[0, 1, 1, 2],\n",
      "        [1, 0, 2, 1]])\n",
      "Data(edge_index=[2, 152], x=[42, 3], y=[1]) tensor([[0, 1, 1, 2],\n",
      "        [1, 0, 2, 1]])\n",
      "Data(edge_index=[2, 156], x=[41, 3], y=[1]) tensor([[0, 1, 1, 2],\n",
      "        [1, 0, 2, 1]])\n",
      "Data(edge_index=[2, 144], x=[40, 3], y=[1]) tensor([[0, 1, 1, 2],\n",
      "        [1, 0, 2, 1]])\n",
      "Data(edge_index=[2, 152], x=[38, 3], y=[1]) tensor([[0, 1, 1, 2],\n",
      "        [1, 0, 2, 1]])\n",
      "Data(edge_index=[2, 196], x=[43, 3], y=[1]) tensor([[0, 1, 1, 2],\n",
      "        [1, 0, 2, 1]])\n",
      "Data(edge_index=[2, 160], x=[67, 3], y=[1]) tensor([[0, 1, 1, 2],\n",
      "        [1, 0, 2, 1]])\n",
      "Data(edge_index=[2, 146], x=[36, 3], y=[1]) tensor([[0, 1, 1, 2],\n",
      "        [1, 0, 2, 1]])\n",
      "Data(edge_index=[2, 166], x=[46, 3], y=[1]) tensor([[0, 1, 1, 2],\n",
      "        [1, 0, 2, 1]])\n",
      "Data(edge_index=[2, 240], x=[66, 3], y=[1]) tensor([[0, 1, 1, 2],\n",
      "        [1, 0, 2, 1]])\n",
      "Data(edge_index=[2, 86], x=[21, 3], y=[1]) tensor([[0, 1, 1, 2],\n",
      "        [1, 0, 2, 1]])\n",
      "Data(edge_index=[2, 98], x=[22, 3], y=[1]) tensor([[0, 1, 1, 2],\n",
      "        [1, 0, 2, 1]])\n",
      "Data(edge_index=[2, 92], x=[21, 3], y=[1]) tensor([[0, 1, 1, 2],\n",
      "        [1, 0, 2, 1]])\n",
      "Data(edge_index=[2, 96], x=[21, 3], y=[1]) tensor([[0, 1, 1, 2],\n",
      "        [1, 0, 2, 1]])\n",
      "Data(edge_index=[2, 176], x=[41, 3], y=[1]) tensor([[0, 1, 1, 2],\n",
      "        [1, 0, 2, 1]])\n",
      "Data(edge_index=[2, 130], x=[29, 3], y=[1]) tensor([[0, 1, 1, 2],\n",
      "        [1, 0, 2, 1]])\n",
      "Data(edge_index=[2, 134], x=[30, 3], y=[1]) tensor([[0, 1, 1, 2],\n",
      "        [1, 0, 2, 1]])\n",
      "Data(edge_index=[2, 136], x=[30, 3], y=[1]) tensor([[0, 1, 1, 2],\n",
      "        [1, 0, 2, 1]])\n",
      "Data(edge_index=[2, 184], x=[41, 3], y=[1]) tensor([[0, 1, 1, 2],\n",
      "        [1, 0, 2, 1]])\n",
      "Data(edge_index=[2, 176], x=[37, 3], y=[1]) tensor([[0, 1, 1, 2],\n",
      "        [1, 0, 2, 1]])\n",
      "Data(edge_index=[2, 102], x=[26, 3], y=[1]) tensor([[0, 1, 1, 2],\n",
      "        [1, 0, 2, 1]])\n",
      "Data(edge_index=[2, 142], x=[37, 3], y=[1]) tensor([[0, 1, 1, 2],\n",
      "        [1, 0, 2, 1]])\n",
      "Data(edge_index=[2, 178], x=[50, 3], y=[1]) tensor([[0, 1, 1, 2],\n",
      "        [1, 0, 2, 1]])\n",
      "Data(edge_index=[2, 112], x=[27, 3], y=[1]) tensor([[0, 1, 1, 2],\n",
      "        [1, 0, 2, 1]])\n",
      "Data(edge_index=[2, 154], x=[34, 3], y=[1]) tensor([[0, 1, 1, 2],\n",
      "        [1, 0, 2, 1]])\n",
      "Data(edge_index=[2, 148], x=[32, 3], y=[1]) tensor([[0, 1, 1, 2],\n",
      "        [1, 0, 2, 1]])\n",
      "Data(edge_index=[2, 158], x=[35, 3], y=[1]) tensor([[0, 1, 1, 2],\n",
      "        [1, 0, 2, 1]])\n",
      "Data(edge_index=[2, 164], x=[37, 3], y=[1]) tensor([[0, 1, 1, 2],\n",
      "        [1, 0, 2, 1]])\n",
      "Data(edge_index=[2, 222], x=[48, 3], y=[1]) tensor([[0, 1, 1, 2],\n",
      "        [1, 0, 2, 1]])\n",
      "Data(edge_index=[2, 148], x=[41, 3], y=[1]) tensor([[0, 1, 1, 2],\n",
      "        [1, 0, 2, 1]])\n",
      "Data(edge_index=[2, 132], x=[29, 3], y=[1]) tensor([[0, 1, 1, 2],\n",
      "        [1, 0, 2, 1]])\n",
      "Data(edge_index=[2, 220], x=[58, 3], y=[1]) tensor([[0, 1, 1, 2],\n",
      "        [1, 0, 2, 1]])\n",
      "Data(edge_index=[2, 214], x=[57, 3], y=[1]) tensor([[0, 1, 1, 2],\n",
      "        [1, 0, 2, 1]])\n",
      "Data(edge_index=[2, 106], x=[21, 3], y=[1]) tensor([[0, 1, 1, 2],\n",
      "        [1, 0, 2, 1]])\n",
      "Data(edge_index=[2, 86], x=[18, 3], y=[1]) tensor([[0, 1, 1, 2],\n",
      "        [1, 0, 2, 1]])\n",
      "Data(edge_index=[2, 166], x=[42, 3], y=[1]) tensor([[0, 1, 1, 2],\n",
      "        [1, 0, 2, 1]])\n",
      "Data(edge_index=[2, 164], x=[40, 3], y=[1]) tensor([[0, 1, 1, 2],\n",
      "        [1, 0, 2, 1]])\n",
      "Data(edge_index=[2, 240], x=[74, 3], y=[1]) tensor([[0, 1, 1, 2],\n",
      "        [1, 0, 2, 1]])\n",
      "Data(edge_index=[2, 170], x=[44, 3], y=[1]) tensor([[0, 1, 1, 2],\n",
      "        [1, 0, 2, 1]])\n",
      "Data(edge_index=[2, 198], x=[44, 3], y=[1]) tensor([[0, 1, 1, 2],\n",
      "        [1, 0, 2, 1]])\n",
      "Data(edge_index=[2, 168], x=[40, 3], y=[1]) tensor([[0, 1, 1, 2],\n",
      "        [1, 0, 2, 1]])\n",
      "Data(edge_index=[2, 184], x=[44, 3], y=[1]) tensor([[0, 1, 1, 2],\n",
      "        [1, 0, 2, 1]])\n",
      "Data(edge_index=[2, 178], x=[42, 3], y=[1]) tensor([[0, 1, 1, 2],\n",
      "        [1, 0, 2, 1]])\n",
      "Data(edge_index=[2, 176], x=[43, 3], y=[1]) tensor([[0, 1, 1, 2],\n",
      "        [1, 0, 2, 1]])\n",
      "Data(edge_index=[2, 184], x=[41, 3], y=[1]) tensor([[0, 1, 1, 2],\n",
      "        [1, 0, 2, 1]])\n",
      "Data(edge_index=[2, 184], x=[49, 3], y=[1]) tensor([[0, 1, 1, 2],\n",
      "        [1, 0, 2, 1]])\n",
      "Data(edge_index=[2, 152], x=[84, 3], y=[1]) tensor([[0, 1, 1, 2],\n",
      "        [1, 0, 2, 1]])\n",
      "Data(edge_index=[2, 202], x=[44, 3], y=[1]) tensor([[0, 1, 1, 2],\n",
      "        [1, 0, 2, 1]])\n",
      "Data(edge_index=[2, 152], x=[42, 3], y=[1]) tensor([[0, 1, 1, 2],\n",
      "        [1, 0, 2, 1]])\n",
      "Data(edge_index=[2, 158], x=[41, 3], y=[1]) tensor([[0, 1, 1, 2],\n",
      "        [1, 0, 2, 1]])\n",
      "Data(edge_index=[2, 154], x=[41, 3], y=[1]) tensor([[0, 1, 1, 2],\n",
      "        [1, 0, 2, 1]])\n",
      "Data(edge_index=[2, 164], x=[44, 3], y=[1]) tensor([[0, 1, 1, 2],\n",
      "        [1, 0, 2, 1]])\n",
      "Data(edge_index=[2, 164], x=[39, 3], y=[1]) tensor([[0, 1, 1, 2],\n",
      "        [1, 0, 2, 1]])\n",
      "Data(edge_index=[2, 90], x=[25, 3], y=[1]) tensor([[0, 1, 1, 2],\n",
      "        [1, 0, 2, 1]])\n",
      "Data(edge_index=[2, 94], x=[25, 3], y=[1]) tensor([[0, 1, 1, 2],\n",
      "        [1, 0, 2, 1]])\n",
      "Data(edge_index=[2, 90], x=[26, 3], y=[1]) tensor([[0, 1, 1, 2],\n",
      "        [1, 0, 2, 1]])\n",
      "Data(edge_index=[2, 196], x=[52, 3], y=[1]) tensor([[0, 1, 1, 2],\n",
      "        [1, 0, 2, 1]])\n",
      "Data(edge_index=[2, 172], x=[41, 3], y=[1]) tensor([[0, 1, 1, 2],\n",
      "        [1, 0, 2, 1]])\n",
      "Data(edge_index=[2, 164], x=[45, 3], y=[1]) tensor([[0, 1, 1, 2],\n",
      "        [1, 0, 2, 1]])\n",
      "Data(edge_index=[2, 128], x=[31, 3], y=[1]) tensor([[0, 1, 1, 2],\n",
      "        [1, 0, 2, 1]])\n",
      "Data(edge_index=[2, 92], x=[26, 3], y=[1]) tensor([[0, 1, 1, 2],\n",
      "        [1, 0, 2, 1]])\n",
      "Data(edge_index=[2, 96], x=[26, 3], y=[1]) tensor([[0, 1, 1, 2],\n",
      "        [1, 0, 2, 1]])\n",
      "Data(edge_index=[2, 198], x=[52, 3], y=[1]) tensor([[0, 1, 1, 2],\n",
      "        [1, 0, 2, 1]])\n",
      "Data(edge_index=[2, 186], x=[50, 3], y=[1]) tensor([[0, 1, 1, 2],\n",
      "        [1, 0, 2, 1]])\n",
      "Data(edge_index=[2, 134], x=[38, 3], y=[1]) tensor([[0, 1, 1, 2],\n",
      "        [1, 0, 2, 1]])\n",
      "Data(edge_index=[2, 134], x=[37, 3], y=[1]) tensor([[0, 1, 1, 2],\n",
      "        [1, 0, 2, 1]])\n",
      "Data(edge_index=[2, 104], x=[27, 3], y=[1]) tensor([[0, 1, 1, 2],\n",
      "        [1, 0, 2, 1]])\n",
      "Data(edge_index=[2, 110], x=[29, 3], y=[1]) tensor([[0, 1, 1, 2],\n",
      "        [1, 0, 2, 1]])\n",
      "Data(edge_index=[2, 160], x=[48, 3], y=[1]) tensor([[0, 1, 1, 2],\n",
      "        [1, 0, 2, 1]])\n",
      "Data(edge_index=[2, 148], x=[40, 3], y=[1]) tensor([[0, 1, 1, 2],\n",
      "        [1, 0, 2, 1]])\n",
      "Data(edge_index=[2, 68], x=[19, 3], y=[1]) tensor([[0, 1, 1, 2],\n",
      "        [1, 0, 2, 1]])\n",
      "Data(edge_index=[2, 66], x=[14, 3], y=[1]) tensor([[0, 1, 1, 2],\n",
      "        [1, 0, 2, 1]])\n"
     ]
    },
    {
     "name": "stdout",
     "output_type": "stream",
     "text": [
      "Data(edge_index=[2, 62], x=[13, 3], y=[1]) tensor([[0, 1, 1, 2],\n",
      "        [1, 0, 2, 1]])\n",
      "Data(edge_index=[2, 68], x=[13, 3], y=[1]) tensor([[0, 1, 1, 2],\n",
      "        [1, 0, 2, 1]])\n",
      "Data(edge_index=[2, 170], x=[44, 3], y=[1]) tensor([[0, 1, 1, 2],\n",
      "        [1, 0, 2, 1]])\n",
      "Data(edge_index=[2, 156], x=[45, 3], y=[1]) tensor([[0, 1, 1, 2],\n",
      "        [1, 0, 2, 1]])\n",
      "Data(edge_index=[2, 164], x=[46, 3], y=[1]) tensor([[0, 1, 1, 2],\n",
      "        [1, 0, 2, 1]])\n",
      "Data(edge_index=[2, 158], x=[47, 3], y=[1]) tensor([[0, 1, 1, 2],\n",
      "        [1, 0, 2, 1]])\n",
      "Data(edge_index=[2, 164], x=[47, 3], y=[1]) tensor([[0, 1, 1, 2],\n",
      "        [1, 0, 2, 1]])\n",
      "Data(edge_index=[2, 180], x=[42, 3], y=[1]) tensor([[0, 1, 1, 2],\n",
      "        [1, 0, 2, 1]])\n",
      "Data(edge_index=[2, 220], x=[51, 3], y=[1]) tensor([[0, 1, 1, 2],\n",
      "        [1, 0, 2, 1]])\n",
      "Data(edge_index=[2, 102], x=[27, 3], y=[1]) tensor([[0, 1, 1, 2],\n",
      "        [1, 0, 2, 1]])\n",
      "Data(edge_index=[2, 104], x=[27, 3], y=[1]) tensor([[0, 1, 1, 2],\n",
      "        [1, 0, 2, 1]])\n",
      "Data(edge_index=[2, 206], x=[60, 3], y=[1]) tensor([[0, 1, 1, 2],\n",
      "        [1, 0, 2, 1]])\n",
      "Data(edge_index=[2, 106], x=[28, 3], y=[1]) tensor([[0, 1, 1, 2],\n",
      "        [1, 0, 2, 1]])\n",
      "Data(edge_index=[2, 150], x=[38, 3], y=[1]) tensor([[0, 1, 1, 2],\n",
      "        [1, 0, 2, 1]])\n",
      "Data(edge_index=[2, 106], x=[23, 3], y=[1]) tensor([[0, 1, 1, 2],\n",
      "        [1, 0, 2, 1]])\n",
      "Data(edge_index=[2, 74], x=[18, 3], y=[1]) tensor([[0, 1, 1, 2],\n",
      "        [1, 0, 2, 1]])\n",
      "Data(edge_index=[2, 194], x=[45, 3], y=[1]) tensor([[0, 1, 1, 2],\n",
      "        [1, 0, 2, 1]])\n",
      "Data(edge_index=[2, 90], x=[21, 3], y=[1]) tensor([[0, 1, 1, 2],\n",
      "        [1, 0, 2, 1]])\n",
      "Data(edge_index=[2, 142], x=[35, 3], y=[1]) tensor([[0, 1, 1, 2],\n",
      "        [1, 0, 2, 1]])\n",
      "Data(edge_index=[2, 102], x=[24, 3], y=[1]) tensor([[0, 1, 1, 2],\n",
      "        [1, 0, 2, 1]])\n",
      "Data(edge_index=[2, 84], x=[21, 3], y=[1]) tensor([[0, 1, 1, 2],\n",
      "        [1, 0, 2, 1]])\n",
      "Data(edge_index=[2, 84], x=[21, 3], y=[1]) tensor([[0, 1, 1, 2],\n",
      "        [1, 0, 2, 1]])\n",
      "Data(edge_index=[2, 124], x=[31, 3], y=[1]) tensor([[0, 1, 1, 2],\n",
      "        [1, 0, 2, 1]])\n",
      "Data(edge_index=[2, 112], x=[27, 3], y=[1]) tensor([[0, 1, 1, 2],\n",
      "        [1, 0, 2, 1]])\n",
      "Data(edge_index=[2, 196], x=[51, 3], y=[1]) tensor([[0, 1, 1, 2],\n",
      "        [1, 0, 2, 1]])\n",
      "Data(edge_index=[2, 156], x=[36, 3], y=[1]) tensor([[0, 1, 1, 2],\n",
      "        [1, 0, 2, 1]])\n",
      "Data(edge_index=[2, 144], x=[46, 3], y=[1]) tensor([[0, 1, 1, 2],\n",
      "        [1, 0, 2, 1]])\n",
      "Data(edge_index=[2, 228], x=[52, 3], y=[1]) tensor([[0, 1, 1, 2],\n",
      "        [1, 0, 2, 1]])\n",
      "Data(edge_index=[2, 180], x=[44, 3], y=[1]) tensor([[0, 1, 1, 2],\n",
      "        [1, 0, 2, 1]])\n",
      "Data(edge_index=[2, 182], x=[45, 3], y=[1]) tensor([[0, 1, 1, 2],\n",
      "        [1, 0, 2, 1]])\n",
      "Data(edge_index=[2, 232], x=[52, 3], y=[1]) tensor([[0, 1, 1, 2],\n",
      "        [1, 0, 2, 1]])\n",
      "Data(edge_index=[2, 200], x=[55, 3], y=[1]) tensor([[0, 1, 1, 2],\n",
      "        [1, 0, 2, 1]])\n",
      "Data(edge_index=[2, 190], x=[51, 3], y=[1]) tensor([[0, 1, 1, 2],\n",
      "        [1, 0, 2, 1]])\n",
      "Data(edge_index=[2, 156], x=[48, 3], y=[1]) tensor([[0, 1, 1, 2],\n",
      "        [1, 0, 2, 1]])\n"
     ]
    }
   ],
   "source": [
    "for key in dataset:\n",
    "    print(key,item)"
   ]
  },
  {
   "cell_type": "code",
   "execution_count": 38,
   "metadata": {},
   "outputs": [
    {
     "data": {
      "text/plain": [
       "3"
      ]
     },
     "execution_count": 38,
     "metadata": {},
     "output_type": "execute_result"
    }
   ],
   "source": [
    "dataset.num_node_features"
   ]
  },
  {
   "cell_type": "code",
   "execution_count": 40,
   "metadata": {},
   "outputs": [],
   "source": [
    "n1=dataset[0]"
   ]
  },
  {
   "cell_type": "code",
   "execution_count": 42,
   "metadata": {},
   "outputs": [
    {
     "name": "stdout",
     "output_type": "stream",
     "text": [
      "('edge_index', tensor([[ 0,  0,  0,  1,  1,  1,  1,  1,  2,  2,  2,  2,  2,  3,  3,  3,  3,  3,\n",
      "          3,  4,  4,  4,  4,  5,  5,  5,  5,  5,  6,  6,  6,  6,  7,  7,  7,  7,\n",
      "          7,  8,  8,  8,  9,  9,  9,  9,  9, 10, 10, 10, 10, 11, 11, 11, 11, 12,\n",
      "         12, 12, 12, 12, 13, 13, 13, 13, 14, 14, 14, 14, 15, 15, 15, 15, 16, 16,\n",
      "         16, 16, 17, 17, 17, 17, 18, 18, 18, 19, 19, 19, 20, 20, 20, 20, 20, 20,\n",
      "         21, 21, 21, 21, 21, 22, 22, 22, 22, 23, 23, 23, 23, 24, 24, 24, 24, 25,\n",
      "         25, 25, 25, 25, 26, 26, 26, 26, 26, 27, 27, 27, 27, 27, 28, 28, 28, 28,\n",
      "         28, 28, 29, 29, 29, 29, 29, 29, 29, 30, 30, 30, 30, 30, 31, 31, 31, 32,\n",
      "         32, 32, 32, 33, 33, 33, 33, 33, 33, 34, 34, 34, 34, 34, 34, 35, 35, 35,\n",
      "         35, 35, 36, 36, 36, 36],\n",
      "        [ 1,  2,  3,  0,  2,  3, 24, 27,  0,  1,  3, 27, 28,  0,  1,  2,  4,  5,\n",
      "         28,  3,  5,  6, 29,  3,  4,  6,  7, 29,  4,  5,  7,  8,  5,  6,  8,  9,\n",
      "         10,  6,  7,  9,  7,  8, 10, 11, 12,  7,  9, 11, 12,  9, 10, 12, 26,  9,\n",
      "         10, 11, 25, 26, 14, 15, 16, 25, 13, 15, 16, 25, 13, 14, 16, 17, 13, 14,\n",
      "         15, 17, 15, 16, 18, 19, 17, 19, 20, 17, 18, 20, 18, 19, 21, 22, 23, 30,\n",
      "         20, 22, 23, 30, 35, 20, 21, 23, 35, 20, 21, 22, 33,  1, 27, 28, 29, 12,\n",
      "         13, 14, 26, 29, 11, 12, 25, 28, 29,  1,  2, 24, 28, 29,  2,  3, 24, 26,\n",
      "         27, 29,  4,  5, 24, 25, 26, 27, 28, 20, 21, 33, 34, 35, 32, 34, 36, 31,\n",
      "         33, 34, 36, 23, 30, 32, 34, 35, 36, 30, 31, 32, 33, 35, 36, 21, 22, 30,\n",
      "         33, 34, 31, 32, 33, 34]])) tensor([[0, 1, 1, 2],\n",
      "        [1, 0, 2, 1]])\n",
      "('x', tensor([[1., 0., 0.],\n",
      "        [1., 0., 0.],\n",
      "        [1., 0., 0.],\n",
      "        [1., 0., 0.],\n",
      "        [1., 0., 0.],\n",
      "        [1., 0., 0.],\n",
      "        [1., 0., 0.],\n",
      "        [1., 0., 0.],\n",
      "        [1., 0., 0.],\n",
      "        [1., 0., 0.],\n",
      "        [1., 0., 0.],\n",
      "        [1., 0., 0.],\n",
      "        [1., 0., 0.],\n",
      "        [1., 0., 0.],\n",
      "        [1., 0., 0.],\n",
      "        [1., 0., 0.],\n",
      "        [1., 0., 0.],\n",
      "        [1., 0., 0.],\n",
      "        [1., 0., 0.],\n",
      "        [1., 0., 0.],\n",
      "        [1., 0., 0.],\n",
      "        [1., 0., 0.],\n",
      "        [1., 0., 0.],\n",
      "        [1., 0., 0.],\n",
      "        [0., 1., 0.],\n",
      "        [0., 1., 0.],\n",
      "        [0., 1., 0.],\n",
      "        [0., 1., 0.],\n",
      "        [0., 1., 0.],\n",
      "        [0., 1., 0.],\n",
      "        [0., 1., 0.],\n",
      "        [0., 1., 0.],\n",
      "        [0., 1., 0.],\n",
      "        [0., 1., 0.],\n",
      "        [0., 1., 0.],\n",
      "        [0., 1., 0.],\n",
      "        [0., 1., 0.]])) tensor([[0, 1, 1, 2],\n",
      "        [1, 0, 2, 1]])\n",
      "('y', tensor([5])) tensor([[0, 1, 1, 2],\n",
      "        [1, 0, 2, 1]])\n"
     ]
    }
   ],
   "source": [
    "for key in n1:\n",
    "    print(key,item)"
   ]
  },
  {
   "cell_type": "code",
   "execution_count": 43,
   "metadata": {},
   "outputs": [
    {
     "data": {
      "text/plain": [
       "37"
      ]
     },
     "execution_count": 43,
     "metadata": {},
     "output_type": "execute_result"
    }
   ],
   "source": [
    "n1.num_nodes"
   ]
  },
  {
   "cell_type": "code",
   "execution_count": 51,
   "metadata": {},
   "outputs": [],
   "source": [
    "dataset = dataset.shuffle()"
   ]
  },
  {
   "cell_type": "code",
   "execution_count": 53,
   "metadata": {},
   "outputs": [],
   "source": [
    "n1=dataset[1]"
   ]
  },
  {
   "cell_type": "code",
   "execution_count": 54,
   "metadata": {},
   "outputs": [
    {
     "data": {
      "text/plain": [
       "18"
      ]
     },
     "execution_count": 54,
     "metadata": {},
     "output_type": "execute_result"
    }
   ],
   "source": [
    "n1.num_nodes"
   ]
  },
  {
   "cell_type": "code",
   "execution_count": 55,
   "metadata": {},
   "outputs": [
    {
     "name": "stdout",
     "output_type": "stream",
     "text": [
      "32.63333333333333\n"
     ]
    }
   ],
   "source": [
    "sum_n=0\n",
    "for data in dataset:\n",
    "    sum_n+=data.num_nodes\n",
    "print(sum_n/len(dataset))"
   ]
  },
  {
   "cell_type": "markdown",
   "metadata": {},
   "source": [
    "# Cora"
   ]
  },
  {
   "cell_type": "code",
   "execution_count": 56,
   "metadata": {},
   "outputs": [
    {
     "name": "stderr",
     "output_type": "stream",
     "text": [
      "Downloading https://github.com/kimiyoung/planetoid/raw/master/data/ind.cora.x\n",
      "Downloading https://github.com/kimiyoung/planetoid/raw/master/data/ind.cora.tx\n",
      "Downloading https://github.com/kimiyoung/planetoid/raw/master/data/ind.cora.allx\n",
      "Downloading https://github.com/kimiyoung/planetoid/raw/master/data/ind.cora.y\n",
      "Downloading https://github.com/kimiyoung/planetoid/raw/master/data/ind.cora.ty\n",
      "Downloading https://github.com/kimiyoung/planetoid/raw/master/data/ind.cora.ally\n",
      "Downloading https://github.com/kimiyoung/planetoid/raw/master/data/ind.cora.graph\n",
      "Downloading https://github.com/kimiyoung/planetoid/raw/master/data/ind.cora.test.index\n",
      "Processing...\n",
      "Done!\n"
     ]
    }
   ],
   "source": [
    "from torch_geometric.datasets import Planetoid\n",
    "\n",
    "dataset = Planetoid(root='/tmp/Cora', name='Cora')"
   ]
  },
  {
   "cell_type": "code",
   "execution_count": 57,
   "metadata": {},
   "outputs": [
    {
     "data": {
      "text/plain": [
       "7"
      ]
     },
     "execution_count": 57,
     "metadata": {},
     "output_type": "execute_result"
    }
   ],
   "source": [
    "dataset.num_classes"
   ]
  },
  {
   "cell_type": "code",
   "execution_count": 58,
   "metadata": {},
   "outputs": [
    {
     "data": {
      "text/plain": [
       "1433"
      ]
     },
     "execution_count": 58,
     "metadata": {},
     "output_type": "execute_result"
    }
   ],
   "source": [
    "dataset.num_node_features"
   ]
  },
  {
   "cell_type": "code",
   "execution_count": 60,
   "metadata": {},
   "outputs": [
    {
     "data": {
      "text/plain": [
       "Data(x=[2708, 1433], edge_index=[2, 10556], y=[2708], train_mask=[2708], val_mask=[2708], test_mask=[2708])"
      ]
     },
     "execution_count": 60,
     "metadata": {},
     "output_type": "execute_result"
    }
   ],
   "source": [
    "dataset[0]"
   ]
  },
  {
   "cell_type": "code",
   "execution_count": 71,
   "metadata": {},
   "outputs": [
    {
     "name": "stdout",
     "output_type": "stream",
     "text": [
      "# of Training nodes: 140\n"
     ]
    }
   ],
   "source": [
    "print(\"# of Training nodes:\",len(dataset[0].train_mask[dataset[0].train_mask==True]))"
   ]
  },
  {
   "cell_type": "code",
   "execution_count": 73,
   "metadata": {},
   "outputs": [
    {
     "name": "stdout",
     "output_type": "stream",
     "text": [
      "# of Validation nodes: 500\n"
     ]
    }
   ],
   "source": [
    "print(\"# of Validation nodes:\",len(dataset[0].train_mask[dataset[0].val_mask==True]))"
   ]
  },
  {
   "cell_type": "code",
   "execution_count": 74,
   "metadata": {},
   "outputs": [
    {
     "name": "stdout",
     "output_type": "stream",
     "text": [
      "# of Test nodes: 1000\n"
     ]
    }
   ],
   "source": [
    "print(\"# of Test nodes:\",len(dataset[0].train_mask[dataset[0].test_mask==True]))"
   ]
  },
  {
   "cell_type": "markdown",
   "metadata": {},
   "source": [
    "# Batch"
   ]
  },
  {
   "cell_type": "code",
   "execution_count": 75,
   "metadata": {},
   "outputs": [],
   "source": [
    "from torch_geometric.datasets import TUDataset\n",
    "from torch_geometric.loader import DataLoader\n",
    "\n",
    "dataset = TUDataset(root='/tmp/ENZYMES', name='ENZYMES', use_node_attr=True)\n",
    "loader = DataLoader(dataset, batch_size=32, shuffle=True)\n"
   ]
  },
  {
   "cell_type": "code",
   "execution_count": 83,
   "metadata": {},
   "outputs": [
    {
     "data": {
      "text/plain": [
       "32"
      ]
     },
     "execution_count": 83,
     "metadata": {},
     "output_type": "execute_result"
    }
   ],
   "source": [
    "next(iter(loader)).num_graphs"
   ]
  },
  {
   "cell_type": "markdown",
   "metadata": {},
   "source": [
    "### Defining a CGN model"
   ]
  },
  {
   "cell_type": "code",
   "execution_count": 97,
   "metadata": {},
   "outputs": [],
   "source": [
    "import matplotlib.pyplot as plt"
   ]
  },
  {
   "cell_type": "code",
   "execution_count": 84,
   "metadata": {},
   "outputs": [],
   "source": [
    "from torch_geometric.datasets import Planetoid\n",
    "\n",
    "dataset = Planetoid(root='/tmp/Cora', name='Cora')"
   ]
  },
  {
   "cell_type": "code",
   "execution_count": 99,
   "metadata": {},
   "outputs": [
    {
     "data": {
      "text/plain": [
       "Data(x=[2708, 1433], edge_index=[2, 10556], y=[2708], train_mask=[2708], val_mask=[2708], test_mask=[2708])"
      ]
     },
     "execution_count": 99,
     "metadata": {},
     "output_type": "execute_result"
    }
   ],
   "source": [
    " dataset[0]"
   ]
  },
  {
   "cell_type": "code",
   "execution_count": 86,
   "metadata": {},
   "outputs": [],
   "source": [
    "import torch\n",
    "import torch.nn.functional as F\n",
    "from torch_geometric.nn import GCNConv"
   ]
  },
  {
   "cell_type": "code",
   "execution_count": 120,
   "metadata": {},
   "outputs": [],
   "source": [
    "class myGCN (torch.nn.Module):\n",
    "    def __init__(self,no_features,no_output_1,no_class):\n",
    "        super().__init__()\n",
    "        self.no_features=no_features\n",
    "        self.no_output_1=no_output_1\n",
    "        self.conv1=GCNConv(no_features,no_output_1)\n",
    "        self.lin=torch.nn.Linear(no_output_1,100)\n",
    "        self.conv2=GCNConv(100,no_class)\n",
    "    def forward(self,data):\n",
    "        x=data.x\n",
    "        edge_index=data.edge_index\n",
    "        x=self.conv1(x,edge_index)\n",
    "        x=F.relu(x)\n",
    "        x=F.relu(self.lin(x))\n",
    "        x=F.dropout(x,training=self.training)\n",
    "        x=self.conv2(x,edge_index)\n",
    "        x=F.log_softmax(x,dim=1)\n",
    "        return x"
   ]
  },
  {
   "cell_type": "code",
   "execution_count": 121,
   "metadata": {},
   "outputs": [],
   "source": [
    "device = torch.device('cuda' if torch.cuda.is_available() else 'cpu')\n",
    "data = dataset[0].to(device)\n",
    "model = myGCN(data.num_node_features,16,dataset.num_classes).to(device)\n",
    "optimizer = torch.optim.Adam(model.parameters(), lr=0.01, weight_decay=5e-4)\n",
    "\n",
    "model.train()\n",
    "train_loss=[]\n",
    "val_loss=[]\n",
    "for epoch in range(200):\n",
    "    optimizer.zero_grad()\n",
    "    out = model(data)\n",
    "    loss = F.nll_loss(out[data.train_mask], data.y[data.train_mask])\n",
    "    train_loss.append(loss)\n",
    "    val_loss.append(F.nll_loss(out[data.val_mask], data.y[data.val_mask]))\n",
    "    loss.backward()\n",
    "    optimizer.step()"
   ]
  },
  {
   "cell_type": "code",
   "execution_count": 122,
   "metadata": {},
   "outputs": [
    {
     "data": {
      "text/plain": [
       "[<matplotlib.lines.Line2D at 0x2229b1fbeb0>]"
      ]
     },
     "execution_count": 122,
     "metadata": {},
     "output_type": "execute_result"
    },
    {
     "data": {
      "image/png": "[encoded data removed]",
      "text/plain": [
       "<Figure size 432x288 with 1 Axes>"
      ]
     },
     "metadata": {
      "needs_background": "light"
     },
     "output_type": "display_data"
    }
   ],
   "source": [
    "plt.plot(range(len(train_loss)),train_loss,'-b')\n",
    "plt.plot(range(len(train_loss)),val_loss,'-r')"
   ]
  },
  {
   "cell_type": "code",
   "execution_count": 123,
   "metadata": {},
   "outputs": [
    {
     "name": "stdout",
     "output_type": "stream",
     "text": [
      "Accuracy: 0.7980\n"
     ]
    }
   ],
   "source": [
    "model.eval()\n",
    "pred = model(data).argmax(dim=1)\n",
    "correct = (pred[data.test_mask] == data.y[data.test_mask]).sum()\n",
    "acc = int(correct) / int(data.test_mask.sum())\n",
    "print(f'Accuracy: {acc:.4f}')\n"
   ]
  },
  {
   "cell_type": "code",
   "execution_count": 129,
   "metadata": {},
   "outputs": [
    {
     "data": {
      "text/plain": [
       "tensor([[   0,    0,    0,  ..., 2707, 2707, 2707],\n",
       "        [ 633, 1862, 2582,  ...,  598, 1473, 2706]])"
      ]
     },
     "execution_count": 129,
     "metadata": {},
     "output_type": "execute_result"
    }
   ],
   "source": [
    "data.edge_index"
   ]
  },
  {
   "cell_type": "code",
   "execution_count": 127,
   "metadata": {},
   "outputs": [],
   "source": [
    "row,col=data.edge_index"
   ]
  },
  {
   "cell_type": "code",
   "execution_count": 128,
   "metadata": {},
   "outputs": [
    {
     "data": {
      "text/plain": [
       "tensor([   0,    0,    0,  ..., 2707, 2707, 2707])"
      ]
     },
     "execution_count": 128,
     "metadata": {},
     "output_type": "execute_result"
    }
   ],
   "source": [
    "row"
   ]
  },
  {
   "cell_type": "code",
   "execution_count": 137,
   "metadata": {},
   "outputs": [
    {
     "data": {
      "text/plain": [
       "10556"
      ]
     },
     "execution_count": 137,
     "metadata": {},
     "output_type": "execute_result"
    }
   ],
   "source": [
    "len(col)"
   ]
  },
  {
   "cell_type": "code",
   "execution_count": 131,
   "metadata": {},
   "outputs": [],
   "source": [
    "from torch_geometric.utils import add_self_loops, degree"
   ]
  },
  {
   "cell_type": "code",
   "execution_count": 134,
   "metadata": {},
   "outputs": [],
   "source": [
    "deg = degree(col, data.x.size(0), dtype=data.x.dtype)"
   ]
  },
  {
   "cell_type": "code",
   "execution_count": 136,
   "metadata": {},
   "outputs": [
    {
     "data": {
      "text/plain": [
       "2708"
      ]
     },
     "execution_count": 136,
     "metadata": {},
     "output_type": "execute_result"
    }
   ],
   "source": [
    "len(deg)"
   ]
  },
  {
   "cell_type": "code",
   "execution_count": 138,
   "metadata": {},
   "outputs": [
    {
     "data": {
      "text/plain": [
       "tensor([3., 3., 5.,  ..., 1., 4., 4.])"
      ]
     },
     "execution_count": 138,
     "metadata": {},
     "output_type": "execute_result"
    }
   ],
   "source": [
    "deg"
   ]
  },
  {
   "cell_type": "code",
   "execution_count": null,
   "metadata": {},
   "outputs": [],
   "source": []
  }
 ],
 "metadata": {
  "kernelspec": {
   "display_name": "Python 3",
   "language": "python",
   "name": "python3"
  },
  "language_info": {
   "codemirror_mode": {
    "name": "ipython",
    "version": 3
   },
   "file_extension": ".py",
   "mimetype": "text/x-python",
   "name": "python",
   "nbconvert_exporter": "python",
   "pygments_lexer": "ipython3",
   "version": "3.8.3"
  }
 },
 "nbformat": 4,
 "nbformat_minor": 4
}
