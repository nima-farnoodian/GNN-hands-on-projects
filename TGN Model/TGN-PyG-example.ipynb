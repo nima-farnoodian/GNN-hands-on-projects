{
 "cells": [
  {
   "cell_type": "code",
   "execution_count": 65,
   "metadata": {},
   "outputs": [],
   "source": [
    "import os.path as osp\n",
    "\n",
    "import torch\n",
    "from sklearn.metrics import average_precision_score, roc_auc_score\n",
    "from torch.nn import Linear\n",
    "\n",
    "from torch_geometric.datasets import JODIEDataset\n",
    "from torch_geometric.nn import TGNMemory, TransformerConv\n",
    "from torch_geometric.nn.models.tgn import (IdentityMessage, LastAggregator,\n",
    "                                           LastNeighborLoader)\n",
    "import matplotlib.pyplot as plt\n",
    "import numpy as np"
   ]
  },
  {
   "cell_type": "code",
   "execution_count": 2,
   "metadata": {},
   "outputs": [],
   "source": [
    "device = torch.device('cuda' if torch.cuda.is_available() else 'cpu')"
   ]
  },
  {
   "cell_type": "code",
   "execution_count": 8,
   "metadata": {},
   "outputs": [
    {
     "name": "stderr",
     "output_type": "stream",
     "text": [
      "Downloading http://snap.stanford.edu/jodie/wikipedia.csv\n",
      "Processing...\n",
      "Done!\n"
     ]
    }
   ],
   "source": [
    "# path = osp.join(osp.dirname(osp.realpath(__file__)), '..', 'data', 'JODIE')\n",
    "path=\"data/JODIE/\"\n",
    "dataset = JODIEDataset(path, name='wikipedia')\n",
    "data = dataset[0].to(device)"
   ]
  },
  {
   "cell_type": "code",
   "execution_count": 13,
   "metadata": {},
   "outputs": [
    {
     "data": {
      "text/plain": [
       "TemporalData(dst=[157474], msg=[157474, 172], src=[157474], t=[157474], y=[157474])"
      ]
     },
     "execution_count": 13,
     "metadata": {},
     "output_type": "execute_result"
    }
   ],
   "source": [
    "data"
   ]
  },
  {
   "cell_type": "code",
   "execution_count": 58,
   "metadata": {},
   "outputs": [
    {
     "name": "stdout",
     "output_type": "stream",
     "text": [
      "Are numbers of the dst and src are equal? False\n"
     ]
    },
    {
     "name": "stderr",
     "output_type": "stream",
     "text": [
      "<ipython-input-58-8d972ed036a9>:1: DeprecationWarning: elementwise comparison failed; this will raise an error in the future.\n",
      "  print(\"Are numbers of the dst and src are equal?\", np.unique(np.array(data['dst']))==np.unique(np.array(data['src'])))\n"
     ]
    }
   ],
   "source": [
    "print(\"Are numbers of the dst and src are equal?\", np.unique(np.array(data['dst']))==np.unique(np.array(data['src'])))"
   ]
  },
  {
   "cell_type": "code",
   "execution_count": 59,
   "metadata": {},
   "outputs": [
    {
     "data": {
      "text/plain": [
       "torch.Size([157474])"
      ]
     },
     "execution_count": 59,
     "metadata": {},
     "output_type": "execute_result"
    }
   ],
   "source": [
    "data[\"t\"].shape"
   ]
  },
  {
   "cell_type": "code",
   "execution_count": 62,
   "metadata": {},
   "outputs": [
    {
     "data": {
      "text/plain": [
       "torch.int64"
      ]
     },
     "execution_count": 62,
     "metadata": {},
     "output_type": "execute_result"
    }
   ],
   "source": [
    "data[\"t\"].dtype "
   ]
  },
  {
   "cell_type": "code",
   "execution_count": 63,
   "metadata": {},
   "outputs": [
    {
     "data": {
      "text/plain": [
       "torch.int64"
      ]
     },
     "execution_count": 63,
     "metadata": {},
     "output_type": "execute_result"
    }
   ],
   "source": [
    "data[\"dst\"].dtype "
   ]
  },
  {
   "cell_type": "code",
   "execution_count": 64,
   "metadata": {},
   "outputs": [
    {
     "data": {
      "text/plain": [
       "torch.float32"
      ]
     },
     "execution_count": 64,
     "metadata": {},
     "output_type": "execute_result"
    }
   ],
   "source": [
    "data[\"msg\"].dtype "
   ]
  },
  {
   "cell_type": "code",
   "execution_count": 19,
   "metadata": {},
   "outputs": [
    {
     "data": {
      "text/plain": [
       "157257"
      ]
     },
     "execution_count": 19,
     "metadata": {},
     "output_type": "execute_result"
    }
   ],
   "source": [
    "len(data[\"y\"][data[\"y\"]==0])"
   ]
  },
  {
   "cell_type": "code",
   "execution_count": 20,
   "metadata": {},
   "outputs": [
    {
     "data": {
      "text/plain": [
       "217"
      ]
     },
     "execution_count": 20,
     "metadata": {},
     "output_type": "execute_result"
    }
   ],
   "source": [
    "len(data[\"y\"][data[\"y\"]==1])"
   ]
  },
  {
   "cell_type": "code",
   "execution_count": 53,
   "metadata": {},
   "outputs": [
    {
     "data": {
      "text/plain": [
       "tensor([      0,      36,      77,  ..., 2678293, 2678333, 2678373])"
      ]
     },
     "execution_count": 53,
     "metadata": {},
     "output_type": "execute_result"
    }
   ],
   "source": [
    "data['t']"
   ]
  },
  {
   "cell_type": "code",
   "execution_count": 61,
   "metadata": {},
   "outputs": [
    {
     "data": {
      "text/plain": [
       "torch.Size([157474, 172])"
      ]
     },
     "execution_count": 61,
     "metadata": {},
     "output_type": "execute_result"
    }
   ],
   "source": [
    "data['msg'].shape"
   ]
  },
  {
   "cell_type": "code",
   "execution_count": 22,
   "metadata": {},
   "outputs": [],
   "source": [
    "min_dst_idx, max_dst_idx = int(data.dst.min()), int(data.dst.max())"
   ]
  },
  {
   "cell_type": "code",
   "execution_count": 25,
   "metadata": {},
   "outputs": [],
   "source": [
    "train_data, val_data, test_data = data.train_val_test_split(\n",
    "    val_ratio=0.15, test_ratio=0.15)"
   ]
  },
  {
   "cell_type": "code",
   "execution_count": 26,
   "metadata": {},
   "outputs": [
    {
     "data": {
      "text/plain": [
       "9227"
      ]
     },
     "execution_count": 26,
     "metadata": {},
     "output_type": "execute_result"
    }
   ],
   "source": [
    "data.num_nodes"
   ]
  },
  {
   "cell_type": "code",
   "execution_count": 27,
   "metadata": {},
   "outputs": [],
   "source": [
    "neighbor_loader = LastNeighborLoader(data.num_nodes, size=10, device=device)"
   ]
  },
  {
   "cell_type": "code",
   "execution_count": 29,
   "metadata": {},
   "outputs": [],
   "source": [
    "class GraphAttentionEmbedding(torch.nn.Module):\n",
    "    def __init__(self, in_channels, out_channels, msg_dim, time_enc):\n",
    "        super().__init__()\n",
    "        self.time_enc = time_enc\n",
    "        edge_dim = msg_dim + time_enc.out_channels\n",
    "        self.conv = TransformerConv(in_channels, out_channels // 2, heads=2,\n",
    "                                    dropout=0.1, edge_dim=edge_dim)\n",
    "\n",
    "    def forward(self, x, last_update, edge_index, t, msg):\n",
    "        rel_t = last_update[edge_index[0]] - t\n",
    "        rel_t_enc = self.time_enc(rel_t.to(x.dtype))\n",
    "        edge_attr = torch.cat([rel_t_enc, msg], dim=-1)\n",
    "        return self.conv(x, edge_index, edge_attr)"
   ]
  },
  {
   "cell_type": "code",
   "execution_count": 30,
   "metadata": {},
   "outputs": [],
   "source": [
    "class LinkPredictor(torch.nn.Module):\n",
    "    def __init__(self, in_channels):\n",
    "        super().__init__()\n",
    "        self.lin_src = Linear(in_channels, in_channels)\n",
    "        self.lin_dst = Linear(in_channels, in_channels)\n",
    "        self.lin_final = Linear(in_channels, 1)\n",
    "\n",
    "    def forward(self, z_src, z_dst):\n",
    "        h = self.lin_src(z_src) + self.lin_dst(z_dst)\n",
    "        h = h.relu()\n",
    "        return self.lin_final(h)"
   ]
  },
  {
   "cell_type": "code",
   "execution_count": 31,
   "metadata": {},
   "outputs": [],
   "source": [
    "memory_dim = time_dim = embedding_dim = 100"
   ]
  },
  {
   "cell_type": "code",
   "execution_count": 32,
   "metadata": {},
   "outputs": [],
   "source": [
    "memory = TGNMemory(\n",
    "    data.num_nodes,\n",
    "    data.msg.size(-1),\n",
    "    memory_dim,\n",
    "    time_dim,\n",
    "    message_module=IdentityMessage(data.msg.size(-1), memory_dim, time_dim),\n",
    "    aggregator_module=LastAggregator(),\n",
    ").to(device)"
   ]
  },
  {
   "cell_type": "code",
   "execution_count": 33,
   "metadata": {},
   "outputs": [],
   "source": [
    "gnn = GraphAttentionEmbedding(\n",
    "    in_channels=memory_dim,\n",
    "    out_channels=embedding_dim,\n",
    "    msg_dim=data.msg.size(-1),\n",
    "    time_enc=memory.time_enc,\n",
    ").to(device)"
   ]
  },
  {
   "cell_type": "code",
   "execution_count": 34,
   "metadata": {},
   "outputs": [],
   "source": [
    "link_pred = LinkPredictor(in_channels=embedding_dim).to(device)"
   ]
  },
  {
   "cell_type": "code",
   "execution_count": 35,
   "metadata": {},
   "outputs": [],
   "source": [
    "optimizer = torch.optim.Adam(\n",
    "    set(memory.parameters()) | set(gnn.parameters())\n",
    "    | set(link_pred.parameters()), lr=0.0001)\n",
    "criterion = torch.nn.BCEWithLogitsLoss()"
   ]
  },
  {
   "cell_type": "code",
   "execution_count": 36,
   "metadata": {},
   "outputs": [],
   "source": [
    "# Helper vector to map global node indices to local ones.\n",
    "assoc = torch.empty(data.num_nodes, dtype=torch.long, device=device)\n"
   ]
  },
  {
   "cell_type": "code",
   "execution_count": 37,
   "metadata": {},
   "outputs": [],
   "source": [
    "def train():\n",
    "    memory.train()\n",
    "    gnn.train()\n",
    "    link_pred.train()\n",
    "\n",
    "    memory.reset_state()  # Start with a fresh memory.\n",
    "    neighbor_loader.reset_state()  # Start with an empty graph.\n",
    "\n",
    "    total_loss = 0\n",
    "    for batch in train_data.seq_batches(batch_size=200):\n",
    "        optimizer.zero_grad()\n",
    "\n",
    "        src, pos_dst, t, msg = batch.src, batch.dst, batch.t, batch.msg\n",
    "\n",
    "        # Sample negative destination nodes.\n",
    "        neg_dst = torch.randint(min_dst_idx, max_dst_idx + 1, (src.size(0), ),\n",
    "                                dtype=torch.long, device=device)\n",
    "\n",
    "        n_id = torch.cat([src, pos_dst, neg_dst]).unique()\n",
    "        n_id, edge_index, e_id = neighbor_loader(n_id)\n",
    "        assoc[n_id] = torch.arange(n_id.size(0), device=device)\n",
    "\n",
    "        # Get updated memory of all nodes involved in the computation.\n",
    "        z, last_update = memory(n_id)\n",
    "        z = gnn(z, last_update, edge_index, data.t[e_id], data.msg[e_id])\n",
    "\n",
    "        pos_out = link_pred(z[assoc[src]], z[assoc[pos_dst]])\n",
    "        neg_out = link_pred(z[assoc[src]], z[assoc[neg_dst]])\n",
    "\n",
    "        loss = criterion(pos_out, torch.ones_like(pos_out))\n",
    "        loss += criterion(neg_out, torch.zeros_like(neg_out))\n",
    "\n",
    "        # Update memory and neighbor loader with ground-truth state.\n",
    "        memory.update_state(src, pos_dst, t, msg)\n",
    "        neighbor_loader.insert(src, pos_dst)\n",
    "\n",
    "        loss.backward()\n",
    "        optimizer.step()\n",
    "        memory.detach()\n",
    "        total_loss += float(loss) * batch.num_events\n",
    "\n",
    "    return total_loss / train_data.num_events"
   ]
  },
  {
   "cell_type": "code",
   "execution_count": 38,
   "metadata": {},
   "outputs": [],
   "source": [
    "@torch.no_grad()\n",
    "def test(inference_data):\n",
    "    memory.eval()\n",
    "    gnn.eval()\n",
    "    link_pred.eval()\n",
    "\n",
    "    torch.manual_seed(12345)  # Ensure deterministic sampling across epochs.\n",
    "\n",
    "    aps, aucs = [], []\n",
    "    for batch in inference_data.seq_batches(batch_size=200):\n",
    "        src, pos_dst, t, msg = batch.src, batch.dst, batch.t, batch.msg\n",
    "\n",
    "        neg_dst = torch.randint(min_dst_idx, max_dst_idx + 1, (src.size(0), ),\n",
    "                                dtype=torch.long, device=device)\n",
    "\n",
    "        n_id = torch.cat([src, pos_dst, neg_dst]).unique()\n",
    "        n_id, edge_index, e_id = neighbor_loader(n_id)\n",
    "        assoc[n_id] = torch.arange(n_id.size(0), device=device)\n",
    "\n",
    "        z, last_update = memory(n_id)\n",
    "        z = gnn(z, last_update, edge_index, data.t[e_id], data.msg[e_id])\n",
    "\n",
    "        pos_out = link_pred(z[assoc[src]], z[assoc[pos_dst]])\n",
    "        neg_out = link_pred(z[assoc[src]], z[assoc[neg_dst]])\n",
    "\n",
    "        y_pred = torch.cat([pos_out, neg_out], dim=0).sigmoid().cpu()\n",
    "        y_true = torch.cat(\n",
    "            [torch.ones(pos_out.size(0)),\n",
    "             torch.zeros(neg_out.size(0))], dim=0)\n",
    "\n",
    "        aps.append(average_precision_score(y_true, y_pred))\n",
    "        aucs.append(roc_auc_score(y_true, y_pred))\n",
    "\n",
    "        memory.update_state(src, pos_dst, t, msg)\n",
    "        neighbor_loader.insert(src, pos_dst)\n",
    "\n",
    "    return float(torch.tensor(aps).mean()), float(torch.tensor(aucs).mean())"
   ]
  },
  {
   "cell_type": "code",
   "execution_count": 39,
   "metadata": {},
   "outputs": [
    {
     "name": "stdout",
     "output_type": "stream",
     "text": [
      "  Epoch: 01, Loss: 1.0665\n",
      " Val AP: 0.8686,  Val AUC: 0.8825\n",
      "Test AP: 0.8425, Test AUC: 0.8578\n",
      "  Epoch: 02, Loss: 0.8419\n",
      " Val AP: 0.9133,  Val AUC: 0.9167\n",
      "Test AP: 0.9010, Test AUC: 0.9065\n",
      "  Epoch: 03, Loss: 0.7168\n",
      " Val AP: 0.9386,  Val AUC: 0.9329\n",
      "Test AP: 0.9306, Test AUC: 0.9253\n",
      "  Epoch: 04, Loss: 0.6695\n",
      " Val AP: 0.9421,  Val AUC: 0.9355\n",
      "Test AP: 0.9367, Test AUC: 0.9299\n",
      "  Epoch: 05, Loss: 0.6466\n",
      " Val AP: 0.9491,  Val AUC: 0.9431\n",
      "Test AP: 0.9392, Test AUC: 0.9327\n",
      "  Epoch: 06, Loss: 0.6214\n",
      " Val AP: 0.9492,  Val AUC: 0.9436\n",
      "Test AP: 0.9421, Test AUC: 0.9362\n",
      "  Epoch: 07, Loss: 0.5940\n",
      " Val AP: 0.9533,  Val AUC: 0.9465\n",
      "Test AP: 0.9446, Test AUC: 0.9378\n",
      "  Epoch: 08, Loss: 0.5803\n",
      " Val AP: 0.9555,  Val AUC: 0.9497\n",
      "Test AP: 0.9466, Test AUC: 0.9406\n",
      "  Epoch: 09, Loss: 0.5620\n",
      " Val AP: 0.9572,  Val AUC: 0.9511\n",
      "Test AP: 0.9449, Test AUC: 0.9384\n",
      "  Epoch: 10, Loss: 0.5494\n",
      " Val AP: 0.9598,  Val AUC: 0.9533\n",
      "Test AP: 0.9508, Test AUC: 0.9445\n",
      "  Epoch: 11, Loss: 0.5358\n",
      " Val AP: 0.9616,  Val AUC: 0.9557\n",
      "Test AP: 0.9525, Test AUC: 0.9467\n",
      "  Epoch: 12, Loss: 0.5238\n",
      " Val AP: 0.9645,  Val AUC: 0.9589\n",
      "Test AP: 0.9579, Test AUC: 0.9521\n",
      "  Epoch: 13, Loss: 0.5183\n",
      " Val AP: 0.9659,  Val AUC: 0.9609\n",
      "Test AP: 0.9600, Test AUC: 0.9541\n",
      "  Epoch: 14, Loss: 0.5087\n",
      " Val AP: 0.9657,  Val AUC: 0.9603\n",
      "Test AP: 0.9598, Test AUC: 0.9542\n",
      "  Epoch: 15, Loss: 0.4981\n",
      " Val AP: 0.9677,  Val AUC: 0.9630\n",
      "Test AP: 0.9615, Test AUC: 0.9566\n",
      "  Epoch: 16, Loss: 0.4953\n",
      " Val AP: 0.9663,  Val AUC: 0.9619\n",
      "Test AP: 0.9612, Test AUC: 0.9556\n",
      "  Epoch: 17, Loss: 0.4862\n",
      " Val AP: 0.9665,  Val AUC: 0.9611\n",
      "Test AP: 0.9598, Test AUC: 0.9547\n",
      "  Epoch: 18, Loss: 0.4796\n",
      " Val AP: 0.9677,  Val AUC: 0.9632\n",
      "Test AP: 0.9612, Test AUC: 0.9559\n",
      "  Epoch: 19, Loss: 0.4739\n",
      " Val AP: 0.9679,  Val AUC: 0.9630\n",
      "Test AP: 0.9615, Test AUC: 0.9567\n",
      "  Epoch: 20, Loss: 0.4667\n",
      " Val AP: 0.9679,  Val AUC: 0.9635\n",
      "Test AP: 0.9624, Test AUC: 0.9571\n",
      "  Epoch: 21, Loss: 0.4646\n",
      " Val AP: 0.9673,  Val AUC: 0.9630\n",
      "Test AP: 0.9621, Test AUC: 0.9569\n",
      "  Epoch: 22, Loss: 0.4610\n",
      " Val AP: 0.9679,  Val AUC: 0.9637\n",
      "Test AP: 0.9617, Test AUC: 0.9570\n",
      "  Epoch: 23, Loss: 0.4564\n",
      " Val AP: 0.9676,  Val AUC: 0.9633\n",
      "Test AP: 0.9599, Test AUC: 0.9565\n",
      "  Epoch: 24, Loss: 0.4493\n",
      " Val AP: 0.9683,  Val AUC: 0.9643\n",
      "Test AP: 0.9625, Test AUC: 0.9573\n",
      "  Epoch: 25, Loss: 0.4477\n",
      " Val AP: 0.9686,  Val AUC: 0.9646\n",
      "Test AP: 0.9601, Test AUC: 0.9554\n",
      "  Epoch: 26, Loss: 0.4441\n",
      " Val AP: 0.9684,  Val AUC: 0.9638\n",
      "Test AP: 0.9601, Test AUC: 0.9548\n",
      "  Epoch: 27, Loss: 0.4388\n",
      " Val AP: 0.9685,  Val AUC: 0.9646\n",
      "Test AP: 0.9616, Test AUC: 0.9569\n",
      "  Epoch: 28, Loss: 0.4320\n",
      " Val AP: 0.9691,  Val AUC: 0.9647\n",
      "Test AP: 0.9617, Test AUC: 0.9570\n",
      "  Epoch: 29, Loss: 0.4255\n",
      " Val AP: 0.9704,  Val AUC: 0.9666\n",
      "Test AP: 0.9625, Test AUC: 0.9582\n",
      "  Epoch: 30, Loss: 0.4258\n",
      " Val AP: 0.9689,  Val AUC: 0.9648\n",
      "Test AP: 0.9611, Test AUC: 0.9566\n",
      "  Epoch: 31, Loss: 0.4210\n",
      " Val AP: 0.9700,  Val AUC: 0.9663\n",
      "Test AP: 0.9621, Test AUC: 0.9578\n",
      "  Epoch: 32, Loss: 0.4179\n",
      " Val AP: 0.9704,  Val AUC: 0.9667\n",
      "Test AP: 0.9623, Test AUC: 0.9584\n",
      "  Epoch: 33, Loss: 0.4153\n",
      " Val AP: 0.9698,  Val AUC: 0.9657\n",
      "Test AP: 0.9619, Test AUC: 0.9580\n",
      "  Epoch: 34, Loss: 0.4115\n",
      " Val AP: 0.9704,  Val AUC: 0.9666\n",
      "Test AP: 0.9635, Test AUC: 0.9594\n",
      "  Epoch: 35, Loss: 0.4084\n",
      " Val AP: 0.9698,  Val AUC: 0.9661\n",
      "Test AP: 0.9608, Test AUC: 0.9566\n",
      "  Epoch: 36, Loss: 0.4045\n",
      " Val AP: 0.9705,  Val AUC: 0.9667\n",
      "Test AP: 0.9631, Test AUC: 0.9592\n",
      "  Epoch: 37, Loss: 0.4039\n",
      " Val AP: 0.9701,  Val AUC: 0.9668\n",
      "Test AP: 0.9623, Test AUC: 0.9585\n",
      "  Epoch: 38, Loss: 0.4010\n",
      " Val AP: 0.9696,  Val AUC: 0.9663\n",
      "Test AP: 0.9623, Test AUC: 0.9588\n",
      "  Epoch: 39, Loss: 0.3979\n",
      " Val AP: 0.9698,  Val AUC: 0.9665\n",
      "Test AP: 0.9616, Test AUC: 0.9579\n",
      "  Epoch: 40, Loss: 0.3957\n",
      " Val AP: 0.9704,  Val AUC: 0.9669\n",
      "Test AP: 0.9623, Test AUC: 0.9587\n",
      "  Epoch: 41, Loss: 0.3923\n",
      " Val AP: 0.9708,  Val AUC: 0.9669\n",
      "Test AP: 0.9621, Test AUC: 0.9585\n",
      "  Epoch: 42, Loss: 0.3914\n",
      " Val AP: 0.9705,  Val AUC: 0.9667\n",
      "Test AP: 0.9626, Test AUC: 0.9591\n",
      "  Epoch: 43, Loss: 0.3857\n",
      " Val AP: 0.9691,  Val AUC: 0.9656\n",
      "Test AP: 0.9619, Test AUC: 0.9580\n",
      "  Epoch: 44, Loss: 0.3845\n",
      " Val AP: 0.9702,  Val AUC: 0.9668\n",
      "Test AP: 0.9620, Test AUC: 0.9577\n",
      "  Epoch: 45, Loss: 0.3801\n",
      " Val AP: 0.9705,  Val AUC: 0.9669\n",
      "Test AP: 0.9626, Test AUC: 0.9588\n",
      "  Epoch: 46, Loss: 0.3783\n",
      " Val AP: 0.9691,  Val AUC: 0.9656\n",
      "Test AP: 0.9612, Test AUC: 0.9572\n",
      "  Epoch: 47, Loss: 0.3739\n",
      " Val AP: 0.9706,  Val AUC: 0.9671\n",
      "Test AP: 0.9622, Test AUC: 0.9583\n",
      "  Epoch: 48, Loss: 0.3732\n",
      " Val AP: 0.9689,  Val AUC: 0.9653\n",
      "Test AP: 0.9614, Test AUC: 0.9575\n",
      "  Epoch: 49, Loss: 0.3724\n",
      " Val AP: 0.9683,  Val AUC: 0.9652\n",
      "Test AP: 0.9623, Test AUC: 0.9587\n",
      "  Epoch: 50, Loss: 0.3694\n",
      " Val AP: 0.9706,  Val AUC: 0.9673\n",
      "Test AP: 0.9609, Test AUC: 0.9573\n"
     ]
    }
   ],
   "source": [
    "train_loss=[]\n",
    "val_acc=[]\n",
    "test_acc=[]\n",
    "for epoch in range(1, 51):\n",
    "    loss = train()\n",
    "    train_loss.append(loss)\n",
    "    print(f'  Epoch: {epoch:02d}, Loss: {loss:.4f}')\n",
    "    val_ap, val_auc = test(val_data)\n",
    "    val_acc.append(val_ap)\n",
    "    test_ap, test_auc = test(test_data)\n",
    "    test_acc.append(test_ap)\n",
    "    print(f' Val AP: {val_ap:.4f},  Val AUC: {val_auc:.4f}')\n",
    "    print(f'Test AP: {test_ap:.4f}, Test AUC: {test_auc:.4f}')"
   ]
  },
  {
   "cell_type": "code",
   "execution_count": 40,
   "metadata": {},
   "outputs": [
    {
     "data": {
      "text/plain": [
       "tensor([8227, 8228, 8228,  ..., 8722, 9147, 8722])"
      ]
     },
     "execution_count": 40,
     "metadata": {},
     "output_type": "execute_result"
    }
   ],
   "source": [
    "data['dst']"
   ]
  },
  {
   "cell_type": "code",
   "execution_count": 52,
   "metadata": {},
   "outputs": [
    {
     "data": {
      "text/plain": [
       "<matplotlib.legend.Legend at 0x1ea32862370>"
      ]
     },
     "execution_count": 52,
     "metadata": {},
     "output_type": "execute_result"
    },
    {
     "data": {
      "image/png": "[encoded data removed]",
      "text/plain": [
       "<Figure size 1080x576 with 2 Axes>"
      ]
     },
     "metadata": {
      "needs_background": "light"
     },
     "output_type": "display_data"
    }
   ],
   "source": [
    "fig, (ax1, ax2) = plt.subplots(1, 2)\n",
    "fig.set_figheight(8)\n",
    "fig.set_figwidth(15)\n",
    "fig.suptitle('TGN Performance for Link Prediction on Wikipedia')\n",
    "#ax1.plot(range(1,51),train_l,label='Train')\n",
    "ax1.plot(range(1,51),val_acc,label='Val')\n",
    "ax1.plot(range(1,51),test_acc,label='Test')\n",
    "#ax1.title('Binary CrossEntropy Loss')\n",
    "ax1.set_title('Average Percision Score')\n",
    "ax1.set(xlabel='Iteration', ylabel='BCE Loss')\n",
    "ax1.legend()"
   ]
  },
  {
   "cell_type": "code",
   "execution_count": null,
   "metadata": {},
   "outputs": [],
   "source": []
  }
 ],
 "metadata": {
  "kernelspec": {
   "display_name": "Python 3",
   "language": "python",
   "name": "python3"
  },
  "language_info": {
   "codemirror_mode": {
    "name": "ipython",
    "version": 3
   },
   "file_extension": ".py",
   "mimetype": "text/x-python",
   "name": "python",
   "nbconvert_exporter": "python",
   "pygments_lexer": "ipython3",
   "version": "3.8.3"
  }
 },
 "nbformat": 4,
 "nbformat_minor": 4
}
